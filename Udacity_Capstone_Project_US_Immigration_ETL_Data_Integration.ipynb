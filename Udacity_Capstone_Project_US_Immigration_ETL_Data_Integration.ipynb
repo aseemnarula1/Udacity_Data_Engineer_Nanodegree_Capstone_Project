{
 "cells": [
  {
   "cell_type": "markdown",
   "metadata": {
    "_cell_guid": "7f4bec84-23f4-4359-a409-29e379dca6e9",
    "_uuid": "49dc335e-89d8-447a-98bc-cf5abdf1b166"
   },
   "source": [
    "# Udacity Data Engineer - US Airports and Immigration Data Integration and ETL Data Pipeline\n",
    "\n",
    "### Data Engineering Capstone Project\n",
    "\n",
    "#### Project Summary\n",
    "\n",
    "The main aim of this project is to integrate I94 immigration data, world temperature data and US demographic data with ETL data pipelines to build the a data warehouse with fact and dimension tables to derive and generate the data insights for the business reporting.\n",
    "\n",
    "\n",
    "The project follows the follow steps:\n",
    "* Step 1: Scope the Project and Gather Data\n",
    "* Step 2: Explore and Assess the Data\n",
    "* Step 3: Define the Data Model\n",
    "* Step 4: Run ETL to Model the Data\n",
    "* Step 5: Complete Project Write Up"
   ]
  },
  {
   "cell_type": "markdown",
   "metadata": {
    "_cell_guid": "60830ef5-f39c-454e-8ae2-c9db2a069f73",
    "_uuid": "a887666e-f125-4dc2-8b0d-88bbd7b0f3ae"
   },
   "source": [
    "###  Step 0 : Imporing the Required Python Libraries and Modules"
   ]
  },
  {
   "cell_type": "code",
   "execution_count": 3,
   "metadata": {
    "_cell_guid": "3d612de9-3b3a-4c0b-b795-f580b8628431",
    "_uuid": "468735dc-69cd-4b61-8e39-5bc1b8e7170a",
    "execution": {
     "iopub.execute_input": "2023-12-29T04:34:59.159788Z",
     "iopub.status.busy": "2023-12-29T04:34:59.159394Z",
     "iopub.status.idle": "2023-12-29T04:34:59.238193Z",
     "shell.execute_reply": "2023-12-29T04:34:59.237231Z",
     "shell.execute_reply.started": "2023-12-29T04:34:59.159747Z"
    },
    "jupyter": {
     "outputs_hidden": false
    }
   },
   "outputs": [],
   "source": [
    "# Importing the Python Libraries and Modules e.g. Pandas, PySpark etc.\n",
    "\n",
    "import pandas as pd\n",
    "import os\n",
    "import pyspark.sql.functions as F\n",
    "from pyspark.sql.functions import udf, col, to_timestamp\n",
    "from pyspark.sql.functions import year, month, dayofmonth, hour, weekofyear,dayofweek\n",
    "from pyspark.sql.types import *\n",
    "\n",
    "from datetime import datetime\n",
    "from pyspark.sql import SparkSession\n",
    "from pyspark.sql.window import Window"
   ]
  },
  {
   "cell_type": "markdown",
   "metadata": {
    "_cell_guid": "0261c237-b346-4beb-974b-e0549695f868",
    "_uuid": "3a1909a3-eaec-4198-b689-03ac928d748b"
   },
   "source": [
    "### Step 1: Scope the Project and Gather Data\n",
    "\n",
    "#### Scope \n",
    "The main aim of this project is to integrate I94 immigration data, world temperature data and US demographic data with ETL data pipelines to build the a data warehouse with fact and dimension tables to derive and generate the data insights for the business reporting.\n",
    "\n",
    "#### Describe and Gather Data \n",
    "The datasets are the input flat files majorly in the CSV, SAS file formats from various sources,we will be first analysing the datasets followed by clearing the source data.\n",
    "\n",
    "\n",
    "#### Datasets\n",
    "The following datasets are included in the project workspace. \n",
    "\n",
    "##### I94 Immigration Data: \n",
    "\n",
    "This data comes from the US National Tourism and Trade Office. Each report contains international visitor arrival statistics by world regions and select countries (including top 20), type of visa, mode of transportation, age groups, states visited (first intended address only), and the top ports of entry (for select countries). https://travel.trade.gov/research/reports/i94/historical/2016.html\n",
    "\n",
    "##### World Temperature Data: \n",
    "This dataset came from Kaggle. https://www.kaggle.com/datasets/berkeleyearth/climate-change-earth-surface-temperature-data\n",
    "\n",
    "##### U.S. City Demographic Data: \n",
    "This data comes from OpenSoft. https://public.opendatasoft.com/explore/dataset/us-cities-demographics/export/\n",
    "\n",
    "##### Airport Code Table: \n",
    "This is a simple table of airport codes and corresponding cities. https://datahub.io/core/airport-codes#data"
   ]
  },
  {
   "cell_type": "markdown",
   "metadata": {
    "_cell_guid": "f7d9398e-6278-4108-a170-6072b24f5010",
    "_uuid": "b8571478-c504-4331-a16e-feacf3cdc313"
   },
   "source": [
    "##### Reading the Immigration Data in Dataframe"
   ]
  },
  {
   "cell_type": "code",
   "execution_count": 5,
   "metadata": {
    "_cell_guid": "07ecbb8f-e16e-4f1e-abf2-ed9f3998033a",
    "_uuid": "9e9ab0b5-bb8a-49f8-9321-078df3fbe530",
    "execution": {
     "iopub.execute_input": "2023-12-29T04:34:59.247025Z",
     "iopub.status.busy": "2023-12-29T04:34:59.246784Z",
     "iopub.status.idle": "2023-12-29T04:34:59.281537Z",
     "shell.execute_reply": "2023-12-29T04:34:59.280577Z",
     "shell.execute_reply.started": "2023-12-29T04:34:59.247002Z"
    },
    "jupyter": {
     "outputs_hidden": false
    }
   },
   "outputs": [],
   "source": [
    "# Reading the Immigration Data in the Dataframe\n",
    "df_immigration_data = pd.read_csv(\"/workspace/home/immigration_data_sample.csv\")"
   ]
  },
  {
   "cell_type": "code",
   "execution_count": 6,
   "metadata": {
    "_cell_guid": "22d3446f-61c0-4d11-9852-bff51b18f1d7",
    "_uuid": "4bd5ffb5-4a7b-4720-851a-69aff3d1653c",
    "execution": {
     "iopub.execute_input": "2023-12-29T04:34:59.283348Z",
     "iopub.status.busy": "2023-12-29T04:34:59.282687Z",
     "iopub.status.idle": "2023-12-29T04:34:59.326128Z",
     "shell.execute_reply": "2023-12-29T04:34:59.324799Z",
     "shell.execute_reply.started": "2023-12-29T04:34:59.283323Z"
    },
    "jupyter": {
     "outputs_hidden": false
    }
   },
   "outputs": [
    {
     "data": {
      "text/html": [
       "<div>\n",
       "<style scoped>\n",
       "    .dataframe tbody tr th:only-of-type {\n",
       "        vertical-align: middle;\n",
       "    }\n",
       "\n",
       "    .dataframe tbody tr th {\n",
       "        vertical-align: top;\n",
       "    }\n",
       "\n",
       "    .dataframe thead th {\n",
       "        text-align: right;\n",
       "    }\n",
       "</style>\n",
       "<table border=\"1\" class=\"dataframe\">\n",
       "  <thead>\n",
       "    <tr style=\"text-align: right;\">\n",
       "      <th></th>\n",
       "      <th>Unnamed: 0</th>\n",
       "      <th>cicid</th>\n",
       "      <th>i94yr</th>\n",
       "      <th>i94mon</th>\n",
       "      <th>i94cit</th>\n",
       "      <th>i94res</th>\n",
       "      <th>i94port</th>\n",
       "      <th>arrdate</th>\n",
       "      <th>i94mode</th>\n",
       "      <th>i94addr</th>\n",
       "      <th>...</th>\n",
       "      <th>entdepu</th>\n",
       "      <th>matflag</th>\n",
       "      <th>biryear</th>\n",
       "      <th>dtaddto</th>\n",
       "      <th>gender</th>\n",
       "      <th>insnum</th>\n",
       "      <th>airline</th>\n",
       "      <th>admnum</th>\n",
       "      <th>fltno</th>\n",
       "      <th>visatype</th>\n",
       "    </tr>\n",
       "  </thead>\n",
       "  <tbody>\n",
       "    <tr>\n",
       "      <th>0</th>\n",
       "      <td>2027561</td>\n",
       "      <td>4084316.0</td>\n",
       "      <td>2016.0</td>\n",
       "      <td>4.0</td>\n",
       "      <td>209.0</td>\n",
       "      <td>209.0</td>\n",
       "      <td>HHW</td>\n",
       "      <td>20566.0</td>\n",
       "      <td>1.0</td>\n",
       "      <td>HI</td>\n",
       "      <td>...</td>\n",
       "      <td>NaN</td>\n",
       "      <td>M</td>\n",
       "      <td>1955.0</td>\n",
       "      <td>07202016</td>\n",
       "      <td>F</td>\n",
       "      <td>NaN</td>\n",
       "      <td>JL</td>\n",
       "      <td>5.658267e+10</td>\n",
       "      <td>00782</td>\n",
       "      <td>WT</td>\n",
       "    </tr>\n",
       "    <tr>\n",
       "      <th>1</th>\n",
       "      <td>2171295</td>\n",
       "      <td>4422636.0</td>\n",
       "      <td>2016.0</td>\n",
       "      <td>4.0</td>\n",
       "      <td>582.0</td>\n",
       "      <td>582.0</td>\n",
       "      <td>MCA</td>\n",
       "      <td>20567.0</td>\n",
       "      <td>1.0</td>\n",
       "      <td>TX</td>\n",
       "      <td>...</td>\n",
       "      <td>NaN</td>\n",
       "      <td>M</td>\n",
       "      <td>1990.0</td>\n",
       "      <td>10222016</td>\n",
       "      <td>M</td>\n",
       "      <td>NaN</td>\n",
       "      <td>*GA</td>\n",
       "      <td>9.436200e+10</td>\n",
       "      <td>XBLNG</td>\n",
       "      <td>B2</td>\n",
       "    </tr>\n",
       "    <tr>\n",
       "      <th>2</th>\n",
       "      <td>589494</td>\n",
       "      <td>1195600.0</td>\n",
       "      <td>2016.0</td>\n",
       "      <td>4.0</td>\n",
       "      <td>148.0</td>\n",
       "      <td>112.0</td>\n",
       "      <td>OGG</td>\n",
       "      <td>20551.0</td>\n",
       "      <td>1.0</td>\n",
       "      <td>FL</td>\n",
       "      <td>...</td>\n",
       "      <td>NaN</td>\n",
       "      <td>M</td>\n",
       "      <td>1940.0</td>\n",
       "      <td>07052016</td>\n",
       "      <td>M</td>\n",
       "      <td>NaN</td>\n",
       "      <td>LH</td>\n",
       "      <td>5.578047e+10</td>\n",
       "      <td>00464</td>\n",
       "      <td>WT</td>\n",
       "    </tr>\n",
       "    <tr>\n",
       "      <th>3</th>\n",
       "      <td>2631158</td>\n",
       "      <td>5291768.0</td>\n",
       "      <td>2016.0</td>\n",
       "      <td>4.0</td>\n",
       "      <td>297.0</td>\n",
       "      <td>297.0</td>\n",
       "      <td>LOS</td>\n",
       "      <td>20572.0</td>\n",
       "      <td>1.0</td>\n",
       "      <td>CA</td>\n",
       "      <td>...</td>\n",
       "      <td>NaN</td>\n",
       "      <td>M</td>\n",
       "      <td>1991.0</td>\n",
       "      <td>10272016</td>\n",
       "      <td>M</td>\n",
       "      <td>NaN</td>\n",
       "      <td>QR</td>\n",
       "      <td>9.478970e+10</td>\n",
       "      <td>00739</td>\n",
       "      <td>B2</td>\n",
       "    </tr>\n",
       "    <tr>\n",
       "      <th>4</th>\n",
       "      <td>3032257</td>\n",
       "      <td>985523.0</td>\n",
       "      <td>2016.0</td>\n",
       "      <td>4.0</td>\n",
       "      <td>111.0</td>\n",
       "      <td>111.0</td>\n",
       "      <td>CHM</td>\n",
       "      <td>20550.0</td>\n",
       "      <td>3.0</td>\n",
       "      <td>NY</td>\n",
       "      <td>...</td>\n",
       "      <td>NaN</td>\n",
       "      <td>M</td>\n",
       "      <td>1997.0</td>\n",
       "      <td>07042016</td>\n",
       "      <td>F</td>\n",
       "      <td>NaN</td>\n",
       "      <td>NaN</td>\n",
       "      <td>4.232257e+10</td>\n",
       "      <td>LAND</td>\n",
       "      <td>WT</td>\n",
       "    </tr>\n",
       "  </tbody>\n",
       "</table>\n",
       "<p>5 rows × 29 columns</p>\n",
       "</div>"
      ],
      "text/plain": [
       "   Unnamed: 0      cicid   i94yr  i94mon  i94cit  i94res i94port  arrdate  \\\n",
       "0     2027561  4084316.0  2016.0     4.0   209.0   209.0     HHW  20566.0   \n",
       "1     2171295  4422636.0  2016.0     4.0   582.0   582.0     MCA  20567.0   \n",
       "2      589494  1195600.0  2016.0     4.0   148.0   112.0     OGG  20551.0   \n",
       "3     2631158  5291768.0  2016.0     4.0   297.0   297.0     LOS  20572.0   \n",
       "4     3032257   985523.0  2016.0     4.0   111.0   111.0     CHM  20550.0   \n",
       "\n",
       "   i94mode i94addr  ...  entdepu  matflag  biryear   dtaddto  gender insnum  \\\n",
       "0      1.0      HI  ...      NaN        M   1955.0  07202016       F    NaN   \n",
       "1      1.0      TX  ...      NaN        M   1990.0  10222016       M    NaN   \n",
       "2      1.0      FL  ...      NaN        M   1940.0  07052016       M    NaN   \n",
       "3      1.0      CA  ...      NaN        M   1991.0  10272016       M    NaN   \n",
       "4      3.0      NY  ...      NaN        M   1997.0  07042016       F    NaN   \n",
       "\n",
       "  airline        admnum  fltno  visatype  \n",
       "0      JL  5.658267e+10  00782        WT  \n",
       "1     *GA  9.436200e+10  XBLNG        B2  \n",
       "2      LH  5.578047e+10  00464        WT  \n",
       "3      QR  9.478970e+10  00739        B2  \n",
       "4     NaN  4.232257e+10   LAND        WT  \n",
       "\n",
       "[5 rows x 29 columns]"
      ]
     },
     "execution_count": 6,
     "metadata": {},
     "output_type": "execute_result"
    }
   ],
   "source": [
    "# Displaying rows to preview the immigration data\n",
    "\n",
    "df_immigration_data.head()"
   ]
  },
  {
   "cell_type": "markdown",
   "metadata": {
    "_cell_guid": "754c369c-c197-435b-832b-8262351e82e7",
    "_uuid": "61b23b15-b5d2-4132-a3f3-bd9ba883a1be"
   },
   "source": [
    "##### Reading the Global Land Temparature by City Data in the Dataframe"
   ]
  },
  {
   "cell_type": "code",
   "execution_count": 7,
   "metadata": {
    "_cell_guid": "eacfee38-0bf9-4f0d-87f7-1dc687235e26",
    "_uuid": "77b8ac5b-9388-43a9-a235-df5c7f923863",
    "execution": {
     "iopub.execute_input": "2023-12-29T04:34:59.327373Z",
     "iopub.status.busy": "2023-12-29T04:34:59.327095Z",
     "iopub.status.idle": "2023-12-29T04:35:10.493394Z",
     "shell.execute_reply": "2023-12-29T04:35:10.492280Z",
     "shell.execute_reply.started": "2023-12-29T04:34:59.327348Z"
    },
    "jupyter": {
     "outputs_hidden": false
    }
   },
   "outputs": [],
   "source": [
    "# Reading the Global Temparature by City Data in the Dataframe\n",
    "\n",
    "df_temperature_data = pd.read_csv(\"../../data2/GlobalLandTemperaturesByCity.csv\")"
   ]
  },
  {
   "cell_type": "code",
   "execution_count": 8,
   "metadata": {
    "_cell_guid": "ee5bf405-b370-474a-9468-2274536ac75a",
    "_uuid": "44557001-b6e5-4170-af84-37af2e44f69c",
    "execution": {
     "iopub.execute_input": "2023-12-29T04:35:10.495076Z",
     "iopub.status.busy": "2023-12-29T04:35:10.494776Z",
     "iopub.status.idle": "2023-12-29T04:35:10.507815Z",
     "shell.execute_reply": "2023-12-29T04:35:10.506702Z",
     "shell.execute_reply.started": "2023-12-29T04:35:10.495051Z"
    },
    "jupyter": {
     "outputs_hidden": false
    }
   },
   "outputs": [
    {
     "data": {
      "text/html": [
       "<div>\n",
       "<style scoped>\n",
       "    .dataframe tbody tr th:only-of-type {\n",
       "        vertical-align: middle;\n",
       "    }\n",
       "\n",
       "    .dataframe tbody tr th {\n",
       "        vertical-align: top;\n",
       "    }\n",
       "\n",
       "    .dataframe thead th {\n",
       "        text-align: right;\n",
       "    }\n",
       "</style>\n",
       "<table border=\"1\" class=\"dataframe\">\n",
       "  <thead>\n",
       "    <tr style=\"text-align: right;\">\n",
       "      <th></th>\n",
       "      <th>dt</th>\n",
       "      <th>AverageTemperature</th>\n",
       "      <th>AverageTemperatureUncertainty</th>\n",
       "      <th>City</th>\n",
       "      <th>Country</th>\n",
       "      <th>Latitude</th>\n",
       "      <th>Longitude</th>\n",
       "    </tr>\n",
       "  </thead>\n",
       "  <tbody>\n",
       "    <tr>\n",
       "      <th>0</th>\n",
       "      <td>1743-11-01</td>\n",
       "      <td>6.068</td>\n",
       "      <td>1.737</td>\n",
       "      <td>Århus</td>\n",
       "      <td>Denmark</td>\n",
       "      <td>57.05N</td>\n",
       "      <td>10.33E</td>\n",
       "    </tr>\n",
       "    <tr>\n",
       "      <th>1</th>\n",
       "      <td>1743-12-01</td>\n",
       "      <td>NaN</td>\n",
       "      <td>NaN</td>\n",
       "      <td>Århus</td>\n",
       "      <td>Denmark</td>\n",
       "      <td>57.05N</td>\n",
       "      <td>10.33E</td>\n",
       "    </tr>\n",
       "    <tr>\n",
       "      <th>2</th>\n",
       "      <td>1744-01-01</td>\n",
       "      <td>NaN</td>\n",
       "      <td>NaN</td>\n",
       "      <td>Århus</td>\n",
       "      <td>Denmark</td>\n",
       "      <td>57.05N</td>\n",
       "      <td>10.33E</td>\n",
       "    </tr>\n",
       "    <tr>\n",
       "      <th>3</th>\n",
       "      <td>1744-02-01</td>\n",
       "      <td>NaN</td>\n",
       "      <td>NaN</td>\n",
       "      <td>Århus</td>\n",
       "      <td>Denmark</td>\n",
       "      <td>57.05N</td>\n",
       "      <td>10.33E</td>\n",
       "    </tr>\n",
       "    <tr>\n",
       "      <th>4</th>\n",
       "      <td>1744-03-01</td>\n",
       "      <td>NaN</td>\n",
       "      <td>NaN</td>\n",
       "      <td>Århus</td>\n",
       "      <td>Denmark</td>\n",
       "      <td>57.05N</td>\n",
       "      <td>10.33E</td>\n",
       "    </tr>\n",
       "  </tbody>\n",
       "</table>\n",
       "</div>"
      ],
      "text/plain": [
       "           dt  AverageTemperature  AverageTemperatureUncertainty   City  \\\n",
       "0  1743-11-01               6.068                          1.737  Århus   \n",
       "1  1743-12-01                 NaN                            NaN  Århus   \n",
       "2  1744-01-01                 NaN                            NaN  Århus   \n",
       "3  1744-02-01                 NaN                            NaN  Århus   \n",
       "4  1744-03-01                 NaN                            NaN  Århus   \n",
       "\n",
       "   Country Latitude Longitude  \n",
       "0  Denmark   57.05N    10.33E  \n",
       "1  Denmark   57.05N    10.33E  \n",
       "2  Denmark   57.05N    10.33E  \n",
       "3  Denmark   57.05N    10.33E  \n",
       "4  Denmark   57.05N    10.33E  "
      ]
     },
     "execution_count": 8,
     "metadata": {},
     "output_type": "execute_result"
    }
   ],
   "source": [
    "# Displaying rows to preview the Global Temparature by City Data\n",
    "\n",
    "df_temperature_data.head()"
   ]
  },
  {
   "cell_type": "markdown",
   "metadata": {
    "_cell_guid": "c9913303-6aa0-4d3a-9faf-d7b0b4bf5d9d",
    "_uuid": "889dc5a2-e43f-4a00-9e45-54a5a76b9c21"
   },
   "source": [
    "##### Reading the U.S. City Demographic Data in the Dataframe"
   ]
  },
  {
   "cell_type": "code",
   "execution_count": 9,
   "metadata": {
    "_cell_guid": "67d6d0ec-8251-4f8a-9baf-1d238277f06d",
    "_uuid": "848c9d4c-4f38-4003-824d-06c22d2cb6bb",
    "execution": {
     "iopub.execute_input": "2023-12-29T04:35:10.509291Z",
     "iopub.status.busy": "2023-12-29T04:35:10.509022Z",
     "iopub.status.idle": "2023-12-29T04:35:10.537485Z",
     "shell.execute_reply": "2023-12-29T04:35:10.536277Z",
     "shell.execute_reply.started": "2023-12-29T04:35:10.509268Z"
    },
    "jupyter": {
     "outputs_hidden": false
    }
   },
   "outputs": [],
   "source": [
    "# Reading the US City Demographic Data in the Dataframe\n",
    "\n",
    "df_demographics_data = pd.read_csv(\"us-cities-demographics.csv\",delimiter=';')"
   ]
  },
  {
   "cell_type": "code",
   "execution_count": 10,
   "metadata": {
    "_cell_guid": "f29da1f2-c7a2-422e-a348-db78ca6b1799",
    "_uuid": "c3991c31-a429-4de3-a6c0-a8fc9be24464",
    "execution": {
     "iopub.execute_input": "2023-12-29T04:35:10.542643Z",
     "iopub.status.busy": "2023-12-29T04:35:10.542253Z",
     "iopub.status.idle": "2023-12-29T04:35:10.558268Z",
     "shell.execute_reply": "2023-12-29T04:35:10.556998Z",
     "shell.execute_reply.started": "2023-12-29T04:35:10.542616Z"
    },
    "jupyter": {
     "outputs_hidden": false
    }
   },
   "outputs": [
    {
     "data": {
      "text/html": [
       "<div>\n",
       "<style scoped>\n",
       "    .dataframe tbody tr th:only-of-type {\n",
       "        vertical-align: middle;\n",
       "    }\n",
       "\n",
       "    .dataframe tbody tr th {\n",
       "        vertical-align: top;\n",
       "    }\n",
       "\n",
       "    .dataframe thead th {\n",
       "        text-align: right;\n",
       "    }\n",
       "</style>\n",
       "<table border=\"1\" class=\"dataframe\">\n",
       "  <thead>\n",
       "    <tr style=\"text-align: right;\">\n",
       "      <th></th>\n",
       "      <th>City</th>\n",
       "      <th>State</th>\n",
       "      <th>Median Age</th>\n",
       "      <th>Male Population</th>\n",
       "      <th>Female Population</th>\n",
       "      <th>Total Population</th>\n",
       "      <th>Number of Veterans</th>\n",
       "      <th>Foreign-born</th>\n",
       "      <th>Average Household Size</th>\n",
       "      <th>State Code</th>\n",
       "      <th>Race</th>\n",
       "      <th>Count</th>\n",
       "    </tr>\n",
       "  </thead>\n",
       "  <tbody>\n",
       "    <tr>\n",
       "      <th>0</th>\n",
       "      <td>Silver Spring</td>\n",
       "      <td>Maryland</td>\n",
       "      <td>33.8</td>\n",
       "      <td>40601.0</td>\n",
       "      <td>41862.0</td>\n",
       "      <td>82463</td>\n",
       "      <td>1562.0</td>\n",
       "      <td>30908.0</td>\n",
       "      <td>2.60</td>\n",
       "      <td>MD</td>\n",
       "      <td>Hispanic or Latino</td>\n",
       "      <td>25924</td>\n",
       "    </tr>\n",
       "    <tr>\n",
       "      <th>1</th>\n",
       "      <td>Quincy</td>\n",
       "      <td>Massachusetts</td>\n",
       "      <td>41.0</td>\n",
       "      <td>44129.0</td>\n",
       "      <td>49500.0</td>\n",
       "      <td>93629</td>\n",
       "      <td>4147.0</td>\n",
       "      <td>32935.0</td>\n",
       "      <td>2.39</td>\n",
       "      <td>MA</td>\n",
       "      <td>White</td>\n",
       "      <td>58723</td>\n",
       "    </tr>\n",
       "    <tr>\n",
       "      <th>2</th>\n",
       "      <td>Hoover</td>\n",
       "      <td>Alabama</td>\n",
       "      <td>38.5</td>\n",
       "      <td>38040.0</td>\n",
       "      <td>46799.0</td>\n",
       "      <td>84839</td>\n",
       "      <td>4819.0</td>\n",
       "      <td>8229.0</td>\n",
       "      <td>2.58</td>\n",
       "      <td>AL</td>\n",
       "      <td>Asian</td>\n",
       "      <td>4759</td>\n",
       "    </tr>\n",
       "    <tr>\n",
       "      <th>3</th>\n",
       "      <td>Rancho Cucamonga</td>\n",
       "      <td>California</td>\n",
       "      <td>34.5</td>\n",
       "      <td>88127.0</td>\n",
       "      <td>87105.0</td>\n",
       "      <td>175232</td>\n",
       "      <td>5821.0</td>\n",
       "      <td>33878.0</td>\n",
       "      <td>3.18</td>\n",
       "      <td>CA</td>\n",
       "      <td>Black or African-American</td>\n",
       "      <td>24437</td>\n",
       "    </tr>\n",
       "    <tr>\n",
       "      <th>4</th>\n",
       "      <td>Newark</td>\n",
       "      <td>New Jersey</td>\n",
       "      <td>34.6</td>\n",
       "      <td>138040.0</td>\n",
       "      <td>143873.0</td>\n",
       "      <td>281913</td>\n",
       "      <td>5829.0</td>\n",
       "      <td>86253.0</td>\n",
       "      <td>2.73</td>\n",
       "      <td>NJ</td>\n",
       "      <td>White</td>\n",
       "      <td>76402</td>\n",
       "    </tr>\n",
       "  </tbody>\n",
       "</table>\n",
       "</div>"
      ],
      "text/plain": [
       "               City          State  Median Age  Male Population  \\\n",
       "0     Silver Spring       Maryland        33.8          40601.0   \n",
       "1            Quincy  Massachusetts        41.0          44129.0   \n",
       "2            Hoover        Alabama        38.5          38040.0   \n",
       "3  Rancho Cucamonga     California        34.5          88127.0   \n",
       "4            Newark     New Jersey        34.6         138040.0   \n",
       "\n",
       "   Female Population  Total Population  Number of Veterans  Foreign-born  \\\n",
       "0            41862.0             82463              1562.0       30908.0   \n",
       "1            49500.0             93629              4147.0       32935.0   \n",
       "2            46799.0             84839              4819.0        8229.0   \n",
       "3            87105.0            175232              5821.0       33878.0   \n",
       "4           143873.0            281913              5829.0       86253.0   \n",
       "\n",
       "   Average Household Size State Code                       Race  Count  \n",
       "0                    2.60         MD         Hispanic or Latino  25924  \n",
       "1                    2.39         MA                      White  58723  \n",
       "2                    2.58         AL                      Asian   4759  \n",
       "3                    3.18         CA  Black or African-American  24437  \n",
       "4                    2.73         NJ                      White  76402  "
      ]
     },
     "execution_count": 10,
     "metadata": {},
     "output_type": "execute_result"
    }
   ],
   "source": [
    "# Previewing the Demo Graphics Data\n",
    "\n",
    "df_demographics_data.head(5)"
   ]
  },
  {
   "cell_type": "markdown",
   "metadata": {
    "_cell_guid": "0fe7b3f4-9096-407b-b161-80248ed8aaec",
    "_uuid": "a17fd20b-aca4-497e-aa49-e89121e1a65d"
   },
   "source": [
    "##### Reading the Airports Code Data in the Dataframe"
   ]
  },
  {
   "cell_type": "code",
   "execution_count": 11,
   "metadata": {
    "_cell_guid": "3e524dad-8b99-4f9a-b93f-01421982af80",
    "_uuid": "d51e487a-f501-4f86-8cbd-b40f4d6ef44f",
    "execution": {
     "iopub.execute_input": "2023-12-29T04:35:10.560007Z",
     "iopub.status.busy": "2023-12-29T04:35:10.559711Z",
     "iopub.status.idle": "2023-12-29T04:35:10.819384Z",
     "shell.execute_reply": "2023-12-29T04:35:10.818307Z",
     "shell.execute_reply.started": "2023-12-29T04:35:10.559982Z"
    },
    "jupyter": {
     "outputs_hidden": false
    }
   },
   "outputs": [],
   "source": [
    "# Reading the Airports Code Data in the Dataframe\n",
    "\n",
    "df_airports_code_data = pd.read_csv(\"airport-codes_csv.csv\")"
   ]
  },
  {
   "cell_type": "code",
   "execution_count": 12,
   "metadata": {
    "_cell_guid": "664a8de1-bd16-4ee2-b60e-7f8751ed5ba7",
    "_uuid": "a60bd025-bdbe-4ad1-9cff-04112143de2d",
    "execution": {
     "iopub.execute_input": "2023-12-29T04:35:10.820955Z",
     "iopub.status.busy": "2023-12-29T04:35:10.820668Z",
     "iopub.status.idle": "2023-12-29T04:35:10.836276Z",
     "shell.execute_reply": "2023-12-29T04:35:10.835214Z",
     "shell.execute_reply.started": "2023-12-29T04:35:10.820929Z"
    },
    "jupyter": {
     "outputs_hidden": false
    }
   },
   "outputs": [
    {
     "data": {
      "text/html": [
       "<div>\n",
       "<style scoped>\n",
       "    .dataframe tbody tr th:only-of-type {\n",
       "        vertical-align: middle;\n",
       "    }\n",
       "\n",
       "    .dataframe tbody tr th {\n",
       "        vertical-align: top;\n",
       "    }\n",
       "\n",
       "    .dataframe thead th {\n",
       "        text-align: right;\n",
       "    }\n",
       "</style>\n",
       "<table border=\"1\" class=\"dataframe\">\n",
       "  <thead>\n",
       "    <tr style=\"text-align: right;\">\n",
       "      <th></th>\n",
       "      <th>ident</th>\n",
       "      <th>type</th>\n",
       "      <th>name</th>\n",
       "      <th>elevation_ft</th>\n",
       "      <th>continent</th>\n",
       "      <th>iso_country</th>\n",
       "      <th>iso_region</th>\n",
       "      <th>municipality</th>\n",
       "      <th>gps_code</th>\n",
       "      <th>iata_code</th>\n",
       "      <th>local_code</th>\n",
       "      <th>coordinates</th>\n",
       "    </tr>\n",
       "  </thead>\n",
       "  <tbody>\n",
       "    <tr>\n",
       "      <th>0</th>\n",
       "      <td>00A</td>\n",
       "      <td>heliport</td>\n",
       "      <td>Total Rf Heliport</td>\n",
       "      <td>11.0</td>\n",
       "      <td>NaN</td>\n",
       "      <td>US</td>\n",
       "      <td>US-PA</td>\n",
       "      <td>Bensalem</td>\n",
       "      <td>00A</td>\n",
       "      <td>NaN</td>\n",
       "      <td>00A</td>\n",
       "      <td>-74.93360137939453, 40.07080078125</td>\n",
       "    </tr>\n",
       "    <tr>\n",
       "      <th>1</th>\n",
       "      <td>00AA</td>\n",
       "      <td>small_airport</td>\n",
       "      <td>Aero B Ranch Airport</td>\n",
       "      <td>3435.0</td>\n",
       "      <td>NaN</td>\n",
       "      <td>US</td>\n",
       "      <td>US-KS</td>\n",
       "      <td>Leoti</td>\n",
       "      <td>00AA</td>\n",
       "      <td>NaN</td>\n",
       "      <td>00AA</td>\n",
       "      <td>-101.473911, 38.704022</td>\n",
       "    </tr>\n",
       "    <tr>\n",
       "      <th>2</th>\n",
       "      <td>00AK</td>\n",
       "      <td>small_airport</td>\n",
       "      <td>Lowell Field</td>\n",
       "      <td>450.0</td>\n",
       "      <td>NaN</td>\n",
       "      <td>US</td>\n",
       "      <td>US-AK</td>\n",
       "      <td>Anchor Point</td>\n",
       "      <td>00AK</td>\n",
       "      <td>NaN</td>\n",
       "      <td>00AK</td>\n",
       "      <td>-151.695999146, 59.94919968</td>\n",
       "    </tr>\n",
       "    <tr>\n",
       "      <th>3</th>\n",
       "      <td>00AL</td>\n",
       "      <td>small_airport</td>\n",
       "      <td>Epps Airpark</td>\n",
       "      <td>820.0</td>\n",
       "      <td>NaN</td>\n",
       "      <td>US</td>\n",
       "      <td>US-AL</td>\n",
       "      <td>Harvest</td>\n",
       "      <td>00AL</td>\n",
       "      <td>NaN</td>\n",
       "      <td>00AL</td>\n",
       "      <td>-86.77030181884766, 34.86479949951172</td>\n",
       "    </tr>\n",
       "    <tr>\n",
       "      <th>4</th>\n",
       "      <td>00AR</td>\n",
       "      <td>closed</td>\n",
       "      <td>Newport Hospital &amp; Clinic Heliport</td>\n",
       "      <td>237.0</td>\n",
       "      <td>NaN</td>\n",
       "      <td>US</td>\n",
       "      <td>US-AR</td>\n",
       "      <td>Newport</td>\n",
       "      <td>NaN</td>\n",
       "      <td>NaN</td>\n",
       "      <td>NaN</td>\n",
       "      <td>-91.254898, 35.6087</td>\n",
       "    </tr>\n",
       "  </tbody>\n",
       "</table>\n",
       "</div>"
      ],
      "text/plain": [
       "  ident           type                                name  elevation_ft  \\\n",
       "0   00A       heliport                   Total Rf Heliport          11.0   \n",
       "1  00AA  small_airport                Aero B Ranch Airport        3435.0   \n",
       "2  00AK  small_airport                        Lowell Field         450.0   \n",
       "3  00AL  small_airport                        Epps Airpark         820.0   \n",
       "4  00AR         closed  Newport Hospital & Clinic Heliport         237.0   \n",
       "\n",
       "  continent iso_country iso_region  municipality gps_code iata_code  \\\n",
       "0       NaN          US      US-PA      Bensalem      00A       NaN   \n",
       "1       NaN          US      US-KS         Leoti     00AA       NaN   \n",
       "2       NaN          US      US-AK  Anchor Point     00AK       NaN   \n",
       "3       NaN          US      US-AL       Harvest     00AL       NaN   \n",
       "4       NaN          US      US-AR       Newport      NaN       NaN   \n",
       "\n",
       "  local_code                            coordinates  \n",
       "0        00A     -74.93360137939453, 40.07080078125  \n",
       "1       00AA                 -101.473911, 38.704022  \n",
       "2       00AK            -151.695999146, 59.94919968  \n",
       "3       00AL  -86.77030181884766, 34.86479949951172  \n",
       "4        NaN                    -91.254898, 35.6087  "
      ]
     },
     "execution_count": 12,
     "metadata": {},
     "output_type": "execute_result"
    }
   ],
   "source": [
    "# Prevewing the rows for Airports Code Data from Dataframe\n",
    "\n",
    "df_airports_code_data.head(5)"
   ]
  },
  {
   "cell_type": "code",
   "execution_count": 13,
   "metadata": {
    "_cell_guid": "9ad2f1f8-86ba-47b7-a374-c8b4ca54a4f5",
    "_uuid": "ffa6134a-81cf-47d0-8c23-0f163b3fefae",
    "execution": {
     "iopub.execute_input": "2023-12-29T04:35:10.837497Z",
     "iopub.status.busy": "2023-12-29T04:35:10.837204Z",
     "iopub.status.idle": "2023-12-29T04:35:10.851542Z",
     "shell.execute_reply": "2023-12-29T04:35:10.850162Z",
     "shell.execute_reply.started": "2023-12-29T04:35:10.837467Z"
    },
    "jupyter": {
     "outputs_hidden": false
    }
   },
   "outputs": [
    {
     "data": {
      "text/plain": [
       "array([nan, 'UTK', 'OCA', ..., 'SHE', 'YNJ', 'YKH'], dtype=object)"
      ]
     },
     "execution_count": 13,
     "metadata": {},
     "output_type": "execute_result"
    }
   ],
   "source": [
    "# Previewing the Airports IATA code from the Dataframe\n",
    "\n",
    "df_airports_code_data['iata_code'].unique()"
   ]
  },
  {
   "cell_type": "markdown",
   "metadata": {
    "_cell_guid": "37079bba-970a-407e-a316-92e9c8ad4c76",
    "_uuid": "b5a926e7-b8e7-4964-882b-ae0a5d875b7e"
   },
   "source": [
    "#### Reading the I94_SAS_Labels_Descriptions.SAS Data in the Dataframe to fetch the country_code, city_airport_code, state_code"
   ]
  },
  {
   "cell_type": "code",
   "execution_count": 14,
   "metadata": {
    "_cell_guid": "b53541c0-e5d5-44dc-8492-e8cff43c5a48",
    "_uuid": "5ded0639-109c-42ab-95d4-d875a9d16f77",
    "execution": {
     "iopub.execute_input": "2023-12-29T04:35:10.853606Z",
     "iopub.status.busy": "2023-12-29T04:35:10.853237Z",
     "iopub.status.idle": "2023-12-29T04:35:10.863980Z",
     "shell.execute_reply": "2023-12-29T04:35:10.862915Z",
     "shell.execute_reply.started": "2023-12-29T04:35:10.853582Z"
    },
    "jupyter": {
     "outputs_hidden": false
    }
   },
   "outputs": [],
   "source": [
    "# Opening the SAS Label Descriptions File \n",
    "with open(\"I94_SAS_Labels_Descriptions.SAS\") as sas_file:\n",
    "        file_contents = sas_file.readlines()"
   ]
  },
  {
   "cell_type": "code",
   "execution_count": 15,
   "metadata": {
    "_cell_guid": "d35c1f67-5885-413d-84be-bee7ab56343f",
    "_uuid": "3074a628-afe6-406d-8f82-df2a041ee323",
    "execution": {
     "iopub.execute_input": "2023-12-29T04:35:10.866179Z",
     "iopub.status.busy": "2023-12-29T04:35:10.865657Z",
     "iopub.status.idle": "2023-12-29T04:35:10.872279Z",
     "shell.execute_reply": "2023-12-29T04:35:10.870745Z",
     "shell.execute_reply.started": "2023-12-29T04:35:10.866154Z"
    },
    "jupyter": {
     "outputs_hidden": false
    }
   },
   "outputs": [],
   "source": [
    "# Splitting country code\n",
    "\n",
    "country_code = {}\n",
    "\n",
    "# For loop for in input country variable in the file contents of the SAS file\n",
    "for input_countries in file_contents[10:298]:\n",
    "    # Splitting the contents\n",
    "    pair = input_countries.split('=')\n",
    "    # Code, country pair values\n",
    "    code, country = pair[0].strip(), pair[1].strip().strip(\"'\")\n",
    "    # storing the final results\n",
    "    country_code[code] = country"
   ]
  },
  {
   "cell_type": "code",
   "execution_count": 16,
   "metadata": {
    "_cell_guid": "bde009c5-6b85-4067-a263-c0b50aef895e",
    "_uuid": "7520204c-7998-413d-934a-244794f6d7c1",
    "execution": {
     "iopub.execute_input": "2023-12-29T04:35:10.874083Z",
     "iopub.status.busy": "2023-12-29T04:35:10.873708Z",
     "iopub.status.idle": "2023-12-29T04:35:10.891187Z",
     "shell.execute_reply": "2023-12-29T04:35:10.889864Z",
     "shell.execute_reply.started": "2023-12-29T04:35:10.874054Z"
    },
    "jupyter": {
     "outputs_hidden": false
    }
   },
   "outputs": [
    {
     "data": {
      "text/html": [
       "<div>\n",
       "<style scoped>\n",
       "    .dataframe tbody tr th:only-of-type {\n",
       "        vertical-align: middle;\n",
       "    }\n",
       "\n",
       "    .dataframe tbody tr th {\n",
       "        vertical-align: top;\n",
       "    }\n",
       "\n",
       "    .dataframe thead th {\n",
       "        text-align: right;\n",
       "    }\n",
       "</style>\n",
       "<table border=\"1\" class=\"dataframe\">\n",
       "  <thead>\n",
       "    <tr style=\"text-align: right;\">\n",
       "      <th></th>\n",
       "      <th>country_code</th>\n",
       "      <th>country_name</th>\n",
       "    </tr>\n",
       "  </thead>\n",
       "  <tbody>\n",
       "    <tr>\n",
       "      <th>0</th>\n",
       "      <td>236</td>\n",
       "      <td>AFGHANISTAN</td>\n",
       "    </tr>\n",
       "    <tr>\n",
       "      <th>1</th>\n",
       "      <td>101</td>\n",
       "      <td>ALBANIA</td>\n",
       "    </tr>\n",
       "    <tr>\n",
       "      <th>2</th>\n",
       "      <td>316</td>\n",
       "      <td>ALGERIA</td>\n",
       "    </tr>\n",
       "    <tr>\n",
       "      <th>3</th>\n",
       "      <td>102</td>\n",
       "      <td>ANDORRA</td>\n",
       "    </tr>\n",
       "    <tr>\n",
       "      <th>4</th>\n",
       "      <td>324</td>\n",
       "      <td>ANGOLA</td>\n",
       "    </tr>\n",
       "  </tbody>\n",
       "</table>\n",
       "</div>"
      ],
      "text/plain": [
       "  country_code country_name\n",
       "0          236  AFGHANISTAN\n",
       "1          101      ALBANIA\n",
       "2          316      ALGERIA\n",
       "3          102      ANDORRA\n",
       "4          324       ANGOLA"
      ]
     },
     "execution_count": 16,
     "metadata": {},
     "output_type": "execute_result"
    }
   ],
   "source": [
    "# Converting the country code and country name from the list into the dataframe\n",
    "df_country_code = pd.DataFrame(list(country_code.items()), columns=['country_code', 'country_name'])\n",
    "\n",
    "# Previewing the 5 rows from country code dataframe\n",
    "df_country_code.head(5)"
   ]
  },
  {
   "cell_type": "code",
   "execution_count": 17,
   "metadata": {
    "_cell_guid": "351ac283-627e-4a9b-b310-59e650a56fe2",
    "_uuid": "0a61a45d-49c1-4d96-9e85-d1f86351b4af",
    "execution": {
     "iopub.execute_input": "2023-12-29T04:35:10.893215Z",
     "iopub.status.busy": "2023-12-29T04:35:10.892885Z",
     "iopub.status.idle": "2023-12-29T04:35:10.898735Z",
     "shell.execute_reply": "2023-12-29T04:35:10.897979Z",
     "shell.execute_reply.started": "2023-12-29T04:35:10.893188Z"
    },
    "jupyter": {
     "outputs_hidden": false
    }
   },
   "outputs": [],
   "source": [
    "# Splitting the city code\n",
    "city_code = {}\n",
    "\n",
    "# For loop for in input city variable in the file contents of the SAS file\n",
    "for input_cities in file_contents[303:962]:\n",
    "    # Splitting the contents\n",
    "    pair = input_cities.split('=')\n",
    "    # Code, City pair values\n",
    "    code, city = pair[0].strip(\"\\t\").strip().strip(\"'\"), pair[1].strip('\\t').strip().strip(\"''\")\n",
    "    # storing the final results\n",
    "    city_code[code] = city"
   ]
  },
  {
   "cell_type": "code",
   "execution_count": 18,
   "metadata": {
    "_cell_guid": "f280fe42-6292-4051-bdcd-4e5370288fba",
    "_uuid": "1cec1e86-5816-4414-bb26-38fecaf608d8",
    "execution": {
     "iopub.execute_input": "2023-12-29T04:35:10.899861Z",
     "iopub.status.busy": "2023-12-29T04:35:10.899485Z",
     "iopub.status.idle": "2023-12-29T04:35:10.918097Z",
     "shell.execute_reply": "2023-12-29T04:35:10.917304Z",
     "shell.execute_reply.started": "2023-12-29T04:35:10.899815Z"
    },
    "jupyter": {
     "outputs_hidden": false
    }
   },
   "outputs": [
    {
     "data": {
      "text/html": [
       "<div>\n",
       "<style scoped>\n",
       "    .dataframe tbody tr th:only-of-type {\n",
       "        vertical-align: middle;\n",
       "    }\n",
       "\n",
       "    .dataframe tbody tr th {\n",
       "        vertical-align: top;\n",
       "    }\n",
       "\n",
       "    .dataframe thead th {\n",
       "        text-align: right;\n",
       "    }\n",
       "</style>\n",
       "<table border=\"1\" class=\"dataframe\">\n",
       "  <thead>\n",
       "    <tr style=\"text-align: right;\">\n",
       "      <th></th>\n",
       "      <th>city_airport_code</th>\n",
       "      <th>city_name</th>\n",
       "    </tr>\n",
       "  </thead>\n",
       "  <tbody>\n",
       "    <tr>\n",
       "      <th>0</th>\n",
       "      <td>ANC</td>\n",
       "      <td>ANCHORAGE, AK</td>\n",
       "    </tr>\n",
       "    <tr>\n",
       "      <th>1</th>\n",
       "      <td>BAR</td>\n",
       "      <td>BAKER AAF - BAKER ISLAND, AK</td>\n",
       "    </tr>\n",
       "    <tr>\n",
       "      <th>2</th>\n",
       "      <td>DAC</td>\n",
       "      <td>DALTONS CACHE, AK</td>\n",
       "    </tr>\n",
       "    <tr>\n",
       "      <th>3</th>\n",
       "      <td>PIZ</td>\n",
       "      <td>DEW STATION PT LAY DEW, AK</td>\n",
       "    </tr>\n",
       "    <tr>\n",
       "      <th>4</th>\n",
       "      <td>DTH</td>\n",
       "      <td>DUTCH HARBOR, AK</td>\n",
       "    </tr>\n",
       "  </tbody>\n",
       "</table>\n",
       "</div>"
      ],
      "text/plain": [
       "  city_airport_code                     city_name\n",
       "0               ANC        ANCHORAGE, AK         \n",
       "1               BAR  BAKER AAF - BAKER ISLAND, AK\n",
       "2               DAC        DALTONS CACHE, AK     \n",
       "3               PIZ    DEW STATION PT LAY DEW, AK\n",
       "4               DTH        DUTCH HARBOR, AK      "
      ]
     },
     "execution_count": 18,
     "metadata": {},
     "output_type": "execute_result"
    }
   ],
   "source": [
    "#  Getting the city code into the dataframe\n",
    "df_city_code = pd.DataFrame(list(city_code.items()), columns=['city_airport_code', 'city_name'])\n",
    "\n",
    "# Previewing the 5 rows from city code dataframe\n",
    "df_city_code.head(5)"
   ]
  },
  {
   "cell_type": "code",
   "execution_count": 19,
   "metadata": {
    "_cell_guid": "01bf315a-5715-4035-8fc7-a13a52efdb2f",
    "_uuid": "9be61e7a-a455-4031-aad3-21c4aa7548a5",
    "execution": {
     "iopub.execute_input": "2023-12-29T04:35:10.919221Z",
     "iopub.status.busy": "2023-12-29T04:35:10.918949Z",
     "iopub.status.idle": "2023-12-29T04:35:10.927019Z",
     "shell.execute_reply": "2023-12-29T04:35:10.924374Z",
     "shell.execute_reply.started": "2023-12-29T04:35:10.919195Z"
    },
    "jupyter": {
     "outputs_hidden": false
    }
   },
   "outputs": [],
   "source": [
    "# Splitting the state code\n",
    "\n",
    "state_code = {}\n",
    "\n",
    "# For loop for in input states variable in the file contents of the SAS file\n",
    "for input_states in file_contents[982:1036]:\n",
    "    # Splitting the contents\n",
    "    pair = input_states.split('=')\n",
    "    # Code, state pair values\n",
    "    code, state = pair[0].strip('\\t').strip(\"'\"), pair[1].strip().strip(\"'\")\n",
    "    # storing the final results\n",
    "    state_code[code] = state"
   ]
  },
  {
   "cell_type": "code",
   "execution_count": 20,
   "metadata": {
    "_cell_guid": "c0587366-314f-460e-be37-fc29bac3542f",
    "_uuid": "139b000f-185f-42cf-8374-3a6c9829c20a",
    "execution": {
     "iopub.execute_input": "2023-12-29T04:35:10.928948Z",
     "iopub.status.busy": "2023-12-29T04:35:10.928528Z",
     "iopub.status.idle": "2023-12-29T04:35:10.941776Z",
     "shell.execute_reply": "2023-12-29T04:35:10.940328Z",
     "shell.execute_reply.started": "2023-12-29T04:35:10.928915Z"
    },
    "jupyter": {
     "outputs_hidden": false
    }
   },
   "outputs": [
    {
     "data": {
      "text/html": [
       "<div>\n",
       "<style scoped>\n",
       "    .dataframe tbody tr th:only-of-type {\n",
       "        vertical-align: middle;\n",
       "    }\n",
       "\n",
       "    .dataframe tbody tr th {\n",
       "        vertical-align: top;\n",
       "    }\n",
       "\n",
       "    .dataframe thead th {\n",
       "        text-align: right;\n",
       "    }\n",
       "</style>\n",
       "<table border=\"1\" class=\"dataframe\">\n",
       "  <thead>\n",
       "    <tr style=\"text-align: right;\">\n",
       "      <th></th>\n",
       "      <th>state_code</th>\n",
       "      <th>state_name</th>\n",
       "    </tr>\n",
       "  </thead>\n",
       "  <tbody>\n",
       "    <tr>\n",
       "      <th>0</th>\n",
       "      <td>AK</td>\n",
       "      <td>ALASKA</td>\n",
       "    </tr>\n",
       "    <tr>\n",
       "      <th>1</th>\n",
       "      <td>AZ</td>\n",
       "      <td>ARIZONA</td>\n",
       "    </tr>\n",
       "    <tr>\n",
       "      <th>2</th>\n",
       "      <td>AR</td>\n",
       "      <td>ARKANSAS</td>\n",
       "    </tr>\n",
       "    <tr>\n",
       "      <th>3</th>\n",
       "      <td>CA</td>\n",
       "      <td>CALIFORNIA</td>\n",
       "    </tr>\n",
       "    <tr>\n",
       "      <th>4</th>\n",
       "      <td>CO</td>\n",
       "      <td>COLORADO</td>\n",
       "    </tr>\n",
       "  </tbody>\n",
       "</table>\n",
       "</div>"
      ],
      "text/plain": [
       "  state_code  state_name\n",
       "0         AK      ALASKA\n",
       "1         AZ     ARIZONA\n",
       "2         AR    ARKANSAS\n",
       "3         CA  CALIFORNIA\n",
       "4         CO    COLORADO"
      ]
     },
     "execution_count": 20,
     "metadata": {},
     "output_type": "execute_result"
    }
   ],
   "source": [
    "# Getting the state code and state name into the dataframe.\n",
    "df_state_code = pd.DataFrame(list(state_code.items()), columns=['state_code', 'state_name'])\n",
    "\n",
    "# Previewing the 5 rows from state code dataframe\n",
    "df_state_code.head(5)"
   ]
  },
  {
   "cell_type": "markdown",
   "metadata": {
    "_cell_guid": "a22dda75-c9ee-40f6-84c2-34ee70db034c",
    "_uuid": "55bd4f79-bd06-4b5f-b7bb-ab2dfba2ed1f"
   },
   "source": [
    "### Step 2: Explore and Assess the Data\n",
    "\n",
    "In this step, we will explore the dataset for their data quality, finding null values, finding the duplicates, filling the NaN values followed by cleaning, writing code for the data wrangling and definining the data quality checks etc.\n",
    "\n",
    "We will also explore the data dictioanry for the datasets\n",
    "\n",
    "#### Step 2(a) :Explore the data"
   ]
  },
  {
   "cell_type": "code",
   "execution_count": 21,
   "metadata": {
    "_cell_guid": "7a89bf22-0daa-4740-afc4-87eba6b47a62",
    "_uuid": "2eb50247-fd5d-4f7c-a28c-a47bcc237320",
    "execution": {
     "iopub.execute_input": "2023-12-29T04:35:10.943311Z",
     "iopub.status.busy": "2023-12-29T04:35:10.942801Z",
     "iopub.status.idle": "2023-12-29T04:35:10.956001Z",
     "shell.execute_reply": "2023-12-29T04:35:10.955004Z",
     "shell.execute_reply.started": "2023-12-29T04:35:10.943286Z"
    },
    "jupyter": {
     "outputs_hidden": false
    }
   },
   "outputs": [
    {
     "name": "stdout",
     "output_type": "stream",
     "text": [
      "Shape of df_immigration_data: (1000, 29)\n",
      "Shape of df_temperature_data: (8599212, 7)\n",
      "Shape of df_demographics_data: (2891, 12)\n",
      "Shape of df_airports_code_data: (55075, 12)\n"
     ]
    }
   ],
   "source": [
    "# Printing the shape of the dataframes\n",
    "\n",
    "print(\"Shape of df_immigration_data:\", df_immigration_data.shape)\n",
    "print(\"Shape of df_temperature_data:\", df_temperature_data.shape)\n",
    "print(\"Shape of df_demographics_data:\", df_demographics_data.shape)\n",
    "print(\"Shape of df_airports_code_data:\", df_airports_code_data.shape)"
   ]
  },
  {
   "cell_type": "code",
   "execution_count": 22,
   "metadata": {
    "_cell_guid": "86acfc0f-7e39-4e7d-911d-565273d31626",
    "_uuid": "50b84755-9a44-4ab1-bfda-2461010c52c8",
    "execution": {
     "iopub.execute_input": "2023-12-29T04:35:10.958271Z",
     "iopub.status.busy": "2023-12-29T04:35:10.957855Z",
     "iopub.status.idle": "2023-12-29T04:35:10.967048Z",
     "shell.execute_reply": "2023-12-29T04:35:10.965893Z",
     "shell.execute_reply.started": "2023-12-29T04:35:10.958187Z"
    },
    "jupyter": {
     "outputs_hidden": false
    }
   },
   "outputs": [
    {
     "name": "stdout",
     "output_type": "stream",
     "text": [
      "Number of Rows in df_immigration_data: 1000\n",
      "Number of Columns in df_immigration_data: 29\n"
     ]
    }
   ],
   "source": [
    "# Number of Rows and Columns in Immigration data\n",
    "\n",
    "print(\"Number of Rows in df_immigration_data:\", len(df_immigration_data))\n",
    "print(\"Number of Columns in df_immigration_data:\", len(df_immigration_data.columns))"
   ]
  },
  {
   "cell_type": "code",
   "execution_count": 23,
   "metadata": {
    "_cell_guid": "75339f8c-cda2-4714-973b-108605cab07f",
    "_uuid": "2d48293e-2a87-44ea-b946-0a03859cab79",
    "execution": {
     "iopub.execute_input": "2023-12-29T04:35:10.968596Z",
     "iopub.status.busy": "2023-12-29T04:35:10.968251Z",
     "iopub.status.idle": "2023-12-29T04:35:10.978788Z",
     "shell.execute_reply": "2023-12-29T04:35:10.977593Z",
     "shell.execute_reply.started": "2023-12-29T04:35:10.968565Z"
    },
    "jupyter": {
     "outputs_hidden": false
    }
   },
   "outputs": [
    {
     "name": "stdout",
     "output_type": "stream",
     "text": [
      "Number of Rows in df_temperature_data: 8599212\n",
      "Number of Columns in df_temperature_data: 7\n"
     ]
    }
   ],
   "source": [
    "# Number of Rows and Columns in Global Temperature data\n",
    "\n",
    "print(\"Number of Rows in df_temperature_data:\", len(df_temperature_data))\n",
    "print(\"Number of Columns in df_temperature_data:\", len(df_temperature_data.columns))"
   ]
  },
  {
   "cell_type": "code",
   "execution_count": 24,
   "metadata": {
    "_cell_guid": "3b730faf-82b4-4a8e-af3f-e47565131b11",
    "_uuid": "0ef9d0d6-3e53-4a3f-840d-dd7a1e4a014d",
    "execution": {
     "iopub.execute_input": "2023-12-29T04:35:10.980988Z",
     "iopub.status.busy": "2023-12-29T04:35:10.980503Z",
     "iopub.status.idle": "2023-12-29T04:35:10.989631Z",
     "shell.execute_reply": "2023-12-29T04:35:10.988877Z",
     "shell.execute_reply.started": "2023-12-29T04:35:10.980953Z"
    },
    "jupyter": {
     "outputs_hidden": false
    }
   },
   "outputs": [
    {
     "name": "stdout",
     "output_type": "stream",
     "text": [
      "Number of Rows in df_demographics_data: 2891\n",
      "Number of Columns in df_demographics_data: 12\n"
     ]
    }
   ],
   "source": [
    "# Number of Rows and Columns in US Demographics data\n",
    "\n",
    "print(\"Number of Rows in df_demographics_data:\", len(df_demographics_data))\n",
    "print(\"Number of Columns in df_demographics_data:\", len(df_demographics_data.columns))"
   ]
  },
  {
   "cell_type": "code",
   "execution_count": 25,
   "metadata": {
    "_cell_guid": "24976a9a-3b62-4243-a2b0-85f0512c0c60",
    "_uuid": "df544d59-79c0-4dd2-86f3-42c8b25a5f13",
    "execution": {
     "iopub.execute_input": "2023-12-29T04:35:10.991010Z",
     "iopub.status.busy": "2023-12-29T04:35:10.990760Z",
     "iopub.status.idle": "2023-12-29T04:35:11.000576Z",
     "shell.execute_reply": "2023-12-29T04:35:10.999846Z",
     "shell.execute_reply.started": "2023-12-29T04:35:10.990986Z"
    },
    "jupyter": {
     "outputs_hidden": false
    }
   },
   "outputs": [
    {
     "name": "stdout",
     "output_type": "stream",
     "text": [
      "Number of Rows in df_airports_code_data: 55075\n",
      "Number of Columns in df_airports_code_data: 12\n"
     ]
    }
   ],
   "source": [
    "# Number of Rows and Columns in Airports Code data\n",
    "\n",
    "print(\"Number of Rows in df_airports_code_data:\", len(df_airports_code_data))\n",
    "print(\"Number of Columns in df_airports_code_data:\", len(df_airports_code_data.columns))"
   ]
  },
  {
   "cell_type": "code",
   "execution_count": 26,
   "metadata": {
    "_cell_guid": "96985d9e-f958-4d0a-9a88-23491de18a45",
    "_uuid": "187c9ac2-64ea-4457-8f07-6de7fb0421b0",
    "execution": {
     "iopub.execute_input": "2023-12-29T04:35:11.001562Z",
     "iopub.status.busy": "2023-12-29T04:35:11.001298Z",
     "iopub.status.idle": "2023-12-29T04:35:11.012009Z",
     "shell.execute_reply": "2023-12-29T04:35:11.010656Z",
     "shell.execute_reply.started": "2023-12-29T04:35:11.001538Z"
    },
    "jupyter": {
     "outputs_hidden": false
    }
   },
   "outputs": [
    {
     "name": "stdout",
     "output_type": "stream",
     "text": [
      "Number of Elements in df_immigration_data: 29000\n",
      "Number of Elements in df_temperature_data: 60194484\n",
      "Number of Elements in df_demographics_data: 34692\n",
      "Number of Elements in df_airports_code_data: 660900\n"
     ]
    }
   ],
   "source": [
    "# Size of the dataframes\n",
    "\n",
    "print(\"Number of Elements in df_immigration_data:\", df_immigration_data.size)\n",
    "print(\"Number of Elements in df_temperature_data:\", df_temperature_data.size)\n",
    "print(\"Number of Elements in df_demographics_data:\", df_demographics_data.size)\n",
    "print(\"Number of Elements in df_airports_code_data:\", df_airports_code_data.size)"
   ]
  },
  {
   "cell_type": "code",
   "execution_count": 27,
   "metadata": {
    "_cell_guid": "124811ff-5956-40a0-b33e-a557ebc0e3bf",
    "_uuid": "c1930ffd-1890-4360-8508-e21e99334f8c",
    "execution": {
     "iopub.execute_input": "2023-12-29T04:35:11.013763Z",
     "iopub.status.busy": "2023-12-29T04:35:11.013030Z",
     "iopub.status.idle": "2023-12-29T04:35:11.042278Z",
     "shell.execute_reply": "2023-12-29T04:35:11.041267Z",
     "shell.execute_reply.started": "2023-12-29T04:35:11.013721Z"
    },
    "jupyter": {
     "outputs_hidden": false
    }
   },
   "outputs": [
    {
     "name": "stdout",
     "output_type": "stream",
     "text": [
      "<class 'pandas.core.frame.DataFrame'>\n",
      "RangeIndex: 1000 entries, 0 to 999\n",
      "Data columns (total 29 columns):\n",
      " #   Column      Non-Null Count  Dtype  \n",
      "---  ------      --------------  -----  \n",
      " 0   Unnamed: 0  1000 non-null   int64  \n",
      " 1   cicid       1000 non-null   float64\n",
      " 2   i94yr       1000 non-null   float64\n",
      " 3   i94mon      1000 non-null   float64\n",
      " 4   i94cit      1000 non-null   float64\n",
      " 5   i94res      1000 non-null   float64\n",
      " 6   i94port     1000 non-null   object \n",
      " 7   arrdate     1000 non-null   float64\n",
      " 8   i94mode     1000 non-null   float64\n",
      " 9   i94addr     941 non-null    object \n",
      " 10  depdate     951 non-null    float64\n",
      " 11  i94bir      1000 non-null   float64\n",
      " 12  i94visa     1000 non-null   float64\n",
      " 13  count       1000 non-null   float64\n",
      " 14  dtadfile    1000 non-null   int64  \n",
      " 15  visapost    382 non-null    object \n",
      " 16  occup       4 non-null      object \n",
      " 17  entdepa     1000 non-null   object \n",
      " 18  entdepd     954 non-null    object \n",
      " 19  entdepu     0 non-null      float64\n",
      " 20  matflag     954 non-null    object \n",
      " 21  biryear     1000 non-null   float64\n",
      " 22  dtaddto     1000 non-null   object \n",
      " 23  gender      859 non-null    object \n",
      " 24  insnum      35 non-null     float64\n",
      " 25  airline     967 non-null    object \n",
      " 26  admnum      1000 non-null   float64\n",
      " 27  fltno       992 non-null    object \n",
      " 28  visatype    1000 non-null   object \n",
      "dtypes: float64(15), int64(2), object(12)\n",
      "memory usage: 226.7+ KB\n"
     ]
    }
   ],
   "source": [
    "# Providing the concise summary of the DataFrames, including the number of non-null values and data types for each column\n",
    "\n",
    "# Data Dictionary - i.e. type of the data types in the each dataset\n",
    "\n",
    "# Immigration I94 --- List of columns\n",
    "\n",
    "df_immigration_data.info()"
   ]
  },
  {
   "cell_type": "code",
   "execution_count": 28,
   "metadata": {
    "_cell_guid": "280118e0-6126-41bb-abb3-f1456f616982",
    "_uuid": "0cc8c1f5-77d4-4221-b49c-69321ee01e71",
    "execution": {
     "iopub.execute_input": "2023-12-29T04:35:11.048375Z",
     "iopub.status.busy": "2023-12-29T04:35:11.048032Z",
     "iopub.status.idle": "2023-12-29T04:35:11.059318Z",
     "shell.execute_reply": "2023-12-29T04:35:11.058371Z",
     "shell.execute_reply.started": "2023-12-29T04:35:11.048345Z"
    },
    "jupyter": {
     "outputs_hidden": false
    }
   },
   "outputs": [
    {
     "name": "stdout",
     "output_type": "stream",
     "text": [
      "<class 'pandas.core.frame.DataFrame'>\n",
      "RangeIndex: 8599212 entries, 0 to 8599211\n",
      "Data columns (total 7 columns):\n",
      " #   Column                         Dtype  \n",
      "---  ------                         -----  \n",
      " 0   dt                             object \n",
      " 1   AverageTemperature             float64\n",
      " 2   AverageTemperatureUncertainty  float64\n",
      " 3   City                           object \n",
      " 4   Country                        object \n",
      " 5   Latitude                       object \n",
      " 6   Longitude                      object \n",
      "dtypes: float64(2), object(5)\n",
      "memory usage: 459.2+ MB\n"
     ]
    }
   ],
   "source": [
    "# Global Temperature Data - List of Columns\n",
    "\n",
    "df_temperature_data.info()"
   ]
  },
  {
   "cell_type": "code",
   "execution_count": 29,
   "metadata": {
    "_cell_guid": "39350e1a-8448-4538-9772-07871afa1ee4",
    "_uuid": "b4dc4010-ba11-47c3-9a4c-53dd6b4e9aeb",
    "execution": {
     "iopub.execute_input": "2023-12-29T04:35:11.061172Z",
     "iopub.status.busy": "2023-12-29T04:35:11.060854Z",
     "iopub.status.idle": "2023-12-29T04:35:11.080661Z",
     "shell.execute_reply": "2023-12-29T04:35:11.079127Z",
     "shell.execute_reply.started": "2023-12-29T04:35:11.061141Z"
    },
    "jupyter": {
     "outputs_hidden": false
    }
   },
   "outputs": [
    {
     "name": "stdout",
     "output_type": "stream",
     "text": [
      "<class 'pandas.core.frame.DataFrame'>\n",
      "RangeIndex: 2891 entries, 0 to 2890\n",
      "Data columns (total 12 columns):\n",
      " #   Column                  Non-Null Count  Dtype  \n",
      "---  ------                  --------------  -----  \n",
      " 0   City                    2891 non-null   object \n",
      " 1   State                   2891 non-null   object \n",
      " 2   Median Age              2891 non-null   float64\n",
      " 3   Male Population         2888 non-null   float64\n",
      " 4   Female Population       2888 non-null   float64\n",
      " 5   Total Population        2891 non-null   int64  \n",
      " 6   Number of Veterans      2878 non-null   float64\n",
      " 7   Foreign-born            2878 non-null   float64\n",
      " 8   Average Household Size  2875 non-null   float64\n",
      " 9   State Code              2891 non-null   object \n",
      " 10  Race                    2891 non-null   object \n",
      " 11  Count                   2891 non-null   int64  \n",
      "dtypes: float64(6), int64(2), object(4)\n",
      "memory usage: 271.2+ KB\n"
     ]
    }
   ],
   "source": [
    "# US Demographics Data -List of Columns\n",
    "\n",
    "df_demographics_data.info()"
   ]
  },
  {
   "cell_type": "code",
   "execution_count": 30,
   "metadata": {
    "_cell_guid": "6a8e879f-5fc1-4c47-86c6-35294a998902",
    "_uuid": "436d92c5-0d31-4d95-aa3b-9e93c5b5cba1",
    "execution": {
     "iopub.execute_input": "2023-12-29T04:35:11.085319Z",
     "iopub.status.busy": "2023-12-29T04:35:11.082598Z",
     "iopub.status.idle": "2023-12-29T04:35:11.114079Z",
     "shell.execute_reply": "2023-12-29T04:35:11.113216Z",
     "shell.execute_reply.started": "2023-12-29T04:35:11.085281Z"
    },
    "jupyter": {
     "outputs_hidden": false
    }
   },
   "outputs": [
    {
     "name": "stdout",
     "output_type": "stream",
     "text": [
      "<class 'pandas.core.frame.DataFrame'>\n",
      "RangeIndex: 55075 entries, 0 to 55074\n",
      "Data columns (total 12 columns):\n",
      " #   Column        Non-Null Count  Dtype  \n",
      "---  ------        --------------  -----  \n",
      " 0   ident         55075 non-null  object \n",
      " 1   type          55075 non-null  object \n",
      " 2   name          55075 non-null  object \n",
      " 3   elevation_ft  48069 non-null  float64\n",
      " 4   continent     27356 non-null  object \n",
      " 5   iso_country   54828 non-null  object \n",
      " 6   iso_region    55075 non-null  object \n",
      " 7   municipality  49399 non-null  object \n",
      " 8   gps_code      41030 non-null  object \n",
      " 9   iata_code     9189 non-null   object \n",
      " 10  local_code    28686 non-null  object \n",
      " 11  coordinates   55075 non-null  object \n",
      "dtypes: float64(1), object(11)\n",
      "memory usage: 5.0+ MB\n"
     ]
    }
   ],
   "source": [
    "# Airports code data - List of Columns\n",
    "\n",
    "df_airports_code_data.info()"
   ]
  },
  {
   "cell_type": "code",
   "execution_count": 31,
   "metadata": {
    "_cell_guid": "54fb4219-5843-4e93-9b13-dd14cdd1f9dc",
    "_uuid": "5da5ab3c-c586-4336-9369-f6183d32c992",
    "execution": {
     "iopub.execute_input": "2023-12-29T04:35:11.116334Z",
     "iopub.status.busy": "2023-12-29T04:35:11.115208Z",
     "iopub.status.idle": "2023-12-29T04:35:11.167801Z",
     "shell.execute_reply": "2023-12-29T04:35:11.166518Z",
     "shell.execute_reply.started": "2023-12-29T04:35:11.116301Z"
    },
    "jupyter": {
     "outputs_hidden": false
    }
   },
   "outputs": [
    {
     "data": {
      "text/html": [
       "<div>\n",
       "<style scoped>\n",
       "    .dataframe tbody tr th:only-of-type {\n",
       "        vertical-align: middle;\n",
       "    }\n",
       "\n",
       "    .dataframe tbody tr th {\n",
       "        vertical-align: top;\n",
       "    }\n",
       "\n",
       "    .dataframe thead th {\n",
       "        text-align: right;\n",
       "    }\n",
       "</style>\n",
       "<table border=\"1\" class=\"dataframe\">\n",
       "  <thead>\n",
       "    <tr style=\"text-align: right;\">\n",
       "      <th></th>\n",
       "      <th>Unnamed: 0</th>\n",
       "      <th>cicid</th>\n",
       "      <th>i94yr</th>\n",
       "      <th>i94mon</th>\n",
       "      <th>i94cit</th>\n",
       "      <th>i94res</th>\n",
       "      <th>arrdate</th>\n",
       "      <th>i94mode</th>\n",
       "      <th>depdate</th>\n",
       "      <th>i94bir</th>\n",
       "      <th>i94visa</th>\n",
       "      <th>count</th>\n",
       "      <th>dtadfile</th>\n",
       "      <th>entdepu</th>\n",
       "      <th>biryear</th>\n",
       "      <th>insnum</th>\n",
       "      <th>admnum</th>\n",
       "    </tr>\n",
       "  </thead>\n",
       "  <tbody>\n",
       "    <tr>\n",
       "      <th>count</th>\n",
       "      <td>1.000000e+03</td>\n",
       "      <td>1.000000e+03</td>\n",
       "      <td>1000.0</td>\n",
       "      <td>1000.0</td>\n",
       "      <td>1000.000000</td>\n",
       "      <td>1000.00000</td>\n",
       "      <td>1000.000000</td>\n",
       "      <td>1000.000000</td>\n",
       "      <td>951.000000</td>\n",
       "      <td>1000.000000</td>\n",
       "      <td>1000.000000</td>\n",
       "      <td>1000.0</td>\n",
       "      <td>1.000000e+03</td>\n",
       "      <td>0.0</td>\n",
       "      <td>1000.000000</td>\n",
       "      <td>35.000000</td>\n",
       "      <td>1.000000e+03</td>\n",
       "    </tr>\n",
       "    <tr>\n",
       "      <th>mean</th>\n",
       "      <td>1.542097e+06</td>\n",
       "      <td>3.040461e+06</td>\n",
       "      <td>2016.0</td>\n",
       "      <td>4.0</td>\n",
       "      <td>302.928000</td>\n",
       "      <td>298.26200</td>\n",
       "      <td>20559.680000</td>\n",
       "      <td>1.078000</td>\n",
       "      <td>20575.037855</td>\n",
       "      <td>42.382000</td>\n",
       "      <td>1.859000</td>\n",
       "      <td>1.0</td>\n",
       "      <td>2.016042e+07</td>\n",
       "      <td>NaN</td>\n",
       "      <td>1973.618000</td>\n",
       "      <td>3826.857143</td>\n",
       "      <td>6.937237e+10</td>\n",
       "    </tr>\n",
       "    <tr>\n",
       "      <th>std</th>\n",
       "      <td>9.152879e+05</td>\n",
       "      <td>1.799818e+06</td>\n",
       "      <td>0.0</td>\n",
       "      <td>0.0</td>\n",
       "      <td>206.485285</td>\n",
       "      <td>202.12039</td>\n",
       "      <td>8.995027</td>\n",
       "      <td>0.485955</td>\n",
       "      <td>24.211234</td>\n",
       "      <td>17.903424</td>\n",
       "      <td>0.386353</td>\n",
       "      <td>0.0</td>\n",
       "      <td>4.951657e+01</td>\n",
       "      <td>NaN</td>\n",
       "      <td>17.903424</td>\n",
       "      <td>221.742583</td>\n",
       "      <td>2.338134e+10</td>\n",
       "    </tr>\n",
       "    <tr>\n",
       "      <th>min</th>\n",
       "      <td>1.092500e+04</td>\n",
       "      <td>1.320800e+04</td>\n",
       "      <td>2016.0</td>\n",
       "      <td>4.0</td>\n",
       "      <td>103.000000</td>\n",
       "      <td>103.00000</td>\n",
       "      <td>20545.000000</td>\n",
       "      <td>1.000000</td>\n",
       "      <td>20547.000000</td>\n",
       "      <td>1.000000</td>\n",
       "      <td>1.000000</td>\n",
       "      <td>1.0</td>\n",
       "      <td>2.016040e+07</td>\n",
       "      <td>NaN</td>\n",
       "      <td>1923.000000</td>\n",
       "      <td>3468.000000</td>\n",
       "      <td>0.000000e+00</td>\n",
       "    </tr>\n",
       "    <tr>\n",
       "      <th>25%</th>\n",
       "      <td>7.214422e+05</td>\n",
       "      <td>1.412170e+06</td>\n",
       "      <td>2016.0</td>\n",
       "      <td>4.0</td>\n",
       "      <td>135.000000</td>\n",
       "      <td>131.00000</td>\n",
       "      <td>20552.000000</td>\n",
       "      <td>1.000000</td>\n",
       "      <td>20561.000000</td>\n",
       "      <td>30.750000</td>\n",
       "      <td>2.000000</td>\n",
       "      <td>1.0</td>\n",
       "      <td>2.016041e+07</td>\n",
       "      <td>NaN</td>\n",
       "      <td>1961.000000</td>\n",
       "      <td>3668.000000</td>\n",
       "      <td>5.599301e+10</td>\n",
       "    </tr>\n",
       "    <tr>\n",
       "      <th>50%</th>\n",
       "      <td>1.494568e+06</td>\n",
       "      <td>2.941176e+06</td>\n",
       "      <td>2016.0</td>\n",
       "      <td>4.0</td>\n",
       "      <td>213.000000</td>\n",
       "      <td>213.00000</td>\n",
       "      <td>20560.000000</td>\n",
       "      <td>1.000000</td>\n",
       "      <td>20570.000000</td>\n",
       "      <td>42.000000</td>\n",
       "      <td>2.000000</td>\n",
       "      <td>1.0</td>\n",
       "      <td>2.016042e+07</td>\n",
       "      <td>NaN</td>\n",
       "      <td>1974.000000</td>\n",
       "      <td>3887.000000</td>\n",
       "      <td>5.931477e+10</td>\n",
       "    </tr>\n",
       "    <tr>\n",
       "      <th>75%</th>\n",
       "      <td>2.360901e+06</td>\n",
       "      <td>4.694151e+06</td>\n",
       "      <td>2016.0</td>\n",
       "      <td>4.0</td>\n",
       "      <td>438.000000</td>\n",
       "      <td>438.00000</td>\n",
       "      <td>20567.250000</td>\n",
       "      <td>1.000000</td>\n",
       "      <td>20580.000000</td>\n",
       "      <td>55.000000</td>\n",
       "      <td>2.000000</td>\n",
       "      <td>1.0</td>\n",
       "      <td>2.016042e+07</td>\n",
       "      <td>NaN</td>\n",
       "      <td>1985.250000</td>\n",
       "      <td>3943.000000</td>\n",
       "      <td>9.343623e+10</td>\n",
       "    </tr>\n",
       "    <tr>\n",
       "      <th>max</th>\n",
       "      <td>3.095749e+06</td>\n",
       "      <td>6.061994e+06</td>\n",
       "      <td>2016.0</td>\n",
       "      <td>4.0</td>\n",
       "      <td>746.000000</td>\n",
       "      <td>696.00000</td>\n",
       "      <td>20574.000000</td>\n",
       "      <td>9.000000</td>\n",
       "      <td>20715.000000</td>\n",
       "      <td>93.000000</td>\n",
       "      <td>3.000000</td>\n",
       "      <td>1.0</td>\n",
       "      <td>2.016080e+07</td>\n",
       "      <td>NaN</td>\n",
       "      <td>2015.000000</td>\n",
       "      <td>4686.000000</td>\n",
       "      <td>9.502151e+10</td>\n",
       "    </tr>\n",
       "  </tbody>\n",
       "</table>\n",
       "</div>"
      ],
      "text/plain": [
       "         Unnamed: 0         cicid   i94yr  i94mon       i94cit      i94res  \\\n",
       "count  1.000000e+03  1.000000e+03  1000.0  1000.0  1000.000000  1000.00000   \n",
       "mean   1.542097e+06  3.040461e+06  2016.0     4.0   302.928000   298.26200   \n",
       "std    9.152879e+05  1.799818e+06     0.0     0.0   206.485285   202.12039   \n",
       "min    1.092500e+04  1.320800e+04  2016.0     4.0   103.000000   103.00000   \n",
       "25%    7.214422e+05  1.412170e+06  2016.0     4.0   135.000000   131.00000   \n",
       "50%    1.494568e+06  2.941176e+06  2016.0     4.0   213.000000   213.00000   \n",
       "75%    2.360901e+06  4.694151e+06  2016.0     4.0   438.000000   438.00000   \n",
       "max    3.095749e+06  6.061994e+06  2016.0     4.0   746.000000   696.00000   \n",
       "\n",
       "            arrdate      i94mode       depdate       i94bir      i94visa  \\\n",
       "count   1000.000000  1000.000000    951.000000  1000.000000  1000.000000   \n",
       "mean   20559.680000     1.078000  20575.037855    42.382000     1.859000   \n",
       "std        8.995027     0.485955     24.211234    17.903424     0.386353   \n",
       "min    20545.000000     1.000000  20547.000000     1.000000     1.000000   \n",
       "25%    20552.000000     1.000000  20561.000000    30.750000     2.000000   \n",
       "50%    20560.000000     1.000000  20570.000000    42.000000     2.000000   \n",
       "75%    20567.250000     1.000000  20580.000000    55.000000     2.000000   \n",
       "max    20574.000000     9.000000  20715.000000    93.000000     3.000000   \n",
       "\n",
       "        count      dtadfile  entdepu      biryear       insnum        admnum  \n",
       "count  1000.0  1.000000e+03      0.0  1000.000000    35.000000  1.000000e+03  \n",
       "mean      1.0  2.016042e+07      NaN  1973.618000  3826.857143  6.937237e+10  \n",
       "std       0.0  4.951657e+01      NaN    17.903424   221.742583  2.338134e+10  \n",
       "min       1.0  2.016040e+07      NaN  1923.000000  3468.000000  0.000000e+00  \n",
       "25%       1.0  2.016041e+07      NaN  1961.000000  3668.000000  5.599301e+10  \n",
       "50%       1.0  2.016042e+07      NaN  1974.000000  3887.000000  5.931477e+10  \n",
       "75%       1.0  2.016042e+07      NaN  1985.250000  3943.000000  9.343623e+10  \n",
       "max       1.0  2.016080e+07      NaN  2015.000000  4686.000000  9.502151e+10  "
      ]
     },
     "execution_count": 31,
     "metadata": {},
     "output_type": "execute_result"
    }
   ],
   "source": [
    "# Describe Method ----> Generates descriptive statistics of the DataFrame, including count, mean, std, min, and max.\n",
    "\n",
    "# Immigration I94 DataSet\n",
    "\n",
    "df_immigration_data.describe()"
   ]
  },
  {
   "cell_type": "code",
   "execution_count": 32,
   "metadata": {
    "_cell_guid": "f528d6e2-65a4-4862-ac9e-a61bb1b5e6f2",
    "_uuid": "b116dc12-4564-4432-b7e1-192e42c18ae8",
    "execution": {
     "iopub.execute_input": "2023-12-29T04:35:11.169527Z",
     "iopub.status.busy": "2023-12-29T04:35:11.169163Z",
     "iopub.status.idle": "2023-12-29T04:35:11.749407Z",
     "shell.execute_reply": "2023-12-29T04:35:11.748313Z",
     "shell.execute_reply.started": "2023-12-29T04:35:11.169494Z"
    },
    "jupyter": {
     "outputs_hidden": false
    }
   },
   "outputs": [
    {
     "data": {
      "text/html": [
       "<div>\n",
       "<style scoped>\n",
       "    .dataframe tbody tr th:only-of-type {\n",
       "        vertical-align: middle;\n",
       "    }\n",
       "\n",
       "    .dataframe tbody tr th {\n",
       "        vertical-align: top;\n",
       "    }\n",
       "\n",
       "    .dataframe thead th {\n",
       "        text-align: right;\n",
       "    }\n",
       "</style>\n",
       "<table border=\"1\" class=\"dataframe\">\n",
       "  <thead>\n",
       "    <tr style=\"text-align: right;\">\n",
       "      <th></th>\n",
       "      <th>AverageTemperature</th>\n",
       "      <th>AverageTemperatureUncertainty</th>\n",
       "    </tr>\n",
       "  </thead>\n",
       "  <tbody>\n",
       "    <tr>\n",
       "      <th>count</th>\n",
       "      <td>8.235082e+06</td>\n",
       "      <td>8.235082e+06</td>\n",
       "    </tr>\n",
       "    <tr>\n",
       "      <th>mean</th>\n",
       "      <td>1.672743e+01</td>\n",
       "      <td>1.028575e+00</td>\n",
       "    </tr>\n",
       "    <tr>\n",
       "      <th>std</th>\n",
       "      <td>1.035344e+01</td>\n",
       "      <td>1.129733e+00</td>\n",
       "    </tr>\n",
       "    <tr>\n",
       "      <th>min</th>\n",
       "      <td>-4.270400e+01</td>\n",
       "      <td>3.400000e-02</td>\n",
       "    </tr>\n",
       "    <tr>\n",
       "      <th>25%</th>\n",
       "      <td>1.029900e+01</td>\n",
       "      <td>3.370000e-01</td>\n",
       "    </tr>\n",
       "    <tr>\n",
       "      <th>50%</th>\n",
       "      <td>1.883100e+01</td>\n",
       "      <td>5.910000e-01</td>\n",
       "    </tr>\n",
       "    <tr>\n",
       "      <th>75%</th>\n",
       "      <td>2.521000e+01</td>\n",
       "      <td>1.349000e+00</td>\n",
       "    </tr>\n",
       "    <tr>\n",
       "      <th>max</th>\n",
       "      <td>3.965100e+01</td>\n",
       "      <td>1.539600e+01</td>\n",
       "    </tr>\n",
       "  </tbody>\n",
       "</table>\n",
       "</div>"
      ],
      "text/plain": [
       "       AverageTemperature  AverageTemperatureUncertainty\n",
       "count        8.235082e+06                   8.235082e+06\n",
       "mean         1.672743e+01                   1.028575e+00\n",
       "std          1.035344e+01                   1.129733e+00\n",
       "min         -4.270400e+01                   3.400000e-02\n",
       "25%          1.029900e+01                   3.370000e-01\n",
       "50%          1.883100e+01                   5.910000e-01\n",
       "75%          2.521000e+01                   1.349000e+00\n",
       "max          3.965100e+01                   1.539600e+01"
      ]
     },
     "execution_count": 32,
     "metadata": {},
     "output_type": "execute_result"
    }
   ],
   "source": [
    "# Global Temperature Dataset Statiscs\n",
    "\n",
    "df_temperature_data.describe()"
   ]
  },
  {
   "cell_type": "code",
   "execution_count": 33,
   "metadata": {
    "_cell_guid": "7c0fd454-ffdb-475e-9f00-74a98d44bcb4",
    "_uuid": "1891db3b-ecbd-4da7-b1a2-7c97dfca4f4c",
    "execution": {
     "iopub.execute_input": "2023-12-29T04:35:11.751253Z",
     "iopub.status.busy": "2023-12-29T04:35:11.750881Z",
     "iopub.status.idle": "2023-12-29T04:35:11.785064Z",
     "shell.execute_reply": "2023-12-29T04:35:11.784099Z",
     "shell.execute_reply.started": "2023-12-29T04:35:11.751221Z"
    },
    "jupyter": {
     "outputs_hidden": false
    }
   },
   "outputs": [
    {
     "data": {
      "text/html": [
       "<div>\n",
       "<style scoped>\n",
       "    .dataframe tbody tr th:only-of-type {\n",
       "        vertical-align: middle;\n",
       "    }\n",
       "\n",
       "    .dataframe tbody tr th {\n",
       "        vertical-align: top;\n",
       "    }\n",
       "\n",
       "    .dataframe thead th {\n",
       "        text-align: right;\n",
       "    }\n",
       "</style>\n",
       "<table border=\"1\" class=\"dataframe\">\n",
       "  <thead>\n",
       "    <tr style=\"text-align: right;\">\n",
       "      <th></th>\n",
       "      <th>Median Age</th>\n",
       "      <th>Male Population</th>\n",
       "      <th>Female Population</th>\n",
       "      <th>Total Population</th>\n",
       "      <th>Number of Veterans</th>\n",
       "      <th>Foreign-born</th>\n",
       "      <th>Average Household Size</th>\n",
       "      <th>Count</th>\n",
       "    </tr>\n",
       "  </thead>\n",
       "  <tbody>\n",
       "    <tr>\n",
       "      <th>count</th>\n",
       "      <td>2891.000000</td>\n",
       "      <td>2.888000e+03</td>\n",
       "      <td>2.888000e+03</td>\n",
       "      <td>2.891000e+03</td>\n",
       "      <td>2878.000000</td>\n",
       "      <td>2.878000e+03</td>\n",
       "      <td>2875.000000</td>\n",
       "      <td>2.891000e+03</td>\n",
       "    </tr>\n",
       "    <tr>\n",
       "      <th>mean</th>\n",
       "      <td>35.494881</td>\n",
       "      <td>9.732843e+04</td>\n",
       "      <td>1.017696e+05</td>\n",
       "      <td>1.989668e+05</td>\n",
       "      <td>9367.832523</td>\n",
       "      <td>4.065360e+04</td>\n",
       "      <td>2.742543</td>\n",
       "      <td>4.896377e+04</td>\n",
       "    </tr>\n",
       "    <tr>\n",
       "      <th>std</th>\n",
       "      <td>4.401617</td>\n",
       "      <td>2.162999e+05</td>\n",
       "      <td>2.315646e+05</td>\n",
       "      <td>4.475559e+05</td>\n",
       "      <td>13211.219924</td>\n",
       "      <td>1.557491e+05</td>\n",
       "      <td>0.433291</td>\n",
       "      <td>1.443856e+05</td>\n",
       "    </tr>\n",
       "    <tr>\n",
       "      <th>min</th>\n",
       "      <td>22.900000</td>\n",
       "      <td>2.928100e+04</td>\n",
       "      <td>2.734800e+04</td>\n",
       "      <td>6.321500e+04</td>\n",
       "      <td>416.000000</td>\n",
       "      <td>8.610000e+02</td>\n",
       "      <td>2.000000</td>\n",
       "      <td>9.800000e+01</td>\n",
       "    </tr>\n",
       "    <tr>\n",
       "      <th>25%</th>\n",
       "      <td>32.800000</td>\n",
       "      <td>3.928900e+04</td>\n",
       "      <td>4.122700e+04</td>\n",
       "      <td>8.042900e+04</td>\n",
       "      <td>3739.000000</td>\n",
       "      <td>9.224000e+03</td>\n",
       "      <td>2.430000</td>\n",
       "      <td>3.435000e+03</td>\n",
       "    </tr>\n",
       "    <tr>\n",
       "      <th>50%</th>\n",
       "      <td>35.300000</td>\n",
       "      <td>5.234100e+04</td>\n",
       "      <td>5.380900e+04</td>\n",
       "      <td>1.067820e+05</td>\n",
       "      <td>5397.000000</td>\n",
       "      <td>1.882200e+04</td>\n",
       "      <td>2.650000</td>\n",
       "      <td>1.378000e+04</td>\n",
       "    </tr>\n",
       "    <tr>\n",
       "      <th>75%</th>\n",
       "      <td>38.000000</td>\n",
       "      <td>8.664175e+04</td>\n",
       "      <td>8.960400e+04</td>\n",
       "      <td>1.752320e+05</td>\n",
       "      <td>9368.000000</td>\n",
       "      <td>3.397175e+04</td>\n",
       "      <td>2.950000</td>\n",
       "      <td>5.444700e+04</td>\n",
       "    </tr>\n",
       "    <tr>\n",
       "      <th>max</th>\n",
       "      <td>70.500000</td>\n",
       "      <td>4.081698e+06</td>\n",
       "      <td>4.468707e+06</td>\n",
       "      <td>8.550405e+06</td>\n",
       "      <td>156961.000000</td>\n",
       "      <td>3.212500e+06</td>\n",
       "      <td>4.980000</td>\n",
       "      <td>3.835726e+06</td>\n",
       "    </tr>\n",
       "  </tbody>\n",
       "</table>\n",
       "</div>"
      ],
      "text/plain": [
       "        Median Age  Male Population  Female Population  Total Population  \\\n",
       "count  2891.000000     2.888000e+03       2.888000e+03      2.891000e+03   \n",
       "mean     35.494881     9.732843e+04       1.017696e+05      1.989668e+05   \n",
       "std       4.401617     2.162999e+05       2.315646e+05      4.475559e+05   \n",
       "min      22.900000     2.928100e+04       2.734800e+04      6.321500e+04   \n",
       "25%      32.800000     3.928900e+04       4.122700e+04      8.042900e+04   \n",
       "50%      35.300000     5.234100e+04       5.380900e+04      1.067820e+05   \n",
       "75%      38.000000     8.664175e+04       8.960400e+04      1.752320e+05   \n",
       "max      70.500000     4.081698e+06       4.468707e+06      8.550405e+06   \n",
       "\n",
       "       Number of Veterans  Foreign-born  Average Household Size         Count  \n",
       "count         2878.000000  2.878000e+03             2875.000000  2.891000e+03  \n",
       "mean          9367.832523  4.065360e+04                2.742543  4.896377e+04  \n",
       "std          13211.219924  1.557491e+05                0.433291  1.443856e+05  \n",
       "min            416.000000  8.610000e+02                2.000000  9.800000e+01  \n",
       "25%           3739.000000  9.224000e+03                2.430000  3.435000e+03  \n",
       "50%           5397.000000  1.882200e+04                2.650000  1.378000e+04  \n",
       "75%           9368.000000  3.397175e+04                2.950000  5.444700e+04  \n",
       "max         156961.000000  3.212500e+06                4.980000  3.835726e+06  "
      ]
     },
     "execution_count": 33,
     "metadata": {},
     "output_type": "execute_result"
    }
   ],
   "source": [
    "# US Demographics Dataset Statistics\n",
    "\n",
    "df_demographics_data.describe()"
   ]
  },
  {
   "cell_type": "code",
   "execution_count": 34,
   "metadata": {
    "_cell_guid": "3f6a9f41-b3c1-4630-bc6d-3e98e2b9e2c2",
    "_uuid": "525c2d58-e3cc-4345-b54d-98d490521eea",
    "execution": {
     "iopub.execute_input": "2023-12-29T04:35:11.786669Z",
     "iopub.status.busy": "2023-12-29T04:35:11.786266Z",
     "iopub.status.idle": "2023-12-29T04:35:11.802799Z",
     "shell.execute_reply": "2023-12-29T04:35:11.801703Z",
     "shell.execute_reply.started": "2023-12-29T04:35:11.786636Z"
    },
    "jupyter": {
     "outputs_hidden": false
    }
   },
   "outputs": [
    {
     "data": {
      "text/html": [
       "<div>\n",
       "<style scoped>\n",
       "    .dataframe tbody tr th:only-of-type {\n",
       "        vertical-align: middle;\n",
       "    }\n",
       "\n",
       "    .dataframe tbody tr th {\n",
       "        vertical-align: top;\n",
       "    }\n",
       "\n",
       "    .dataframe thead th {\n",
       "        text-align: right;\n",
       "    }\n",
       "</style>\n",
       "<table border=\"1\" class=\"dataframe\">\n",
       "  <thead>\n",
       "    <tr style=\"text-align: right;\">\n",
       "      <th></th>\n",
       "      <th>elevation_ft</th>\n",
       "    </tr>\n",
       "  </thead>\n",
       "  <tbody>\n",
       "    <tr>\n",
       "      <th>count</th>\n",
       "      <td>48069.000000</td>\n",
       "    </tr>\n",
       "    <tr>\n",
       "      <th>mean</th>\n",
       "      <td>1240.789677</td>\n",
       "    </tr>\n",
       "    <tr>\n",
       "      <th>std</th>\n",
       "      <td>1602.363459</td>\n",
       "    </tr>\n",
       "    <tr>\n",
       "      <th>min</th>\n",
       "      <td>-1266.000000</td>\n",
       "    </tr>\n",
       "    <tr>\n",
       "      <th>25%</th>\n",
       "      <td>205.000000</td>\n",
       "    </tr>\n",
       "    <tr>\n",
       "      <th>50%</th>\n",
       "      <td>718.000000</td>\n",
       "    </tr>\n",
       "    <tr>\n",
       "      <th>75%</th>\n",
       "      <td>1497.000000</td>\n",
       "    </tr>\n",
       "    <tr>\n",
       "      <th>max</th>\n",
       "      <td>22000.000000</td>\n",
       "    </tr>\n",
       "  </tbody>\n",
       "</table>\n",
       "</div>"
      ],
      "text/plain": [
       "       elevation_ft\n",
       "count  48069.000000\n",
       "mean    1240.789677\n",
       "std     1602.363459\n",
       "min    -1266.000000\n",
       "25%      205.000000\n",
       "50%      718.000000\n",
       "75%     1497.000000\n",
       "max    22000.000000"
      ]
     },
     "execution_count": 34,
     "metadata": {},
     "output_type": "execute_result"
    }
   ],
   "source": [
    "# Airports Code Dataset Statistics\n",
    "\n",
    "df_airports_code_data.describe()"
   ]
  },
  {
   "cell_type": "markdown",
   "metadata": {
    "_cell_guid": "41c59b2e-de72-491a-9b86-55306a9bbf4d",
    "_uuid": "961ef48c-0683-4517-ba14-009e13da6a22"
   },
   "source": [
    "#### Step 2(b) : Asses the data and perform data quality checks including identify nulls, NaNs, finding duplicates etc."
   ]
  },
  {
   "cell_type": "code",
   "execution_count": 35,
   "metadata": {
    "_cell_guid": "89040192-ca5a-418a-94d0-8fce375bcf16",
    "_uuid": "20d4c00d-cb0c-4031-92a3-d33e2ca2fb09",
    "execution": {
     "iopub.execute_input": "2023-12-29T04:35:11.804711Z",
     "iopub.status.busy": "2023-12-29T04:35:11.804343Z",
     "iopub.status.idle": "2023-12-29T04:35:11.817618Z",
     "shell.execute_reply": "2023-12-29T04:35:11.816589Z",
     "shell.execute_reply.started": "2023-12-29T04:35:11.804680Z"
    },
    "jupyter": {
     "outputs_hidden": false
    }
   },
   "outputs": [],
   "source": [
    "# Finding the duplicates for the Immigration I94 data\n",
    "\n",
    "df_immigration_data_dupes_check = df_immigration_data[df_immigration_data.duplicated(subset=None, keep='first')]"
   ]
  },
  {
   "cell_type": "markdown",
   "metadata": {
    "_cell_guid": "03be38b2-d2f6-4177-a63a-705b7428ddd2",
    "_uuid": "6ad746b0-0d54-4eaa-8ca5-1c05f60a2e58"
   },
   "source": [
    "#### There are no duplicate values in the Immigration Data Frame"
   ]
  },
  {
   "cell_type": "code",
   "execution_count": 36,
   "metadata": {
    "_cell_guid": "891e38ea-7371-41af-9698-7a3205d0a9a5",
    "_uuid": "2769eeb6-5c74-4360-91f0-7ae7acb26cfc",
    "execution": {
     "iopub.execute_input": "2023-12-29T04:35:11.819365Z",
     "iopub.status.busy": "2023-12-29T04:35:11.819081Z",
     "iopub.status.idle": "2023-12-29T04:35:11.831555Z",
     "shell.execute_reply": "2023-12-29T04:35:11.830671Z",
     "shell.execute_reply.started": "2023-12-29T04:35:11.819339Z"
    },
    "jupyter": {
     "outputs_hidden": false
    }
   },
   "outputs": [
    {
     "data": {
      "text/html": [
       "<div>\n",
       "<style scoped>\n",
       "    .dataframe tbody tr th:only-of-type {\n",
       "        vertical-align: middle;\n",
       "    }\n",
       "\n",
       "    .dataframe tbody tr th {\n",
       "        vertical-align: top;\n",
       "    }\n",
       "\n",
       "    .dataframe thead th {\n",
       "        text-align: right;\n",
       "    }\n",
       "</style>\n",
       "<table border=\"1\" class=\"dataframe\">\n",
       "  <thead>\n",
       "    <tr style=\"text-align: right;\">\n",
       "      <th></th>\n",
       "      <th>Unnamed: 0</th>\n",
       "      <th>cicid</th>\n",
       "      <th>i94yr</th>\n",
       "      <th>i94mon</th>\n",
       "      <th>i94cit</th>\n",
       "      <th>i94res</th>\n",
       "      <th>i94port</th>\n",
       "      <th>arrdate</th>\n",
       "      <th>i94mode</th>\n",
       "      <th>i94addr</th>\n",
       "      <th>...</th>\n",
       "      <th>entdepu</th>\n",
       "      <th>matflag</th>\n",
       "      <th>biryear</th>\n",
       "      <th>dtaddto</th>\n",
       "      <th>gender</th>\n",
       "      <th>insnum</th>\n",
       "      <th>airline</th>\n",
       "      <th>admnum</th>\n",
       "      <th>fltno</th>\n",
       "      <th>visatype</th>\n",
       "    </tr>\n",
       "  </thead>\n",
       "  <tbody>\n",
       "  </tbody>\n",
       "</table>\n",
       "<p>0 rows × 29 columns</p>\n",
       "</div>"
      ],
      "text/plain": [
       "Empty DataFrame\n",
       "Columns: [Unnamed: 0, cicid, i94yr, i94mon, i94cit, i94res, i94port, arrdate, i94mode, i94addr, depdate, i94bir, i94visa, count, dtadfile, visapost, occup, entdepa, entdepd, entdepu, matflag, biryear, dtaddto, gender, insnum, airline, admnum, fltno, visatype]\n",
       "Index: []\n",
       "\n",
       "[0 rows x 29 columns]"
      ]
     },
     "execution_count": 36,
     "metadata": {},
     "output_type": "execute_result"
    }
   ],
   "source": [
    "# Checking the results of the duplicates values in the Immigration Dataframe.\n",
    "\n",
    "df_immigration_data_dupes_check"
   ]
  },
  {
   "cell_type": "code",
   "execution_count": 37,
   "metadata": {
    "_cell_guid": "7f5bcae5-22fe-4234-b24f-cc00afa00e54",
    "_uuid": "b0cb3754-4e5a-43e8-9941-1b045409d386",
    "execution": {
     "iopub.execute_input": "2023-12-29T04:35:11.833228Z",
     "iopub.status.busy": "2023-12-29T04:35:11.832956Z",
     "iopub.status.idle": "2023-12-29T04:35:11.845412Z",
     "shell.execute_reply": "2023-12-29T04:35:11.844250Z",
     "shell.execute_reply.started": "2023-12-29T04:35:11.833205Z"
    },
    "jupyter": {
     "outputs_hidden": false
    }
   },
   "outputs": [
    {
     "name": "stdout",
     "output_type": "stream",
     "text": [
      "Following columns are having the NULL values in the dataset: \n",
      " Unnamed: 0       0\n",
      "cicid            0\n",
      "i94yr            0\n",
      "i94mon           0\n",
      "i94cit           0\n",
      "i94res           0\n",
      "i94port          0\n",
      "arrdate          0\n",
      "i94mode          0\n",
      "i94addr         59\n",
      "depdate         49\n",
      "i94bir           0\n",
      "i94visa          0\n",
      "count            0\n",
      "dtadfile         0\n",
      "visapost       618\n",
      "occup          996\n",
      "entdepa          0\n",
      "entdepd         46\n",
      "entdepu       1000\n",
      "matflag         46\n",
      "biryear          0\n",
      "dtaddto          0\n",
      "gender         141\n",
      "insnum         965\n",
      "airline         33\n",
      "admnum           0\n",
      "fltno            8\n",
      "visatype         0\n",
      "dtype: int64\n"
     ]
    }
   ],
   "source": [
    "# Finding the nulls for the Immigration I94 data, count the total number of null values in each column\n",
    "\n",
    "df_missing_values_immigration_data = df_immigration_data.isnull().sum()\n",
    "\n",
    "# Display the count of the sum result\n",
    "\n",
    "print(\"Following columns are having the NULL values in the dataset: \\n\", df_missing_values_immigration_data)"
   ]
  },
  {
   "cell_type": "code",
   "execution_count": 38,
   "metadata": {
    "_cell_guid": "0ea20c5d-4c9b-4f2d-b8d2-c5eeed919f1d",
    "_uuid": "d2b46b4a-aba6-4ce1-acba-0b3faaa23ae2",
    "execution": {
     "iopub.execute_input": "2023-12-29T04:35:11.847904Z",
     "iopub.status.busy": "2023-12-29T04:35:11.847317Z",
     "iopub.status.idle": "2023-12-29T04:35:11.857352Z",
     "shell.execute_reply": "2023-12-29T04:35:11.856262Z",
     "shell.execute_reply.started": "2023-12-29T04:35:11.847864Z"
    },
    "jupyter": {
     "outputs_hidden": false
    }
   },
   "outputs": [
    {
     "name": "stdout",
     "output_type": "stream",
     "text": [
      "Following columns are having the NULL values in the dataset: \n",
      " City                       0\n",
      "State                      0\n",
      "Median Age                 0\n",
      "Male Population            3\n",
      "Female Population          3\n",
      "Total Population           0\n",
      "Number of Veterans        13\n",
      "Foreign-born              13\n",
      "Average Household Size    16\n",
      "State Code                 0\n",
      "Race                       0\n",
      "Count                      0\n",
      "dtype: int64\n"
     ]
    }
   ],
   "source": [
    "# Finding the nulls for the US Demographics Dataset data, count the total number of null values in each column\n",
    "\n",
    "df_missing_values_demographics_data = df_demographics_data.isnull().sum()\n",
    "\n",
    "# Display the count of the sum result\n",
    "\n",
    "print(\"Following columns are having the NULL values in the dataset: \\n\", df_missing_values_demographics_data)"
   ]
  },
  {
   "cell_type": "code",
   "execution_count": 39,
   "metadata": {
    "_cell_guid": "e5e0e0c5-1c57-4a3d-9a5e-a692ff52fac2",
    "_uuid": "9f7847be-08e4-4c8e-8eb5-83d6d7c2dc6b",
    "execution": {
     "iopub.execute_input": "2023-12-29T04:35:11.859469Z",
     "iopub.status.busy": "2023-12-29T04:35:11.858849Z",
     "iopub.status.idle": "2023-12-29T04:35:13.108243Z",
     "shell.execute_reply": "2023-12-29T04:35:13.106322Z",
     "shell.execute_reply.started": "2023-12-29T04:35:11.859395Z"
    },
    "jupyter": {
     "outputs_hidden": false
    }
   },
   "outputs": [
    {
     "name": "stdout",
     "output_type": "stream",
     "text": [
      "Following columns are having the NULL values in the dataset: \n",
      " dt                                    0\n",
      "AverageTemperature               364130\n",
      "AverageTemperatureUncertainty    364130\n",
      "City                                  0\n",
      "Country                               0\n",
      "Latitude                              0\n",
      "Longitude                             0\n",
      "dtype: int64\n"
     ]
    }
   ],
   "source": [
    "# Finding the nulls for the Gloabl Temperature Dataset, count the total number of null values in each column\n",
    "\n",
    "df_missing_values_temperature_data = df_temperature_data.isnull().sum()\n",
    "\n",
    "# Display the count of the sum result\n",
    "\n",
    "print(\"Following columns are having the NULL values in the dataset: \\n\", df_missing_values_temperature_data)"
   ]
  },
  {
   "cell_type": "code",
   "execution_count": 40,
   "metadata": {
    "_cell_guid": "a3e7bf62-0e40-464b-bd08-0d273da82496",
    "_uuid": "d8de9faf-c713-44db-8ff1-3bc04a7da3e7",
    "execution": {
     "iopub.execute_input": "2023-12-29T04:35:13.109886Z",
     "iopub.status.busy": "2023-12-29T04:35:13.109590Z",
     "iopub.status.idle": "2023-12-29T04:35:13.134819Z",
     "shell.execute_reply": "2023-12-29T04:35:13.133503Z",
     "shell.execute_reply.started": "2023-12-29T04:35:13.109861Z"
    },
    "jupyter": {
     "outputs_hidden": false
    }
   },
   "outputs": [
    {
     "name": "stdout",
     "output_type": "stream",
     "text": [
      "Following columns are having the NULL values in the dataset: \n",
      " ident               0\n",
      "type                0\n",
      "name                0\n",
      "elevation_ft     7006\n",
      "continent       27719\n",
      "iso_country       247\n",
      "iso_region          0\n",
      "municipality     5676\n",
      "gps_code        14045\n",
      "iata_code       45886\n",
      "local_code      26389\n",
      "coordinates         0\n",
      "dtype: int64\n"
     ]
    }
   ],
   "source": [
    "# Finding the nulls for the Airports Code Dataset data, count the total number of null values in each column\n",
    "\n",
    "df_missing_values_airports_data = df_airports_code_data.isnull().sum()\n",
    "\n",
    "# Display the count of the sum result\n",
    "\n",
    "print(\"Following columns are having the NULL values in the dataset: \\n\", df_missing_values_airports_data)"
   ]
  },
  {
   "cell_type": "markdown",
   "metadata": {
    "_cell_guid": "03dd0662-3b14-445e-be38-3560c422890f",
    "_uuid": "20b880d8-544c-4bf1-86c6-02aa02f812ff"
   },
   "source": [
    "### Step 3: Cleaning the dataset and define the Data Model for STAR Schema with data dictionary details for each table\n",
    "\n",
    "In this third step of ETL journey, we will be cleaning the datasets, defining the data model for STAR schema with data dictionary details for each table, the pre-processing of the Immigration data followed by the creating I94 fact table surronded by the various dimension tables to fulfill the Data Warehousing Business requirement which will be used for meaningful insights, data visualization and business reporting for the stakeholders and the strategic data based driven decisions."
   ]
  },
  {
   "cell_type": "markdown",
   "metadata": {
    "_cell_guid": "f1a8a6ae-da6c-4039-9339-0dd4e14c35b7",
    "_uuid": "d2824baf-442a-44d0-a801-355ba78b01f6"
   },
   "source": [
    "#### Step 3 : Detailing Data Dictionary from the Source systems"
   ]
  },
  {
   "cell_type": "markdown",
   "metadata": {
    "_cell_guid": "4e742966-5d70-490f-aa80-a9ed976297f5",
    "_uuid": "32488a92-0378-453c-bd4b-da049e78bb78"
   },
   "source": [
    "#### Data Dictionary"
   ]
  },
  {
   "cell_type": "markdown",
   "metadata": {
    "_cell_guid": "eac6bba8-38b0-4e2b-9202-a1e9935e5d95",
    "_uuid": "c6a76f24-2da3-4b53-abb9-da5a79c22256"
   },
   "source": [
    "Columns descriptions - Immigration Table"
   ]
  },
  {
   "cell_type": "markdown",
   "metadata": {
    "_cell_guid": "77a9ab82-c873-4d3c-80ab-167fe7ad889f",
    "_uuid": "00ff1387-0284-4455-9dc7-1175860f64b7"
   },
   "source": [
    "| Column Name | Description |\n",
    "| :--- | :--- |\n",
    "| CICID | ID that uniquely identify one record in the dataset |\n",
    "| I94YR | 4 digit year |\n",
    "| I94MON | Numeric month |\n",
    "| I94CIT | 3 digit code of source city for immigration (Born country) |\n",
    "| I94RES | 3 digit code of source country for immigration (Residence country) |\n",
    "| I94PORT | Port addmitted through |\n",
    "| ARRDATE | Arrival date in the USA |\n",
    "| I94MODE | Mode of transportation (1 = Air; 2 = Sea; 3 = Land; 9 = Not reported) |\n",
    "| I94ADDR | State of arrival |\n",
    "| DEPDATE | Departure date from the USA |\n",
    "| I94BIR | Age of Respondent in Years |\n",
    "| I94VISA | Visa codes collapsed into three categories: (1 = Business; 2 = Pleasure; 3 = Student) |\n",
    "| COUNT | Used for summary statistics |\n",
    "| DTADFILE | Character Date Field |\n",
    "| VISAPOST | Department of State where where Visa was issued |\n",
    "| OCCUP | Occupation that will be performed in U.S. |\n",
    "| ENTDEPA | Arrival Flag. Whether admitted or paroled into the US |\n",
    "| ENTDEPD | Departure Flag. Whether departed, lost visa, or deceased |\n",
    "| ENTDEPU | Update Flag. Update of visa, either apprehended, overstayed, or updated to PR |\n",
    "| MATFLAG | Match flag |\n",
    "| BIRYEAR | 4 digit year of birth |\n",
    "| DTADDTO | Character date field to when admitted in the US (allowed to stay until) |\n",
    "| GENDER | Gender |\n",
    "| INSNUM | INS number |\n",
    "| AIRLINE | Airline used to arrive in U.S. |\n",
    "| ADMNUM | Admission number, should be unique and not nullable |\n",
    "| FLTNO | Flight number of Airline used to arrive in U.S. |\n",
    "| VISATYPE | Class of admission legally admitting the non-immigrant to temporarily stay in U.S. |"
   ]
  },
  {
   "cell_type": "markdown",
   "metadata": {
    "_cell_guid": "31fa88e5-7684-4414-9f4d-eed00d8d4155",
    "_uuid": "baa4a7a2-f871-44c8-a31b-e65962eebdbd"
   },
   "source": [
    "Columns Descritpion - Global Temperature"
   ]
  },
  {
   "cell_type": "markdown",
   "metadata": {
    "_cell_guid": "a987c819-7a92-44ad-bc39-c7a6c7ed12f4",
    "_uuid": "91b663ab-921d-4b3c-96b8-f62b239457a7"
   },
   "source": [
    "| Column Name | Description |\n",
    "| :--- | :--- |\n",
    "| dt | Date in format YYYY-MM-DD |\n",
    "| AverageTemperature | Average temperature of the city in a given date |\n",
    "| City | City Name |\n",
    "| Country | Country Name |\n",
    "| Latitude | Latitude |\n",
    "| Longitude | Longitude |"
   ]
  },
  {
   "cell_type": "markdown",
   "metadata": {
    "_cell_guid": "44fb0603-1edb-4fe2-ba4b-c444e6e9ae7a",
    "_uuid": "6b027055-5b21-4c64-af37-4879a8ac961b"
   },
   "source": [
    "Columns Description - Airport Code Table"
   ]
  },
  {
   "cell_type": "markdown",
   "metadata": {
    "_cell_guid": "0e381bc1-fb65-4303-a65a-2e88e5a3ee4c",
    "_uuid": "a5e2b06d-3974-4d98-89d4-91cba51fad57"
   },
   "source": [
    "\n",
    "| Column Name | Description |\n",
    "| :--- | :--- |\n",
    "| ident | Unique identifier |\n",
    "| type | Type of the airport |\n",
    "| name | Airport Name |\n",
    "| elevation_ft | Altitude of the airport |\n",
    "| continent | Continent |\n",
    "| iso_country | ISO code of the country of the airport |\n",
    "| iso_region | ISO code for the region of the airport |\n",
    "| municipality | City where the airport is located |\n",
    "| gps_code | GPS code of the airport |\n",
    "| iata_code | IATA code of the airport |\n",
    "| local_code | Local code of the airport |\n",
    "| coordinates | GPS coordinates of the airport |"
   ]
  },
  {
   "cell_type": "markdown",
   "metadata": {
    "_cell_guid": "d4904675-6972-4a95-895a-b987b4bb65d3",
    "_uuid": "e3e98fd0-b936-42d1-a336-8845bbfa785e"
   },
   "source": [
    "#### Step 3.1 : Conceptual Data Model\n",
    "\n",
    "Our Udacity Capstone Project - US Airports and Immigration Data Integration and ETL Data Pipeline will comprise of the STAR schema data model where we have the centralized the FACT Immigration Table surrounded by the four DIMENSION tables i.e. Arrvial Date Table, Country Temperature Table, Demogprahics Table and Airports Table.\n",
    "\n",
    "##### Reason to choose this data model ?\n",
    "The main reason to choosing the data model is its simplicity and ease of building the ETL pipeline hererby choosing this will help the business and organization building efficient Data Ware House and sustainable Business Intelligence system that help them in solving their daily data based decision making related to the US Airports and Immigration Data (i94) that will help in gathering and aggregating the climate global temperature variation in regard to the each state, city and country to analyse the data insights to find out the exact reasons on how the airpots and immigration has imapacted the climate change."
   ]
  },
  {
   "cell_type": "code",
   "execution_count": 41,
   "metadata": {
    "_cell_guid": "8d8266ab-200c-44a9-8997-1a36c9813415",
    "_uuid": "b08a67ec-10b2-449f-ac57-7044ba648b8a",
    "execution": {
     "iopub.execute_input": "2023-12-29T04:35:13.136777Z",
     "iopub.status.busy": "2023-12-29T04:35:13.136340Z",
     "iopub.status.idle": "2023-12-29T04:35:13.163679Z",
     "shell.execute_reply": "2023-12-29T04:35:13.162853Z",
     "shell.execute_reply.started": "2023-12-29T04:35:13.136741Z"
    },
    "jupyter": {
     "outputs_hidden": false
    }
   },
   "outputs": [
    {
     "data": {
      "image/png": "[encoded data removed]",
      "text/plain": [
       "<IPython.core.display.Image object>"
      ]
     },
     "execution_count": 41,
     "metadata": {},
     "output_type": "execute_result"
    }
   ],
   "source": [
    "from IPython.display import Image\n",
    "\n",
    "# Specify the path to your PNG file\n",
    "image_path = \"/kaggle/input/udacity-capstone-project-source-files/Conceptual_Data_Model.png\"\n",
    "\n",
    "# Display the image in the Jupyter Notebook cell\n",
    "Image(filename=image_path)"
   ]
  },
  {
   "cell_type": "markdown",
   "metadata": {
    "_cell_guid": "0d933a06-ab28-490e-a893-692aa5dcdb81",
    "_uuid": "e620ef4d-158f-456d-b2ec-9f9e413b0fa6"
   },
   "source": [
    "#### Step 3.2 : Cleaning the data sets"
   ]
  },
  {
   "cell_type": "code",
   "execution_count": 42,
   "metadata": {
    "_cell_guid": "8c391991-8396-4692-ba1a-f0fc064ca95a",
    "_uuid": "f9d22182-9727-4cb5-b370-c8b050ae8c8f",
    "execution": {
     "iopub.execute_input": "2023-12-29T04:35:13.165792Z",
     "iopub.status.busy": "2023-12-29T04:35:13.164782Z",
     "iopub.status.idle": "2023-12-29T04:35:13.174125Z",
     "shell.execute_reply": "2023-12-29T04:35:13.173539Z",
     "shell.execute_reply.started": "2023-12-29T04:35:13.165757Z"
    },
    "jupyter": {
     "outputs_hidden": false
    }
   },
   "outputs": [],
   "source": [
    "# Converting the Arrival Date and Departure Date into the required YYYY-MM-DD date format\n",
    "df_immigration_data['arrdate'] = pd.to_timedelta(df_immigration_data['arrdate'], unit='D') + pd.Timestamp('1960-1-1')\n",
    "df_immigration_data['depdate'] = pd.to_timedelta(df_immigration_data['depdate'], unit='D') + pd.Timestamp('1960-1-1')"
   ]
  },
  {
   "cell_type": "code",
   "execution_count": 43,
   "metadata": {
    "_cell_guid": "c755f836-e47e-4189-ab6d-eab1cc4f0490",
    "_uuid": "0dfc4986-dcb8-4e9c-9529-7f38f8b3284a",
    "execution": {
     "iopub.execute_input": "2023-12-29T04:35:13.176268Z",
     "iopub.status.busy": "2023-12-29T04:35:13.175155Z",
     "iopub.status.idle": "2023-12-29T04:35:13.209365Z",
     "shell.execute_reply": "2023-12-29T04:35:13.208664Z",
     "shell.execute_reply.started": "2023-12-29T04:35:13.176217Z"
    },
    "jupyter": {
     "outputs_hidden": false
    }
   },
   "outputs": [
    {
     "data": {
      "text/html": [
       "<div>\n",
       "<style scoped>\n",
       "    .dataframe tbody tr th:only-of-type {\n",
       "        vertical-align: middle;\n",
       "    }\n",
       "\n",
       "    .dataframe tbody tr th {\n",
       "        vertical-align: top;\n",
       "    }\n",
       "\n",
       "    .dataframe thead th {\n",
       "        text-align: right;\n",
       "    }\n",
       "</style>\n",
       "<table border=\"1\" class=\"dataframe\">\n",
       "  <thead>\n",
       "    <tr style=\"text-align: right;\">\n",
       "      <th></th>\n",
       "      <th>cic_id</th>\n",
       "      <th>arrive_date</th>\n",
       "      <th>origin_country_code</th>\n",
       "      <th>airport_code</th>\n",
       "      <th>state_code</th>\n",
       "      <th>departure_date</th>\n",
       "      <th>mode</th>\n",
       "      <th>visa</th>\n",
       "      <th>visa_type</th>\n",
       "      <th>occupation</th>\n",
       "      <th>gender</th>\n",
       "      <th>airline</th>\n",
       "      <th>airline_flight_number</th>\n",
       "      <th>date_of_birth_year</th>\n",
       "      <th>admission_id_number</th>\n",
       "    </tr>\n",
       "  </thead>\n",
       "  <tbody>\n",
       "    <tr>\n",
       "      <th>0</th>\n",
       "      <td>4084316.0</td>\n",
       "      <td>2016-04-22</td>\n",
       "      <td>209.0</td>\n",
       "      <td>HHW</td>\n",
       "      <td>HI</td>\n",
       "      <td>2016-04-29</td>\n",
       "      <td>1.0</td>\n",
       "      <td>2.0</td>\n",
       "      <td>WT</td>\n",
       "      <td>NaN</td>\n",
       "      <td>F</td>\n",
       "      <td>JL</td>\n",
       "      <td>00782</td>\n",
       "      <td>1955.0</td>\n",
       "      <td>5.658267e+10</td>\n",
       "    </tr>\n",
       "    <tr>\n",
       "      <th>1</th>\n",
       "      <td>4422636.0</td>\n",
       "      <td>2016-04-23</td>\n",
       "      <td>582.0</td>\n",
       "      <td>MCA</td>\n",
       "      <td>TX</td>\n",
       "      <td>2016-04-24</td>\n",
       "      <td>1.0</td>\n",
       "      <td>2.0</td>\n",
       "      <td>B2</td>\n",
       "      <td>NaN</td>\n",
       "      <td>M</td>\n",
       "      <td>*GA</td>\n",
       "      <td>XBLNG</td>\n",
       "      <td>1990.0</td>\n",
       "      <td>9.436200e+10</td>\n",
       "    </tr>\n",
       "    <tr>\n",
       "      <th>2</th>\n",
       "      <td>1195600.0</td>\n",
       "      <td>2016-04-07</td>\n",
       "      <td>112.0</td>\n",
       "      <td>OGG</td>\n",
       "      <td>FL</td>\n",
       "      <td>2016-04-27</td>\n",
       "      <td>1.0</td>\n",
       "      <td>2.0</td>\n",
       "      <td>WT</td>\n",
       "      <td>NaN</td>\n",
       "      <td>M</td>\n",
       "      <td>LH</td>\n",
       "      <td>00464</td>\n",
       "      <td>1940.0</td>\n",
       "      <td>5.578047e+10</td>\n",
       "    </tr>\n",
       "    <tr>\n",
       "      <th>3</th>\n",
       "      <td>5291768.0</td>\n",
       "      <td>2016-04-28</td>\n",
       "      <td>297.0</td>\n",
       "      <td>LOS</td>\n",
       "      <td>CA</td>\n",
       "      <td>2016-05-07</td>\n",
       "      <td>1.0</td>\n",
       "      <td>2.0</td>\n",
       "      <td>B2</td>\n",
       "      <td>NaN</td>\n",
       "      <td>M</td>\n",
       "      <td>QR</td>\n",
       "      <td>00739</td>\n",
       "      <td>1991.0</td>\n",
       "      <td>9.478970e+10</td>\n",
       "    </tr>\n",
       "    <tr>\n",
       "      <th>4</th>\n",
       "      <td>985523.0</td>\n",
       "      <td>2016-04-06</td>\n",
       "      <td>111.0</td>\n",
       "      <td>CHM</td>\n",
       "      <td>NY</td>\n",
       "      <td>2016-04-09</td>\n",
       "      <td>3.0</td>\n",
       "      <td>2.0</td>\n",
       "      <td>WT</td>\n",
       "      <td>NaN</td>\n",
       "      <td>F</td>\n",
       "      <td>NaN</td>\n",
       "      <td>LAND</td>\n",
       "      <td>1997.0</td>\n",
       "      <td>4.232257e+10</td>\n",
       "    </tr>\n",
       "    <tr>\n",
       "      <th>5</th>\n",
       "      <td>1481650.0</td>\n",
       "      <td>2016-04-08</td>\n",
       "      <td>577.0</td>\n",
       "      <td>ATL</td>\n",
       "      <td>GA</td>\n",
       "      <td>2016-06-01</td>\n",
       "      <td>1.0</td>\n",
       "      <td>2.0</td>\n",
       "      <td>B2</td>\n",
       "      <td>NaN</td>\n",
       "      <td>M</td>\n",
       "      <td>DL</td>\n",
       "      <td>910</td>\n",
       "      <td>1965.0</td>\n",
       "      <td>7.368526e+08</td>\n",
       "    </tr>\n",
       "    <tr>\n",
       "      <th>6</th>\n",
       "      <td>2197173.0</td>\n",
       "      <td>2016-04-12</td>\n",
       "      <td>245.0</td>\n",
       "      <td>SFR</td>\n",
       "      <td>CA</td>\n",
       "      <td>2016-06-30</td>\n",
       "      <td>1.0</td>\n",
       "      <td>2.0</td>\n",
       "      <td>B2</td>\n",
       "      <td>NaN</td>\n",
       "      <td>F</td>\n",
       "      <td>CX</td>\n",
       "      <td>870</td>\n",
       "      <td>1968.0</td>\n",
       "      <td>7.863122e+08</td>\n",
       "    </tr>\n",
       "    <tr>\n",
       "      <th>7</th>\n",
       "      <td>232708.0</td>\n",
       "      <td>2016-04-02</td>\n",
       "      <td>135.0</td>\n",
       "      <td>NYC</td>\n",
       "      <td>NY</td>\n",
       "      <td>2016-04-10</td>\n",
       "      <td>1.0</td>\n",
       "      <td>2.0</td>\n",
       "      <td>WT</td>\n",
       "      <td>NaN</td>\n",
       "      <td>F</td>\n",
       "      <td>BA</td>\n",
       "      <td>00117</td>\n",
       "      <td>1983.0</td>\n",
       "      <td>5.547449e+10</td>\n",
       "    </tr>\n",
       "  </tbody>\n",
       "</table>\n",
       "</div>"
      ],
      "text/plain": [
       "      cic_id arrive_date  origin_country_code airport_code state_code  \\\n",
       "0  4084316.0  2016-04-22                209.0          HHW         HI   \n",
       "1  4422636.0  2016-04-23                582.0          MCA         TX   \n",
       "2  1195600.0  2016-04-07                112.0          OGG         FL   \n",
       "3  5291768.0  2016-04-28                297.0          LOS         CA   \n",
       "4   985523.0  2016-04-06                111.0          CHM         NY   \n",
       "5  1481650.0  2016-04-08                577.0          ATL         GA   \n",
       "6  2197173.0  2016-04-12                245.0          SFR         CA   \n",
       "7   232708.0  2016-04-02                135.0          NYC         NY   \n",
       "\n",
       "  departure_date  mode  visa visa_type occupation gender airline  \\\n",
       "0     2016-04-29   1.0   2.0        WT        NaN      F      JL   \n",
       "1     2016-04-24   1.0   2.0        B2        NaN      M     *GA   \n",
       "2     2016-04-27   1.0   2.0        WT        NaN      M      LH   \n",
       "3     2016-05-07   1.0   2.0        B2        NaN      M      QR   \n",
       "4     2016-04-09   3.0   2.0        WT        NaN      F     NaN   \n",
       "5     2016-06-01   1.0   2.0        B2        NaN      M      DL   \n",
       "6     2016-06-30   1.0   2.0        B2        NaN      F      CX   \n",
       "7     2016-04-10   1.0   2.0        WT        NaN      F      BA   \n",
       "\n",
       "  airline_flight_number  date_of_birth_year  admission_id_number  \n",
       "0                 00782              1955.0         5.658267e+10  \n",
       "1                 XBLNG              1990.0         9.436200e+10  \n",
       "2                 00464              1940.0         5.578047e+10  \n",
       "3                 00739              1991.0         9.478970e+10  \n",
       "4                  LAND              1997.0         4.232257e+10  \n",
       "5                   910              1965.0         7.368526e+08  \n",
       "6                   870              1968.0         7.863122e+08  \n",
       "7                 00117              1983.0         5.547449e+10  "
      ]
     },
     "execution_count": 43,
     "metadata": {},
     "output_type": "execute_result"
    }
   ],
   "source": [
    "# Extracting the data columns for the FACT Immigration table \n",
    "fact_immigration_table = df_immigration_data[['cicid', 'arrdate', 'i94res', 'i94port', 'i94addr', 'depdate', 'i94mode', 'i94visa','visatype','occup','gender','airline','fltno','biryear','admnum']]\n",
    "\n",
    "fact_immigration_table.columns = ['cic_id', 'arrive_date', 'origin_country_code', 'airport_code','state_code', 'departure_date', 'mode', 'visa','visa_type','occupation','gender','airline','airline_flight_number','date_of_birth_year','admission_id_number']\n",
    "\n",
    "fact_immigration_table.head(8)"
   ]
  },
  {
   "cell_type": "code",
   "execution_count": 44,
   "metadata": {
    "_cell_guid": "db0a036a-baa4-426a-8f74-6eba569ebe40",
    "_uuid": "f8b9644f-1654-40fe-9d55-cd33cddcc2a0",
    "execution": {
     "iopub.execute_input": "2023-12-29T04:35:13.211733Z",
     "iopub.status.busy": "2023-12-29T04:35:13.210873Z",
     "iopub.status.idle": "2023-12-29T04:35:13.226952Z",
     "shell.execute_reply": "2023-12-29T04:35:13.225844Z",
     "shell.execute_reply.started": "2023-12-29T04:35:13.211704Z"
    },
    "jupyter": {
     "outputs_hidden": false
    }
   },
   "outputs": [
    {
     "data": {
      "text/html": [
       "<div>\n",
       "<style scoped>\n",
       "    .dataframe tbody tr th:only-of-type {\n",
       "        vertical-align: middle;\n",
       "    }\n",
       "\n",
       "    .dataframe tbody tr th {\n",
       "        vertical-align: top;\n",
       "    }\n",
       "\n",
       "    .dataframe thead th {\n",
       "        text-align: right;\n",
       "    }\n",
       "</style>\n",
       "<table border=\"1\" class=\"dataframe\">\n",
       "  <thead>\n",
       "    <tr style=\"text-align: right;\">\n",
       "      <th></th>\n",
       "      <th>state_code</th>\n",
       "      <th>city</th>\n",
       "      <th>male_population</th>\n",
       "      <th>female_population</th>\n",
       "      <th>total_population</th>\n",
       "      <th>median_age</th>\n",
       "      <th>number_of_veterans</th>\n",
       "      <th>average_household_size</th>\n",
       "      <th>total_count</th>\n",
       "    </tr>\n",
       "  </thead>\n",
       "  <tbody>\n",
       "    <tr>\n",
       "      <th>0</th>\n",
       "      <td>MD</td>\n",
       "      <td>Silver Spring</td>\n",
       "      <td>40601.0</td>\n",
       "      <td>41862.0</td>\n",
       "      <td>82463</td>\n",
       "      <td>33.8</td>\n",
       "      <td>1562.0</td>\n",
       "      <td>2.60</td>\n",
       "      <td>25924</td>\n",
       "    </tr>\n",
       "    <tr>\n",
       "      <th>1</th>\n",
       "      <td>MA</td>\n",
       "      <td>Quincy</td>\n",
       "      <td>44129.0</td>\n",
       "      <td>49500.0</td>\n",
       "      <td>93629</td>\n",
       "      <td>41.0</td>\n",
       "      <td>4147.0</td>\n",
       "      <td>2.39</td>\n",
       "      <td>58723</td>\n",
       "    </tr>\n",
       "    <tr>\n",
       "      <th>2</th>\n",
       "      <td>AL</td>\n",
       "      <td>Hoover</td>\n",
       "      <td>38040.0</td>\n",
       "      <td>46799.0</td>\n",
       "      <td>84839</td>\n",
       "      <td>38.5</td>\n",
       "      <td>4819.0</td>\n",
       "      <td>2.58</td>\n",
       "      <td>4759</td>\n",
       "    </tr>\n",
       "    <tr>\n",
       "      <th>3</th>\n",
       "      <td>CA</td>\n",
       "      <td>Rancho Cucamonga</td>\n",
       "      <td>88127.0</td>\n",
       "      <td>87105.0</td>\n",
       "      <td>175232</td>\n",
       "      <td>34.5</td>\n",
       "      <td>5821.0</td>\n",
       "      <td>3.18</td>\n",
       "      <td>24437</td>\n",
       "    </tr>\n",
       "    <tr>\n",
       "      <th>4</th>\n",
       "      <td>NJ</td>\n",
       "      <td>Newark</td>\n",
       "      <td>138040.0</td>\n",
       "      <td>143873.0</td>\n",
       "      <td>281913</td>\n",
       "      <td>34.6</td>\n",
       "      <td>5829.0</td>\n",
       "      <td>2.73</td>\n",
       "      <td>76402</td>\n",
       "    </tr>\n",
       "  </tbody>\n",
       "</table>\n",
       "</div>"
      ],
      "text/plain": [
       "  state_code              city  male_population  female_population  \\\n",
       "0         MD     Silver Spring          40601.0            41862.0   \n",
       "1         MA            Quincy          44129.0            49500.0   \n",
       "2         AL            Hoover          38040.0            46799.0   \n",
       "3         CA  Rancho Cucamonga          88127.0            87105.0   \n",
       "4         NJ            Newark         138040.0           143873.0   \n",
       "\n",
       "   total_population  median_age  number_of_veterans  average_household_size  \\\n",
       "0             82463        33.8              1562.0                    2.60   \n",
       "1             93629        41.0              4147.0                    2.39   \n",
       "2             84839        38.5              4819.0                    2.58   \n",
       "3            175232        34.5              5821.0                    3.18   \n",
       "4            281913        34.6              5829.0                    2.73   \n",
       "\n",
       "   total_count  \n",
       "0        25924  \n",
       "1        58723  \n",
       "2         4759  \n",
       "3        24437  \n",
       "4        76402  "
      ]
     },
     "execution_count": 44,
     "metadata": {},
     "output_type": "execute_result"
    }
   ],
   "source": [
    "# Extracting the data columns for the DIMENSION Demographics Table\n",
    "\n",
    "dimension_demographics_table = df_demographics_data[['State Code','City','Male Population','Female Population','Total Population','Median Age','Number of Veterans','Average Household Size','Count']]\n",
    "\n",
    "\n",
    "dimension_demographics_table.columns = ['state_code','city','male_population','female_population','total_population','median_age','number_of_veterans','average_household_size','total_count']\n",
    "\n",
    "dimension_demographics_table.head(5)"
   ]
  },
  {
   "cell_type": "code",
   "execution_count": 45,
   "metadata": {
    "_cell_guid": "e5fc7360-ef56-4011-8a6a-4c1472c22e28",
    "_uuid": "bb7a7548-5b7f-4528-8c44-fee1a593edc2",
    "execution": {
     "iopub.execute_input": "2023-12-29T04:35:13.228924Z",
     "iopub.status.busy": "2023-12-29T04:35:13.228375Z",
     "iopub.status.idle": "2023-12-29T04:35:17.041140Z",
     "shell.execute_reply": "2023-12-29T04:35:17.040201Z",
     "shell.execute_reply.started": "2023-12-29T04:35:13.228894Z"
    },
    "jupyter": {
     "outputs_hidden": false
    }
   },
   "outputs": [
    {
     "name": "stderr",
     "output_type": "stream",
     "text": [
      "/tmp/ipykernel_42/2654625730.py:6: SettingWithCopyWarning: \n",
      "A value is trying to be set on a copy of a slice from a DataFrame.\n",
      "Try using .loc[row_indexer,col_indexer] = value instead\n",
      "\n",
      "See the caveats in the documentation: https://pandas.pydata.org/pandas-docs/stable/user_guide/indexing.html#returning-a-view-versus-a-copy\n",
      "  dimension_temp_countries_temperature_table['country'] = dimension_temp_countries_temperature_table['country'].str.lower()\n"
     ]
    },
    {
     "data": {
      "text/html": [
       "<div>\n",
       "<style scoped>\n",
       "    .dataframe tbody tr th:only-of-type {\n",
       "        vertical-align: middle;\n",
       "    }\n",
       "\n",
       "    .dataframe tbody tr th {\n",
       "        vertical-align: top;\n",
       "    }\n",
       "\n",
       "    .dataframe thead th {\n",
       "        text-align: right;\n",
       "    }\n",
       "</style>\n",
       "<table border=\"1\" class=\"dataframe\">\n",
       "  <thead>\n",
       "    <tr style=\"text-align: right;\">\n",
       "      <th></th>\n",
       "      <th>temperature_date</th>\n",
       "      <th>city</th>\n",
       "      <th>country</th>\n",
       "      <th>average_temperature</th>\n",
       "      <th>latitude</th>\n",
       "      <th>longitude</th>\n",
       "      <th>country_code</th>\n",
       "      <th>country_name</th>\n",
       "    </tr>\n",
       "  </thead>\n",
       "  <tbody>\n",
       "    <tr>\n",
       "      <th>0</th>\n",
       "      <td>1743-11-01</td>\n",
       "      <td>Århus</td>\n",
       "      <td>denmark</td>\n",
       "      <td>6.068</td>\n",
       "      <td>57.05N</td>\n",
       "      <td>10.33E</td>\n",
       "      <td>108</td>\n",
       "      <td>denmark</td>\n",
       "    </tr>\n",
       "    <tr>\n",
       "      <th>1</th>\n",
       "      <td>1743-12-01</td>\n",
       "      <td>Århus</td>\n",
       "      <td>denmark</td>\n",
       "      <td>NaN</td>\n",
       "      <td>57.05N</td>\n",
       "      <td>10.33E</td>\n",
       "      <td>108</td>\n",
       "      <td>denmark</td>\n",
       "    </tr>\n",
       "    <tr>\n",
       "      <th>2</th>\n",
       "      <td>1744-01-01</td>\n",
       "      <td>Århus</td>\n",
       "      <td>denmark</td>\n",
       "      <td>NaN</td>\n",
       "      <td>57.05N</td>\n",
       "      <td>10.33E</td>\n",
       "      <td>108</td>\n",
       "      <td>denmark</td>\n",
       "    </tr>\n",
       "    <tr>\n",
       "      <th>3</th>\n",
       "      <td>1744-02-01</td>\n",
       "      <td>Århus</td>\n",
       "      <td>denmark</td>\n",
       "      <td>NaN</td>\n",
       "      <td>57.05N</td>\n",
       "      <td>10.33E</td>\n",
       "      <td>108</td>\n",
       "      <td>denmark</td>\n",
       "    </tr>\n",
       "    <tr>\n",
       "      <th>4</th>\n",
       "      <td>1744-03-01</td>\n",
       "      <td>Århus</td>\n",
       "      <td>denmark</td>\n",
       "      <td>NaN</td>\n",
       "      <td>57.05N</td>\n",
       "      <td>10.33E</td>\n",
       "      <td>108</td>\n",
       "      <td>denmark</td>\n",
       "    </tr>\n",
       "  </tbody>\n",
       "</table>\n",
       "</div>"
      ],
      "text/plain": [
       "  temperature_date   city  country  average_temperature latitude longitude  \\\n",
       "0       1743-11-01  Århus  denmark                6.068   57.05N    10.33E   \n",
       "1       1743-12-01  Århus  denmark                  NaN   57.05N    10.33E   \n",
       "2       1744-01-01  Århus  denmark                  NaN   57.05N    10.33E   \n",
       "3       1744-02-01  Århus  denmark                  NaN   57.05N    10.33E   \n",
       "4       1744-03-01  Århus  denmark                  NaN   57.05N    10.33E   \n",
       "\n",
       "  country_code country_name  \n",
       "0          108      denmark  \n",
       "1          108      denmark  \n",
       "2          108      denmark  \n",
       "3          108      denmark  \n",
       "4          108      denmark  "
      ]
     },
     "execution_count": 45,
     "metadata": {},
     "output_type": "execute_result"
    }
   ],
   "source": [
    "# Extracting the data columns for the DIMENSION Country Temperature Table\n",
    "\n",
    "dimension_temp_countries_temperature_table = df_temperature_data[['dt','City','Country','AverageTemperature','Latitude','Longitude']]\n",
    "dimension_temp_countries_temperature_table.columns = ['temperature_date','city','country','average_temperature','latitude','longitude']\n",
    "\n",
    "dimension_temp_countries_temperature_table['country'] = dimension_temp_countries_temperature_table['country'].str.lower()\n",
    "df_country_code['country_name'] = df_country_code['country_name'].str.lower()\n",
    "                                                                                                   \n",
    "#dimension_temp_countries_temperature_table.head()\n",
    "#df_country_code.head()\n",
    "\n",
    "dimension_countries_temperature_table = pd.merge(dimension_temp_countries_temperature_table, df_country_code, left_on='country', right_on='country_name', how='inner')\n",
    "\n",
    "dimension_countries_temperature_table.head()"
   ]
  },
  {
   "cell_type": "code",
   "execution_count": 46,
   "metadata": {
    "_cell_guid": "28f31a1f-cbc1-41cd-8460-361bba4aada1",
    "_uuid": "25efc715-08f4-4e21-81ef-203d84427d0e",
    "execution": {
     "iopub.execute_input": "2023-12-29T04:35:17.043297Z",
     "iopub.status.busy": "2023-12-29T04:35:17.042330Z",
     "iopub.status.idle": "2023-12-29T04:35:17.060175Z",
     "shell.execute_reply": "2023-12-29T04:35:17.059001Z",
     "shell.execute_reply.started": "2023-12-29T04:35:17.043261Z"
    },
    "jupyter": {
     "outputs_hidden": false
    }
   },
   "outputs": [
    {
     "data": {
      "text/html": [
       "<div>\n",
       "<style scoped>\n",
       "    .dataframe tbody tr th:only-of-type {\n",
       "        vertical-align: middle;\n",
       "    }\n",
       "\n",
       "    .dataframe tbody tr th {\n",
       "        vertical-align: top;\n",
       "    }\n",
       "\n",
       "    .dataframe thead th {\n",
       "        text-align: right;\n",
       "    }\n",
       "</style>\n",
       "<table border=\"1\" class=\"dataframe\">\n",
       "  <thead>\n",
       "    <tr style=\"text-align: right;\">\n",
       "      <th></th>\n",
       "      <th>airport_code</th>\n",
       "      <th>airport_name</th>\n",
       "      <th>airport_type</th>\n",
       "      <th>local_code</th>\n",
       "      <th>coordinates</th>\n",
       "    </tr>\n",
       "  </thead>\n",
       "  <tbody>\n",
       "    <tr>\n",
       "      <th>0</th>\n",
       "      <td>NaN</td>\n",
       "      <td>Total Rf Heliport</td>\n",
       "      <td>heliport</td>\n",
       "      <td>00A</td>\n",
       "      <td>-74.93360137939453, 40.07080078125</td>\n",
       "    </tr>\n",
       "    <tr>\n",
       "      <th>1</th>\n",
       "      <td>NaN</td>\n",
       "      <td>Aero B Ranch Airport</td>\n",
       "      <td>small_airport</td>\n",
       "      <td>00AA</td>\n",
       "      <td>-101.473911, 38.704022</td>\n",
       "    </tr>\n",
       "    <tr>\n",
       "      <th>2</th>\n",
       "      <td>NaN</td>\n",
       "      <td>Lowell Field</td>\n",
       "      <td>small_airport</td>\n",
       "      <td>00AK</td>\n",
       "      <td>-151.695999146, 59.94919968</td>\n",
       "    </tr>\n",
       "    <tr>\n",
       "      <th>3</th>\n",
       "      <td>NaN</td>\n",
       "      <td>Epps Airpark</td>\n",
       "      <td>small_airport</td>\n",
       "      <td>00AL</td>\n",
       "      <td>-86.77030181884766, 34.86479949951172</td>\n",
       "    </tr>\n",
       "    <tr>\n",
       "      <th>4</th>\n",
       "      <td>NaN</td>\n",
       "      <td>Newport Hospital &amp; Clinic Heliport</td>\n",
       "      <td>closed</td>\n",
       "      <td>NaN</td>\n",
       "      <td>-91.254898, 35.6087</td>\n",
       "    </tr>\n",
       "  </tbody>\n",
       "</table>\n",
       "</div>"
      ],
      "text/plain": [
       "  airport_code                        airport_name   airport_type local_code  \\\n",
       "0          NaN                   Total Rf Heliport       heliport        00A   \n",
       "1          NaN                Aero B Ranch Airport  small_airport       00AA   \n",
       "2          NaN                        Lowell Field  small_airport       00AK   \n",
       "3          NaN                        Epps Airpark  small_airport       00AL   \n",
       "4          NaN  Newport Hospital & Clinic Heliport         closed        NaN   \n",
       "\n",
       "                             coordinates  \n",
       "0     -74.93360137939453, 40.07080078125  \n",
       "1                 -101.473911, 38.704022  \n",
       "2            -151.695999146, 59.94919968  \n",
       "3  -86.77030181884766, 34.86479949951172  \n",
       "4                    -91.254898, 35.6087  "
      ]
     },
     "execution_count": 46,
     "metadata": {},
     "output_type": "execute_result"
    }
   ],
   "source": [
    "# Extracting the data columns for the DIMENSION Airports Table\n",
    "\n",
    "dimension_airports_table = df_airports_code_data [['iata_code','name','type','local_code','coordinates']]\n",
    "\n",
    "dimension_airports_table.columns = ['airport_code','airport_name','airport_type','local_code','coordinates']\n",
    "\n",
    "dimension_airports_table.head(5)"
   ]
  },
  {
   "cell_type": "code",
   "execution_count": 47,
   "metadata": {
    "_cell_guid": "f55121fe-ed39-48e1-8659-bc900f251879",
    "_uuid": "508b462a-b67c-4d75-bd14-2ee28745fe76",
    "execution": {
     "iopub.execute_input": "2023-12-29T04:35:17.061718Z",
     "iopub.status.busy": "2023-12-29T04:35:17.061385Z",
     "iopub.status.idle": "2023-12-29T04:35:17.096064Z",
     "shell.execute_reply": "2023-12-29T04:35:17.095354Z",
     "shell.execute_reply.started": "2023-12-29T04:35:17.061692Z"
    },
    "jupyter": {
     "outputs_hidden": false
    }
   },
   "outputs": [
    {
     "data": {
      "text/html": [
       "<div>\n",
       "<style scoped>\n",
       "    .dataframe tbody tr th:only-of-type {\n",
       "        vertical-align: middle;\n",
       "    }\n",
       "\n",
       "    .dataframe tbody tr th {\n",
       "        vertical-align: top;\n",
       "    }\n",
       "\n",
       "    .dataframe thead th {\n",
       "        text-align: right;\n",
       "    }\n",
       "</style>\n",
       "<table border=\"1\" class=\"dataframe\">\n",
       "  <thead>\n",
       "    <tr style=\"text-align: right;\">\n",
       "      <th></th>\n",
       "      <th>arrival_date</th>\n",
       "      <th>arrival_iso_date</th>\n",
       "      <th>arrival_season</th>\n",
       "      <th>arrival_sas_date</th>\n",
       "      <th>arrival_day</th>\n",
       "      <th>arrival_month</th>\n",
       "      <th>arrival_year</th>\n",
       "    </tr>\n",
       "  </thead>\n",
       "  <tbody>\n",
       "    <tr>\n",
       "      <th>0</th>\n",
       "      <td>2016-04-22</td>\n",
       "      <td>2016-16-5</td>\n",
       "      <td>2</td>\n",
       "      <td>20160422</td>\n",
       "      <td>22</td>\n",
       "      <td>4</td>\n",
       "      <td>2016</td>\n",
       "    </tr>\n",
       "    <tr>\n",
       "      <th>1</th>\n",
       "      <td>2016-04-23</td>\n",
       "      <td>2016-16-6</td>\n",
       "      <td>2</td>\n",
       "      <td>20160423</td>\n",
       "      <td>23</td>\n",
       "      <td>4</td>\n",
       "      <td>2016</td>\n",
       "    </tr>\n",
       "    <tr>\n",
       "      <th>2</th>\n",
       "      <td>2016-04-07</td>\n",
       "      <td>2016-14-4</td>\n",
       "      <td>2</td>\n",
       "      <td>20160407</td>\n",
       "      <td>7</td>\n",
       "      <td>4</td>\n",
       "      <td>2016</td>\n",
       "    </tr>\n",
       "    <tr>\n",
       "      <th>3</th>\n",
       "      <td>2016-04-28</td>\n",
       "      <td>2016-17-4</td>\n",
       "      <td>2</td>\n",
       "      <td>20160428</td>\n",
       "      <td>28</td>\n",
       "      <td>4</td>\n",
       "      <td>2016</td>\n",
       "    </tr>\n",
       "    <tr>\n",
       "      <th>4</th>\n",
       "      <td>2016-04-06</td>\n",
       "      <td>2016-14-3</td>\n",
       "      <td>2</td>\n",
       "      <td>20160406</td>\n",
       "      <td>6</td>\n",
       "      <td>4</td>\n",
       "      <td>2016</td>\n",
       "    </tr>\n",
       "  </tbody>\n",
       "</table>\n",
       "</div>"
      ],
      "text/plain": [
       "  arrival_date arrival_iso_date  arrival_season arrival_sas_date  arrival_day  \\\n",
       "0   2016-04-22        2016-16-5               2         20160422           22   \n",
       "1   2016-04-23        2016-16-6               2         20160423           23   \n",
       "2   2016-04-07        2016-14-4               2         20160407            7   \n",
       "3   2016-04-28        2016-17-4               2         20160428           28   \n",
       "4   2016-04-06        2016-14-3               2         20160406            6   \n",
       "\n",
       "   arrival_month  arrival_year  \n",
       "0              4          2016  \n",
       "1              4          2016  \n",
       "2              4          2016  \n",
       "3              4          2016  \n",
       "4              4          2016  "
      ]
     },
     "execution_count": 47,
     "metadata": {},
     "output_type": "execute_result"
    }
   ],
   "source": [
    "# Extracting the data columns for the DIMENSION Arrival Date Table\n",
    "\n",
    "df_immigration_data['arrdate'] = pd.to_datetime(df_immigration_data['arrdate'])\n",
    "\n",
    "# Create a copy of the DataFrame to avoid SettingWithCopyWarning\n",
    "dimension_arrival_date_table = df_immigration_data[['arrdate']].copy()\n",
    "dimension_arrival_date_table.columns = ['arrival_date']\n",
    "\n",
    "# Convert 'arrival_date' to datetime format\n",
    "dimension_arrival_date_table['arrival_date'] = pd.to_datetime(dimension_arrival_date_table['arrival_date'])\n",
    "\n",
    "# Create new columns\n",
    "dimension_arrival_date_table['arrival_iso_date'] = dimension_arrival_date_table['arrival_date'].dt.strftime('%G-%V-%u').astype(str)\n",
    "dimension_arrival_date_table['arrival_season'] = dimension_arrival_date_table['arrival_date'].dt.quarter\n",
    "dimension_arrival_date_table['arrival_sas_date'] = dimension_arrival_date_table['arrival_date'].dt.strftime('%Y%m%d')\n",
    "dimension_arrival_date_table['arrival_day'] = dimension_arrival_date_table['arrival_date'].dt.day\n",
    "dimension_arrival_date_table['arrival_month'] = dimension_arrival_date_table['arrival_date'].dt.month\n",
    "dimension_arrival_date_table['arrival_year'] = dimension_arrival_date_table['arrival_date'].dt.year\n",
    "\n",
    "# Display the DataFrame with new columns\n",
    "dimension_arrival_date_table.head()"
   ]
  },
  {
   "cell_type": "code",
   "execution_count": null,
   "metadata": {
    "_cell_guid": "be33fe43-2287-422f-9ca2-b6dac24de854",
    "_uuid": "6bd5dbd0-a7fd-4b37-b938-082cbfda9373",
    "jupyter": {
     "outputs_hidden": false
    }
   },
   "outputs": [],
   "source": []
  },
  {
   "cell_type": "markdown",
   "metadata": {
    "_cell_guid": "ecc6d53f-dd07-4f6d-b1e6-cc36f66e268f",
    "_uuid": "cc3b8939-c940-4348-8bca-4a69c427b842"
   },
   "source": [
    "#### 3.2 Mapping Out Data Pipelines\n",
    "###### List the steps necessary to pipeline the data into the chosen data model\n",
    "\n",
    "1) All the following data sources are loaded into the respective datadrame using Pandas.\n",
    "\n",
    "2) Data Assessment and Data Exploration was done using the various Pandas functions like info, shape, descibe etc. to get the descriptive statistics of the data columns in the dataframes.\n",
    "\n",
    "3) Pre-processig data quality checks on all the dataframe has been performed e.g. finding duplicates, finding NULLs, NaNs, volumne count, data types etc. on the following \n",
    "\n",
    "4) Data Dictionary for all the data sources has been performed.\n",
    "\n",
    "5) Conceptual Data model which STAR schema has been visualized clearly depicting the centralized FACT and surrounding DIMENSION tables for better understanding.\n",
    "\n",
    "6) Cleaning steps has been performed on the data frames to get the cleaned and neat data set into the respective tables i.e.\n",
    "\n",
    "    fact_immigration_table    \n",
    "    dimension_arrival_date_table    \n",
    "    dimension_airports_table    \n",
    "    dimension_demographics_table    \n",
    "    dimension_countries_temperature_table\n",
    "    \n",
    "    \n",
    " 7) Using Spark SQL Fact and Dimension tables are joined to get the relevant dataset for Business Insights and Data Visualization"
   ]
  },
  {
   "cell_type": "markdown",
   "metadata": {
    "_cell_guid": "62d543ce-a68c-4ade-bcaa-7eed743a9fb6",
    "_uuid": "2dc083fa-b90f-48ec-ada0-e4283856157a"
   },
   "source": [
    "### Step 4: Run Pipelines to Model the Data \n",
    "#### 4.1 Create the data model\n",
    "Build the data pipelines to create the data model."
   ]
  },
  {
   "cell_type": "code",
   "execution_count": 48,
   "metadata": {
    "_cell_guid": "21f31f74-11ca-47f7-92df-552a6a2de6c3",
    "_uuid": "5b016af3-bb1e-452c-909d-5db4fbc83c5e",
    "execution": {
     "iopub.execute_input": "2023-12-29T04:35:17.098549Z",
     "iopub.status.busy": "2023-12-29T04:35:17.097048Z",
     "iopub.status.idle": "2023-12-29T04:35:17.103334Z",
     "shell.execute_reply": "2023-12-29T04:35:17.102246Z",
     "shell.execute_reply.started": "2023-12-29T04:35:17.098499Z"
    },
    "jupyter": {
     "outputs_hidden": false
    }
   },
   "outputs": [],
   "source": [
    "# Dataframes info for the Pandas dataframe created after defining the DATA model"
   ]
  },
  {
   "cell_type": "code",
   "execution_count": 49,
   "metadata": {
    "_cell_guid": "702188fc-ec14-450b-991d-743e8340f1a0",
    "_uuid": "e7e1825f-b3bf-4f16-b460-cf5b196b65b7",
    "execution": {
     "iopub.execute_input": "2023-12-29T04:35:17.104888Z",
     "iopub.status.busy": "2023-12-29T04:35:17.104613Z",
     "iopub.status.idle": "2023-12-29T04:35:17.121188Z",
     "shell.execute_reply": "2023-12-29T04:35:17.119685Z",
     "shell.execute_reply.started": "2023-12-29T04:35:17.104857Z"
    },
    "jupyter": {
     "outputs_hidden": false
    }
   },
   "outputs": [
    {
     "name": "stdout",
     "output_type": "stream",
     "text": [
      "<class 'pandas.core.frame.DataFrame'>\n",
      "RangeIndex: 1000 entries, 0 to 999\n",
      "Data columns (total 15 columns):\n",
      " #   Column                 Non-Null Count  Dtype         \n",
      "---  ------                 --------------  -----         \n",
      " 0   cic_id                 1000 non-null   float64       \n",
      " 1   arrive_date            1000 non-null   datetime64[ns]\n",
      " 2   origin_country_code    1000 non-null   float64       \n",
      " 3   airport_code           1000 non-null   object        \n",
      " 4   state_code             941 non-null    object        \n",
      " 5   departure_date         951 non-null    datetime64[ns]\n",
      " 6   mode                   1000 non-null   float64       \n",
      " 7   visa                   1000 non-null   float64       \n",
      " 8   visa_type              1000 non-null   object        \n",
      " 9   occupation             4 non-null      object        \n",
      " 10  gender                 859 non-null    object        \n",
      " 11  airline                967 non-null    object        \n",
      " 12  airline_flight_number  992 non-null    object        \n",
      " 13  date_of_birth_year     1000 non-null   float64       \n",
      " 14  admission_id_number    1000 non-null   float64       \n",
      "dtypes: datetime64[ns](2), float64(6), object(7)\n",
      "memory usage: 117.3+ KB\n"
     ]
    }
   ],
   "source": [
    "fact_immigration_table.info()"
   ]
  },
  {
   "cell_type": "code",
   "execution_count": 50,
   "metadata": {
    "_cell_guid": "13a633d1-5123-4637-8ffd-1b1e0511ae4d",
    "_uuid": "4beb59c6-b444-4594-9dc4-da06c2bc7e08",
    "execution": {
     "iopub.execute_input": "2023-12-29T04:35:17.123072Z",
     "iopub.status.busy": "2023-12-29T04:35:17.122537Z",
     "iopub.status.idle": "2023-12-29T04:35:17.139825Z",
     "shell.execute_reply": "2023-12-29T04:35:17.138724Z",
     "shell.execute_reply.started": "2023-12-29T04:35:17.123039Z"
    },
    "jupyter": {
     "outputs_hidden": false
    }
   },
   "outputs": [
    {
     "name": "stdout",
     "output_type": "stream",
     "text": [
      "<class 'pandas.core.frame.DataFrame'>\n",
      "RangeIndex: 1000 entries, 0 to 999\n",
      "Data columns (total 7 columns):\n",
      " #   Column            Non-Null Count  Dtype         \n",
      "---  ------            --------------  -----         \n",
      " 0   arrival_date      1000 non-null   datetime64[ns]\n",
      " 1   arrival_iso_date  1000 non-null   object        \n",
      " 2   arrival_season    1000 non-null   int32         \n",
      " 3   arrival_sas_date  1000 non-null   object        \n",
      " 4   arrival_day       1000 non-null   int32         \n",
      " 5   arrival_month     1000 non-null   int32         \n",
      " 6   arrival_year      1000 non-null   int32         \n",
      "dtypes: datetime64[ns](1), int32(4), object(2)\n",
      "memory usage: 39.2+ KB\n"
     ]
    }
   ],
   "source": [
    "dimension_arrival_date_table.info()"
   ]
  },
  {
   "cell_type": "code",
   "execution_count": 51,
   "metadata": {
    "_cell_guid": "323c74e4-1604-47c8-9d5d-9a02515efdea",
    "_uuid": "0ae5a357-bc71-4ae0-bfaa-c04f11b213f7",
    "execution": {
     "iopub.execute_input": "2023-12-29T04:35:17.141182Z",
     "iopub.status.busy": "2023-12-29T04:35:17.140889Z",
     "iopub.status.idle": "2023-12-29T04:35:17.160747Z",
     "shell.execute_reply": "2023-12-29T04:35:17.159826Z",
     "shell.execute_reply.started": "2023-12-29T04:35:17.141156Z"
    },
    "jupyter": {
     "outputs_hidden": false
    }
   },
   "outputs": [
    {
     "name": "stdout",
     "output_type": "stream",
     "text": [
      "<class 'pandas.core.frame.DataFrame'>\n",
      "RangeIndex: 55075 entries, 0 to 55074\n",
      "Data columns (total 5 columns):\n",
      " #   Column        Non-Null Count  Dtype \n",
      "---  ------        --------------  ----- \n",
      " 0   airport_code  9189 non-null   object\n",
      " 1   airport_name  55075 non-null  object\n",
      " 2   airport_type  55075 non-null  object\n",
      " 3   local_code    28686 non-null  object\n",
      " 4   coordinates   55075 non-null  object\n",
      "dtypes: object(5)\n",
      "memory usage: 2.1+ MB\n"
     ]
    }
   ],
   "source": [
    "dimension_airports_table.info()"
   ]
  },
  {
   "cell_type": "code",
   "execution_count": 52,
   "metadata": {
    "_cell_guid": "e201aa61-21ed-4166-8300-4b1542b6ed46",
    "_uuid": "02e055b2-f471-49d5-ab07-abc1d3c8a433",
    "execution": {
     "iopub.execute_input": "2023-12-29T04:35:17.162292Z",
     "iopub.status.busy": "2023-12-29T04:35:17.162007Z",
     "iopub.status.idle": "2023-12-29T04:35:17.176361Z",
     "shell.execute_reply": "2023-12-29T04:35:17.175515Z",
     "shell.execute_reply.started": "2023-12-29T04:35:17.162267Z"
    },
    "jupyter": {
     "outputs_hidden": false
    }
   },
   "outputs": [
    {
     "name": "stdout",
     "output_type": "stream",
     "text": [
      "<class 'pandas.core.frame.DataFrame'>\n",
      "RangeIndex: 2891 entries, 0 to 2890\n",
      "Data columns (total 9 columns):\n",
      " #   Column                  Non-Null Count  Dtype  \n",
      "---  ------                  --------------  -----  \n",
      " 0   state_code              2891 non-null   object \n",
      " 1   city                    2891 non-null   object \n",
      " 2   male_population         2888 non-null   float64\n",
      " 3   female_population       2888 non-null   float64\n",
      " 4   total_population        2891 non-null   int64  \n",
      " 5   median_age              2891 non-null   float64\n",
      " 6   number_of_veterans      2878 non-null   float64\n",
      " 7   average_household_size  2875 non-null   float64\n",
      " 8   total_count             2891 non-null   int64  \n",
      "dtypes: float64(5), int64(2), object(2)\n",
      "memory usage: 203.4+ KB\n"
     ]
    }
   ],
   "source": [
    "dimension_demographics_table.info()"
   ]
  },
  {
   "cell_type": "code",
   "execution_count": 53,
   "metadata": {
    "_cell_guid": "146ced33-f06f-4be4-954a-5b51da77e842",
    "_uuid": "5fb08cd6-1abf-4ebd-ad3a-17f523666f81",
    "execution": {
     "iopub.execute_input": "2023-12-29T04:35:17.177713Z",
     "iopub.status.busy": "2023-12-29T04:35:17.177415Z",
     "iopub.status.idle": "2023-12-29T04:35:17.192484Z",
     "shell.execute_reply": "2023-12-29T04:35:17.190055Z",
     "shell.execute_reply.started": "2023-12-29T04:35:17.177688Z"
    },
    "jupyter": {
     "outputs_hidden": false
    }
   },
   "outputs": [
    {
     "name": "stdout",
     "output_type": "stream",
     "text": [
      "<class 'pandas.core.frame.DataFrame'>\n",
      "RangeIndex: 6639096 entries, 0 to 6639095\n",
      "Data columns (total 8 columns):\n",
      " #   Column               Dtype  \n",
      "---  ------               -----  \n",
      " 0   temperature_date     object \n",
      " 1   city                 object \n",
      " 2   country              object \n",
      " 3   average_temperature  float64\n",
      " 4   latitude             object \n",
      " 5   longitude            object \n",
      " 6   country_code         object \n",
      " 7   country_name         object \n",
      "dtypes: float64(1), object(7)\n",
      "memory usage: 405.2+ MB\n"
     ]
    }
   ],
   "source": [
    "dimension_countries_temperature_table.info()"
   ]
  },
  {
   "cell_type": "code",
   "execution_count": 54,
   "metadata": {
    "_cell_guid": "1b1d14d1-c370-4a0e-a87f-de24c51360ff",
    "_uuid": "e2750d17-3b28-4991-bc63-165461b932a3",
    "execution": {
     "iopub.execute_input": "2023-12-29T04:35:17.194353Z",
     "iopub.status.busy": "2023-12-29T04:35:17.193998Z",
     "iopub.status.idle": "2023-12-29T04:35:28.440355Z",
     "shell.execute_reply": "2023-12-29T04:35:28.439347Z",
     "shell.execute_reply.started": "2023-12-29T04:35:17.194319Z"
    },
    "jupyter": {
     "outputs_hidden": false
    }
   },
   "outputs": [
    {
     "name": "stderr",
     "output_type": "stream",
     "text": [
      "Setting default log level to \"WARN\".\n",
      "To adjust logging level use sc.setLogLevel(newLevel). For SparkR, use setLogLevel(newLevel).\n",
      "23/12/29 04:35:20 WARN NativeCodeLoader: Unable to load native-hadoop library for your platform... using builtin-java classes where applicable\n",
      "                                                                                \r"
     ]
    },
    {
     "name": "stdout",
     "output_type": "stream",
     "text": [
      "+---------+-----------+-------------------+------------+----------+--------------+----+----+---------+----------+------+-------+---------------------+------------------+-------------------+\n",
      "|   cic_id|arrive_date|origin_country_code|airport_code|state_code|departure_date|mode|visa|visa_type|occupation|gender|airline|airline_flight_number|date_of_birth_year|admission_id_number|\n",
      "+---------+-----------+-------------------+------------+----------+--------------+----+----+---------+----------+------+-------+---------------------+------------------+-------------------+\n",
      "|4084316.0| 2016-04-22|              209.0|         HHW|        HI|    2016-04-29| 1.0| 2.0|       WT|       NaN|     F|     JL|                00782|            1955.0|    5.6582674633E10|\n",
      "|4422636.0| 2016-04-23|              582.0|         MCA|        TX|    2016-04-24| 1.0| 2.0|       B2|       NaN|     M|    *GA|                XBLNG|            1990.0|     9.436199593E10|\n",
      "|1195600.0| 2016-04-07|              112.0|         OGG|        FL|    2016-04-27| 1.0| 2.0|       WT|       NaN|     M|     LH|                00464|            1940.0|    5.5780468433E10|\n",
      "+---------+-----------+-------------------+------------+----------+--------------+----+----+---------+----------+------+-------+---------------------+------------------+-------------------+\n",
      "only showing top 3 rows\n",
      "\n"
     ]
    }
   ],
   "source": [
    "# Creating the ETL pipeline for data model for Immigration data\n",
    "\n",
    "# Creating Spark Session \"Udacity_Capstone_US_Immigration_Project\" \n",
    "spark = SparkSession.builder.appName(\"Udacity_Capstone_US_Immigration_Project\").getOrCreate()\n",
    "\n",
    "# Define the schema for the Spark DataFrame based on Pandas DataFrame\n",
    "schema = StructType([\n",
    "    StructField(\"cic_id\", DoubleType(), True),\n",
    "    StructField(\"arrive_date\", DateType(), True),\n",
    "    StructField(\"origin_country_code\", DoubleType(), True),\n",
    "    StructField(\"airport_code\", StringType(), True),\n",
    "    StructField(\"state_code\", StringType(), True),\n",
    "    StructField(\"departure_date\", DateType(), True),\n",
    "    StructField(\"mode\", DoubleType(), True),\n",
    "    StructField(\"visa\", DoubleType(), True),\n",
    "    StructField(\"visa_type\", StringType(), True),\n",
    "    StructField(\"occupation\", StringType(), True),\n",
    "    StructField(\"gender\", StringType(), True),\n",
    "    StructField(\"airline\", StringType(), True),\n",
    "    StructField(\"airline_flight_number\", StringType(), True),\n",
    "    StructField(\"date_of_birth_year\", DoubleType(), True),\n",
    "    StructField(\"admission_id_number\", DoubleType(), True),\n",
    "])\n",
    "\n",
    "# Convert Pandas DataFrame to Spark DataFrame\n",
    "spark_fact_immigration_table = spark.createDataFrame(fact_immigration_table, schema=schema)\n",
    "\n",
    "# Create or replace a temporary view\n",
    "spark_fact_immigration_table.createOrReplaceTempView(\"fact_immigration_table\")\n",
    "\n",
    "# Now we can use Spark SQL queries on the created view\n",
    "result_fact_immigration = spark.sql(\"SELECT * FROM fact_immigration_table\")\n",
    "result_fact_immigration.show(3)"
   ]
  },
  {
   "cell_type": "code",
   "execution_count": 55,
   "metadata": {
    "_cell_guid": "4b5a29f6-3c28-49c8-9f8b-9c69422cc48d",
    "_uuid": "eeb9ecec-b5f5-4f70-95c7-42b7ebf9a72b",
    "execution": {
     "iopub.execute_input": "2023-12-29T04:35:28.441857Z",
     "iopub.status.busy": "2023-12-29T04:35:28.441519Z",
     "iopub.status.idle": "2023-12-29T04:35:28.892565Z",
     "shell.execute_reply": "2023-12-29T04:35:28.891717Z",
     "shell.execute_reply.started": "2023-12-29T04:35:28.441820Z"
    },
    "jupyter": {
     "outputs_hidden": false
    }
   },
   "outputs": [
    {
     "name": "stdout",
     "output_type": "stream",
     "text": [
      "+------------+----------------+--------------+----------------+-----------+-------------+------------+\n",
      "|arrival_date|arrival_iso_date|arrival_season|arrival_sas_date|arrival_day|arrival_month|arrival_year|\n",
      "+------------+----------------+--------------+----------------+-----------+-------------+------------+\n",
      "|  2016-04-22|       2016-16-5|             2|        20160422|         22|            4|        2016|\n",
      "|  2016-04-23|       2016-16-6|             2|        20160423|         23|            4|        2016|\n",
      "+------------+----------------+--------------+----------------+-----------+-------------+------------+\n",
      "only showing top 2 rows\n",
      "\n"
     ]
    }
   ],
   "source": [
    "# Define the schema for the Spark DataFrame for DIMENSION Arrival Date Table\n",
    "schema = StructType([\n",
    "    StructField(\"arrival_date\", DateType(), True),\n",
    "    StructField(\"arrival_iso_date\", StringType(), True),\n",
    "    StructField(\"arrival_season\", IntegerType(), True),\n",
    "    StructField(\"arrival_sas_date\", StringType(), True),\n",
    "    StructField(\"arrival_day\", IntegerType(), True),\n",
    "    StructField(\"arrival_month\", IntegerType(), True),\n",
    "    StructField(\"arrival_year\", IntegerType(), True)\n",
    "])\n",
    "\n",
    "# Convert Pandas DataFrame to Spark DataFrame\n",
    "spark_dimension_arrival_date_table = spark.createDataFrame(dimension_arrival_date_table, schema=schema)\n",
    "\n",
    "# Create or replace a temporary view for Spark SQL queries\n",
    "spark_dimension_arrival_date_table.createOrReplaceTempView(\"dimension_arrival_date_table\")\n",
    "\n",
    "# Now we can use Spark SQL queries on the \"dimension_arrival_date_table\" view\n",
    "result_dimension_arrival_date = spark.sql(\"SELECT * FROM dimension_arrival_date_table\")\n",
    "result_dimension_arrival_date.show(2)"
   ]
  },
  {
   "cell_type": "code",
   "execution_count": 56,
   "metadata": {
    "_cell_guid": "47210d4c-5027-4797-877d-89e6273998d0",
    "_uuid": "c35c5358-73ac-4bb5-ad52-7eee6f22803b",
    "execution": {
     "iopub.execute_input": "2023-12-29T04:35:28.893816Z",
     "iopub.status.busy": "2023-12-29T04:35:28.893530Z",
     "iopub.status.idle": "2023-12-29T04:35:29.945574Z",
     "shell.execute_reply": "2023-12-29T04:35:29.944818Z",
     "shell.execute_reply.started": "2023-12-29T04:35:28.893788Z"
    },
    "jupyter": {
     "outputs_hidden": false
    }
   },
   "outputs": [
    {
     "name": "stdout",
     "output_type": "stream",
     "text": [
      "+------------+--------------------+-------------+----------+--------------------+\n",
      "|airport_code|        airport_name| airport_type|local_code|         coordinates|\n",
      "+------------+--------------------+-------------+----------+--------------------+\n",
      "|         NaN|   Total Rf Heliport|     heliport|       00A|-74.9336013793945...|\n",
      "|         NaN|Aero B Ranch Airport|small_airport|      00AA|-101.473911, 38.7...|\n",
      "+------------+--------------------+-------------+----------+--------------------+\n",
      "only showing top 2 rows\n",
      "\n"
     ]
    },
    {
     "name": "stderr",
     "output_type": "stream",
     "text": [
      "23/12/29 04:35:29 WARN TaskSetManager: Stage 2 contains a task of very large size (1060 KiB). The maximum recommended task size is 1000 KiB.\n"
     ]
    }
   ],
   "source": [
    "# Define the schema for the Spark DataFrame for DIMENSION Airports Table\n",
    "schema = StructType([\n",
    "    StructField(\"airport_code\", StringType(), True),\n",
    "    StructField(\"airport_name\", StringType(), True),\n",
    "    StructField(\"airport_type\", StringType(), True),\n",
    "    StructField(\"local_code\", StringType(), True),\n",
    "    StructField(\"coordinates\", StringType(), True)\n",
    "])\n",
    "\n",
    "# Convert Pandas DataFrame to Spark DataFrame\n",
    "spark_dimension_airports_table = spark.createDataFrame(dimension_airports_table, schema=schema)\n",
    "\n",
    "# Create or replace a temporary view for Spark SQL queries\n",
    "spark_dimension_airports_table.createOrReplaceTempView(\"dimension_airports_table\")\n",
    "\n",
    "# Now we can use Spark SQL queries on the \"dimension_airports_table\" view\n",
    "result_dimension_airports = spark.sql(\"SELECT * FROM dimension_airports_table\")\n",
    "result_dimension_airports.show(2)"
   ]
  },
  {
   "cell_type": "code",
   "execution_count": 57,
   "metadata": {
    "_cell_guid": "1c6faf9b-f623-41df-9796-01a715a714de",
    "_uuid": "28f38b62-7492-4776-ab03-01fe054601e1",
    "execution": {
     "iopub.execute_input": "2023-12-29T04:35:29.946719Z",
     "iopub.status.busy": "2023-12-29T04:35:29.946456Z",
     "iopub.status.idle": "2023-12-29T04:35:30.374594Z",
     "shell.execute_reply": "2023-12-29T04:35:30.373037Z",
     "shell.execute_reply.started": "2023-12-29T04:35:29.946692Z"
    },
    "jupyter": {
     "outputs_hidden": false
    }
   },
   "outputs": [
    {
     "name": "stderr",
     "output_type": "stream",
     "text": [
      "/tmp/ipykernel_42/2928816481.py:3: SettingWithCopyWarning: \n",
      "A value is trying to be set on a copy of a slice from a DataFrame.\n",
      "Try using .loc[row_indexer,col_indexer] = value instead\n",
      "\n",
      "See the caveats in the documentation: https://pandas.pydata.org/pandas-docs/stable/user_guide/indexing.html#returning-a-view-versus-a-copy\n",
      "  dimension_demographics_table[decimal_columns] = dimension_demographics_table[decimal_columns].astype(float)\n"
     ]
    },
    {
     "name": "stdout",
     "output_type": "stream",
     "text": [
      "+----------+-------------+---------------+-----------------+----------------+----------+------------------+----------------------+-----------+\n",
      "|state_code|         city|male_population|female_population|total_population|median_age|number_of_veterans|average_household_size|total_count|\n",
      "+----------+-------------+---------------+-----------------+----------------+----------+------------------+----------------------+-----------+\n",
      "|        MD|Silver Spring|        40601.0|          41862.0|           82463|      33.8|            1562.0|                   2.6|      25924|\n",
      "|        MA|       Quincy|        44129.0|          49500.0|           93629|      41.0|            4147.0|                  2.39|      58723|\n",
      "|        AL|       Hoover|        38040.0|          46799.0|           84839|      38.5|            4819.0|                  2.58|       4759|\n",
      "+----------+-------------+---------------+-----------------+----------------+----------+------------------+----------------------+-----------+\n",
      "only showing top 3 rows\n",
      "\n"
     ]
    }
   ],
   "source": [
    "# Convert columns with decimal values to float before using the float columns\n",
    "decimal_columns = ['male_population', 'female_population', 'number_of_veterans']\n",
    "dimension_demographics_table[decimal_columns] = dimension_demographics_table[decimal_columns].astype(float)\n",
    "\n",
    "# Define the schema for the Spark DataFrame for Dimension Demographics Table\n",
    "schema = StructType([\n",
    "    StructField(\"state_code\", StringType(), True),\n",
    "    StructField(\"city\", StringType(), True),\n",
    "    StructField(\"male_population\", FloatType(), True),\n",
    "    StructField(\"female_population\", FloatType(), True),\n",
    "    StructField(\"total_population\", IntegerType(), True),\n",
    "    StructField(\"median_age\", FloatType(), True),\n",
    "    StructField(\"number_of_veterans\", FloatType(), True),\n",
    "    StructField(\"average_household_size\", FloatType(), True),\n",
    "    StructField(\"total_count\", IntegerType(), True)\n",
    "])\n",
    "\n",
    "# Convert Pandas DataFrame to Spark DataFrame\n",
    "spark_dimension_demographics_table = spark.createDataFrame(dimension_demographics_table, schema=schema)\n",
    "\n",
    "# Create or replace a temporary view for Spark SQL queries\n",
    "spark_dimension_demographics_table.createOrReplaceTempView(\"dimension_demographics_table\")\n",
    "\n",
    "# Now we can use Spark SQL queries on the \"dimension_demographics_table\" view\n",
    "result_dimension_demographics = spark.sql(\"SELECT * FROM dimension_demographics_table\")\n",
    "result_dimension_demographics.show(3)"
   ]
  },
  {
   "cell_type": "code",
   "execution_count": 58,
   "metadata": {
    "_cell_guid": "aa91dc68-fddb-45a3-8013-bd6a627c3771",
    "_uuid": "f5c58d9b-037e-4737-b524-58a34b3a94a0",
    "execution": {
     "iopub.execute_input": "2023-12-29T04:35:30.375876Z",
     "iopub.status.busy": "2023-12-29T04:35:30.375595Z",
     "iopub.status.idle": "2023-12-29T04:37:16.237690Z",
     "shell.execute_reply": "2023-12-29T04:37:16.236846Z",
     "shell.execute_reply.started": "2023-12-29T04:35:30.375850Z"
    },
    "jupyter": {
     "outputs_hidden": false
    }
   },
   "outputs": [
    {
     "name": "stderr",
     "output_type": "stream",
     "text": [
      "23/12/29 04:37:12 WARN TaskSetManager: Stage 4 contains a task of very large size (85451 KiB). The maximum recommended task size is 1000 KiB.\n",
      "[Stage 4:>                                                          (0 + 1) / 1]\r"
     ]
    },
    {
     "name": "stdout",
     "output_type": "stream",
     "text": [
      "+------------+------------+-------------------+--------+---------+\n",
      "|country_code|country_name|average_temperature|latitude|longitude|\n",
      "+------------+------------+-------------------+--------+---------+\n",
      "|         108|     denmark|              6.068|  57.05N|   10.33E|\n",
      "|         108|     denmark|                NaN|  57.05N|   10.33E|\n",
      "+------------+------------+-------------------+--------+---------+\n",
      "only showing top 2 rows\n",
      "\n"
     ]
    },
    {
     "name": "stderr",
     "output_type": "stream",
     "text": [
      "23/12/29 04:37:16 WARN PythonRunner: Detected deadlock while completing task 0.0 in stage 4 (TID 4): Attempting to kill Python Worker\n",
      "                                                                                \r"
     ]
    }
   ],
   "source": [
    "# Converting the temperature_date column to datetime\n",
    "dimension_countries_temperature_table['temperature_date'] = pd.to_datetime(dimension_countries_temperature_table['temperature_date'])\n",
    "\n",
    "# Define the schema for the Spark DataFrame\n",
    "schema = StructType([\n",
    "    StructField(\"temperature_date\", StringType(), True),\n",
    "    StructField(\"city\", StringType(), True),\n",
    "    StructField(\"country\", StringType(), True),\n",
    "    StructField(\"average_temperature\", FloatType(), True),\n",
    "    StructField(\"latitude\", StringType(), True),\n",
    "    StructField(\"longitude\", StringType(), True),\n",
    "    StructField(\"country_code\", StringType(), True),\n",
    "    StructField(\"country_name\", StringType(), True)\n",
    "])\n",
    "\n",
    "# Convert Pandas DataFrame to Spark DataFrame\n",
    "spark_dimension_countries_temperature_table = spark.createDataFrame(dimension_countries_temperature_table, schema=schema)\n",
    "\n",
    "# Create or replace a temporary view for Spark SQL queries\n",
    "spark_dimension_countries_temperature_table.createOrReplaceTempView(\"dimension_countries_temperature_table\")\n",
    "\n",
    "# Now we can use Spark SQL queries on the \"dimension_countries_temperature_table\" view\n",
    "result_dimension_countries_temperature = spark.sql(\"SELECT country_code ,country_name, average_temperature,latitude, longitude FROM dimension_countries_temperature_table\")\n",
    "result_dimension_countries_temperature.show(2)"
   ]
  },
  {
   "cell_type": "code",
   "execution_count": null,
   "metadata": {},
   "outputs": [],
   "source": [
    "# Output path for Parquet files\n",
    "output_path = \"/workspace/home/output_folder\"\n",
    "\n",
    "# Write Spark DataFrames to Parquet files\n",
    "spark_fact_immigration_table.write.mode(\"overwrite\").parquet(f\"{output_path}/fact_immigration_table\")\n",
    "spark_dimension_arrival_date_table.write.mode(\"overwrite\").parquet(f\"{output_path}/dimension_arrival_date_table\")\n",
    "spark_dimension_airports_table.write.mode(\"overwrite\").parquet(f\"{output_path}/dimension_airports_table\")\n",
    "spark_dimension_demographics_table.write.mode(\"overwrite\").parquet(f\"{output_path}/dimension_demographics_table\")\n",
    "spark_dimension_countries_temperature_table.write.mode(\"overwrite\").parquet(f\"{output_path}/dimension_countries_temperature_table\")"
   ]
  },
  {
   "cell_type": "code",
   "execution_count": 59,
   "metadata": {
    "execution": {
     "iopub.execute_input": "2023-12-29T04:37:16.238957Z",
     "iopub.status.busy": "2023-12-29T04:37:16.238647Z",
     "iopub.status.idle": "2023-12-29T04:37:16.245773Z",
     "shell.execute_reply": "2023-12-29T04:37:16.244940Z",
     "shell.execute_reply.started": "2023-12-29T04:37:16.238926Z"
    }
   },
   "outputs": [
    {
     "name": "stdout",
     "output_type": "stream",
     "text": [
      "root\n",
      " |-- country_code: string (nullable = true)\n",
      " |-- country_name: string (nullable = true)\n",
      " |-- average_temperature: float (nullable = true)\n",
      " |-- latitude: string (nullable = true)\n",
      " |-- longitude: string (nullable = true)\n",
      "\n"
     ]
    }
   ],
   "source": [
    "result_dimension_countries_temperature.printSchema()"
   ]
  },
  {
   "cell_type": "code",
   "execution_count": 60,
   "metadata": {
    "execution": {
     "iopub.execute_input": "2023-12-29T04:37:16.247678Z",
     "iopub.status.busy": "2023-12-29T04:37:16.247054Z",
     "iopub.status.idle": "2023-12-29T04:37:16.255460Z",
     "shell.execute_reply": "2023-12-29T04:37:16.254820Z",
     "shell.execute_reply.started": "2023-12-29T04:37:16.247649Z"
    }
   },
   "outputs": [
    {
     "name": "stdout",
     "output_type": "stream",
     "text": [
      "root\n",
      " |-- state_code: string (nullable = true)\n",
      " |-- city: string (nullable = true)\n",
      " |-- male_population: float (nullable = true)\n",
      " |-- female_population: float (nullable = true)\n",
      " |-- total_population: integer (nullable = true)\n",
      " |-- median_age: float (nullable = true)\n",
      " |-- number_of_veterans: float (nullable = true)\n",
      " |-- average_household_size: float (nullable = true)\n",
      " |-- total_count: integer (nullable = true)\n",
      "\n"
     ]
    }
   ],
   "source": [
    "result_dimension_demographics.printSchema()"
   ]
  },
  {
   "cell_type": "code",
   "execution_count": 61,
   "metadata": {
    "execution": {
     "iopub.execute_input": "2023-12-29T04:37:16.256654Z",
     "iopub.status.busy": "2023-12-29T04:37:16.256404Z",
     "iopub.status.idle": "2023-12-29T04:37:16.264920Z",
     "shell.execute_reply": "2023-12-29T04:37:16.264000Z",
     "shell.execute_reply.started": "2023-12-29T04:37:16.256632Z"
    }
   },
   "outputs": [
    {
     "name": "stdout",
     "output_type": "stream",
     "text": [
      "root\n",
      " |-- airport_code: string (nullable = true)\n",
      " |-- airport_name: string (nullable = true)\n",
      " |-- airport_type: string (nullable = true)\n",
      " |-- local_code: string (nullable = true)\n",
      " |-- coordinates: string (nullable = true)\n",
      "\n"
     ]
    }
   ],
   "source": [
    "result_dimension_airports.printSchema()"
   ]
  },
  {
   "cell_type": "code",
   "execution_count": 62,
   "metadata": {
    "execution": {
     "iopub.execute_input": "2023-12-29T04:37:16.266014Z",
     "iopub.status.busy": "2023-12-29T04:37:16.265720Z",
     "iopub.status.idle": "2023-12-29T04:37:16.273750Z",
     "shell.execute_reply": "2023-12-29T04:37:16.272881Z",
     "shell.execute_reply.started": "2023-12-29T04:37:16.265986Z"
    }
   },
   "outputs": [
    {
     "name": "stdout",
     "output_type": "stream",
     "text": [
      "root\n",
      " |-- arrival_date: date (nullable = true)\n",
      " |-- arrival_iso_date: string (nullable = true)\n",
      " |-- arrival_season: integer (nullable = true)\n",
      " |-- arrival_sas_date: string (nullable = true)\n",
      " |-- arrival_day: integer (nullable = true)\n",
      " |-- arrival_month: integer (nullable = true)\n",
      " |-- arrival_year: integer (nullable = true)\n",
      "\n"
     ]
    }
   ],
   "source": [
    "result_dimension_arrival_date.printSchema()"
   ]
  },
  {
   "cell_type": "code",
   "execution_count": 63,
   "metadata": {
    "execution": {
     "iopub.execute_input": "2023-12-29T04:37:16.275274Z",
     "iopub.status.busy": "2023-12-29T04:37:16.274957Z",
     "iopub.status.idle": "2023-12-29T04:37:16.286804Z",
     "shell.execute_reply": "2023-12-29T04:37:16.285800Z",
     "shell.execute_reply.started": "2023-12-29T04:37:16.275244Z"
    }
   },
   "outputs": [
    {
     "name": "stdout",
     "output_type": "stream",
     "text": [
      "root\n",
      " |-- cic_id: double (nullable = true)\n",
      " |-- arrive_date: date (nullable = true)\n",
      " |-- origin_country_code: double (nullable = true)\n",
      " |-- airport_code: string (nullable = true)\n",
      " |-- state_code: string (nullable = true)\n",
      " |-- departure_date: date (nullable = true)\n",
      " |-- mode: double (nullable = true)\n",
      " |-- visa: double (nullable = true)\n",
      " |-- visa_type: string (nullable = true)\n",
      " |-- occupation: string (nullable = true)\n",
      " |-- gender: string (nullable = true)\n",
      " |-- airline: string (nullable = true)\n",
      " |-- airline_flight_number: string (nullable = true)\n",
      " |-- date_of_birth_year: double (nullable = true)\n",
      " |-- admission_id_number: double (nullable = true)\n",
      "\n"
     ]
    }
   ],
   "source": [
    "result_fact_immigration.printSchema()"
   ]
  },
  {
   "cell_type": "code",
   "execution_count": 64,
   "metadata": {
    "_cell_guid": "5d87a45b-d642-4b45-809c-0abd3eec3ca8",
    "_uuid": "a8a4ac12-5b28-45b6-8952-ab73a3920fbf",
    "execution": {
     "iopub.execute_input": "2023-12-29T04:37:16.289691Z",
     "iopub.status.busy": "2023-12-29T04:37:16.288337Z",
     "iopub.status.idle": "2023-12-29T04:37:45.361372Z",
     "shell.execute_reply": "2023-12-29T04:37:45.359803Z",
     "shell.execute_reply.started": "2023-12-29T04:37:16.289651Z"
    },
    "jupyter": {
     "outputs_hidden": false
    }
   },
   "outputs": [
    {
     "name": "stderr",
     "output_type": "stream",
     "text": [
      "23/12/29 04:37:16 WARN SparkSession: Using an existing Spark session; only runtime SQL configurations will take effect.\n"
     ]
    },
    {
     "name": "stdout",
     "output_type": "stream",
     "text": [
      "Data Quality Checks passed for fact_immigration_table:\n",
      "+------+-----------+-------------------+------------+----------+--------------+-----+-----+---------+----------+------+-------+---------------------+------------------+-------------------+--------------------+\n",
      "|cic_id|arrive_date|origin_country_code|airport_code|state_code|departure_date| mode| visa|visa_type|occupation|gender|airline|airline_flight_number|date_of_birth_year|admission_id_number|               table|\n",
      "+------+-----------+-------------------+------------+----------+--------------+-----+-----+---------+----------+------+-------+---------------------+------------------+-------------------+--------------------+\n",
      "| false|      false|              false|       false|     false|         false|false|false|    false|     false| false|  false|                false|             false|              false|fact_immigration_...|\n",
      "| false|      false|              false|       false|     false|         false|false|false|    false|     false| false|  false|                false|             false|              false|fact_immigration_...|\n",
      "| false|      false|              false|       false|     false|         false|false|false|    false|     false| false|  false|                false|             false|              false|fact_immigration_...|\n",
      "| false|      false|              false|       false|     false|         false|false|false|    false|     false| false|  false|                false|             false|              false|fact_immigration_...|\n",
      "| false|      false|              false|       false|     false|         false|false|false|    false|     false| false|  false|                false|             false|              false|fact_immigration_...|\n",
      "+------+-----------+-------------------+------------+----------+--------------+-----+-----+---------+----------+------+-------+---------------------+------------------+-------------------+--------------------+\n",
      "only showing top 5 rows\n",
      "\n",
      "Data Quality Checks passed for fact_immigration_table:\n",
      "+---------+-----------+-------------------+------------+----------+--------------+----+----+---------+----------+------+-------+---------------------+------------------+-------------------+--------------------+\n",
      "|   cic_id|arrive_date|origin_country_code|airport_code|state_code|departure_date|mode|visa|visa_type|occupation|gender|airline|airline_flight_number|date_of_birth_year|admission_id_number|               table|\n",
      "+---------+-----------+-------------------+------------+----------+--------------+----+----+---------+----------+------+-------+---------------------+------------------+-------------------+--------------------+\n",
      "|4084316.0| 2016-04-22|              209.0|         HHW|        HI|    2016-04-29| 1.0| 2.0|       WT|       NaN|     F|     JL|                00782|            1955.0|    5.6582674633E10|fact_immigration_...|\n",
      "|4422636.0| 2016-04-23|              582.0|         MCA|        TX|    2016-04-24| 1.0| 2.0|       B2|       NaN|     M|    *GA|                XBLNG|            1990.0|     9.436199593E10|fact_immigration_...|\n",
      "|1195600.0| 2016-04-07|              112.0|         OGG|        FL|    2016-04-27| 1.0| 2.0|       WT|       NaN|     M|     LH|                00464|            1940.0|    5.5780468433E10|fact_immigration_...|\n",
      "|5291768.0| 2016-04-28|              297.0|         LOS|        CA|    2016-05-07| 1.0| 2.0|       B2|       NaN|     M|     QR|                00739|            1991.0|     9.478969603E10|fact_immigration_...|\n",
      "| 985523.0| 2016-04-06|              111.0|         CHM|        NY|    2016-04-09| 3.0| 2.0|       WT|       NaN|     F|    NaN|                 LAND|            1997.0|    4.2322572633E10|fact_immigration_...|\n",
      "+---------+-----------+-------------------+------------+----------+--------------+----+----+---------+----------+------+-------+---------------------+------------------+-------------------+--------------------+\n",
      "only showing top 5 rows\n",
      "\n"
     ]
    },
    {
     "name": "stderr",
     "output_type": "stream",
     "text": [
      "                                                                                \r"
     ]
    },
    {
     "name": "stdout",
     "output_type": "stream",
     "text": [
      "Data Quality Checks passed for dimension_arrival_date_table:\n",
      "+------------+----------------+--------------+----------------+-----------+-------------+------------+--------------------+\n",
      "|arrival_date|arrival_iso_date|arrival_season|arrival_sas_date|arrival_day|arrival_month|arrival_year|               table|\n",
      "+------------+----------------+--------------+----------------+-----------+-------------+------------+--------------------+\n",
      "|       false|           false|         false|           false|      false|        false|       false|dimension_arrival...|\n",
      "|       false|           false|         false|           false|      false|        false|       false|dimension_arrival...|\n",
      "|       false|           false|         false|           false|      false|        false|       false|dimension_arrival...|\n",
      "|       false|           false|         false|           false|      false|        false|       false|dimension_arrival...|\n",
      "|       false|           false|         false|           false|      false|        false|       false|dimension_arrival...|\n",
      "+------------+----------------+--------------+----------------+-----------+-------------+------------+--------------------+\n",
      "only showing top 5 rows\n",
      "\n"
     ]
    },
    {
     "name": "stderr",
     "output_type": "stream",
     "text": [
      "                                                                                \r"
     ]
    },
    {
     "name": "stdout",
     "output_type": "stream",
     "text": [
      "Data Quality Checks passed for dimension_arrival_date_table:\n",
      "+------------+----------------+--------------+----------------+-----------+-------------+------------+--------------------+\n",
      "|arrival_date|arrival_iso_date|arrival_season|arrival_sas_date|arrival_day|arrival_month|arrival_year|               table|\n",
      "+------------+----------------+--------------+----------------+-----------+-------------+------------+--------------------+\n",
      "|  2016-04-22|       2016-16-5|             2|        20160422|         22|            4|        2016|dimension_arrival...|\n",
      "|  2016-04-23|       2016-16-6|             2|        20160423|         23|            4|        2016|dimension_arrival...|\n",
      "|  2016-04-07|       2016-14-4|             2|        20160407|          7|            4|        2016|dimension_arrival...|\n",
      "|  2016-04-28|       2016-17-4|             2|        20160428|         28|            4|        2016|dimension_arrival...|\n",
      "|  2016-04-06|       2016-14-3|             2|        20160406|          6|            4|        2016|dimension_arrival...|\n",
      "+------------+----------------+--------------+----------------+-----------+-------------+------------+--------------------+\n",
      "only showing top 5 rows\n",
      "\n"
     ]
    },
    {
     "name": "stderr",
     "output_type": "stream",
     "text": [
      "                                                                                \r"
     ]
    },
    {
     "name": "stdout",
     "output_type": "stream",
     "text": [
      "Data Quality Checks passed for dimension_arrival_date_table:\n",
      "+------------+----------------+--------------+----------------+-----------+-------------+------------+-----+--------------------+\n",
      "|arrival_date|arrival_iso_date|arrival_season|arrival_sas_date|arrival_day|arrival_month|arrival_year|count|               table|\n",
      "+------------+----------------+--------------+----------------+-----------+-------------+------------+-----+--------------------+\n",
      "|  2016-04-21|       2016-16-4|             2|        20160421|         21|            4|        2016|   35|dimension_arrival...|\n",
      "|  2016-04-19|       2016-16-2|             2|        20160419|         19|            4|        2016|   28|dimension_arrival...|\n",
      "|  2016-04-26|       2016-17-2|             2|        20160426|         26|            4|        2016|   27|dimension_arrival...|\n",
      "|  2016-04-04|       2016-14-1|             2|        20160404|          4|            4|        2016|   36|dimension_arrival...|\n",
      "|  2016-04-30|       2016-17-6|             2|        20160430|         30|            4|        2016|   51|dimension_arrival...|\n",
      "+------------+----------------+--------------+----------------+-----------+-------------+------------+-----+--------------------+\n",
      "only showing top 5 rows\n",
      "\n"
     ]
    },
    {
     "name": "stderr",
     "output_type": "stream",
     "text": [
      "23/12/29 04:37:30 WARN TaskSetManager: Stage 54 contains a task of very large size (1060 KiB). The maximum recommended task size is 1000 KiB.\n",
      "23/12/29 04:37:30 WARN TaskSetManager: Stage 57 contains a task of very large size (1060 KiB). The maximum recommended task size is 1000 KiB.\n",
      "23/12/29 04:37:31 WARN TaskSetManager: Stage 60 contains a task of very large size (1060 KiB). The maximum recommended task size is 1000 KiB.\n"
     ]
    },
    {
     "name": "stdout",
     "output_type": "stream",
     "text": [
      "Data Quality Checks passed for dimension_airports_table:\n",
      "+------------+------------+------------+----------+-----------+--------------------+\n",
      "|airport_code|airport_name|airport_type|local_code|coordinates|               table|\n",
      "+------------+------------+------------+----------+-----------+--------------------+\n",
      "|       false|       false|       false|     false|      false|dimension_airport...|\n",
      "|       false|       false|       false|     false|      false|dimension_airport...|\n",
      "|       false|       false|       false|     false|      false|dimension_airport...|\n",
      "|       false|       false|       false|     false|      false|dimension_airport...|\n",
      "|       false|       false|       false|     false|      false|dimension_airport...|\n",
      "+------------+------------+------------+----------+-----------+--------------------+\n",
      "only showing top 5 rows\n",
      "\n"
     ]
    },
    {
     "name": "stderr",
     "output_type": "stream",
     "text": [
      "23/12/29 04:37:31 WARN TaskSetManager: Stage 61 contains a task of very large size (1060 KiB). The maximum recommended task size is 1000 KiB.\n",
      "23/12/29 04:37:32 WARN TaskSetManager: Stage 64 contains a task of very large size (1060 KiB). The maximum recommended task size is 1000 KiB.\n",
      "23/12/29 04:37:33 WARN TaskSetManager: Stage 67 contains a task of very large size (1060 KiB). The maximum recommended task size is 1000 KiB.\n"
     ]
    },
    {
     "name": "stdout",
     "output_type": "stream",
     "text": [
      "Data Quality Checks passed for dimension_airports_table:\n",
      "+------------+--------------------+-------------+----------+--------------------+--------------------+\n",
      "|airport_code|        airport_name| airport_type|local_code|         coordinates|               table|\n",
      "+------------+--------------------+-------------+----------+--------------------+--------------------+\n",
      "|         NaN|   Total Rf Heliport|     heliport|       00A|-74.9336013793945...|dimension_airport...|\n",
      "|         NaN|Aero B Ranch Airport|small_airport|      00AA|-101.473911, 38.7...|dimension_airport...|\n",
      "|         NaN|        Lowell Field|small_airport|      00AK|-151.695999146, 5...|dimension_airport...|\n",
      "|         NaN|        Epps Airpark|small_airport|      00AL|-86.7703018188476...|dimension_airport...|\n",
      "|         NaN|Newport Hospital ...|       closed|       NaN| -91.254898, 35.6087|dimension_airport...|\n",
      "+------------+--------------------+-------------+----------+--------------------+--------------------+\n",
      "only showing top 5 rows\n",
      "\n"
     ]
    },
    {
     "name": "stderr",
     "output_type": "stream",
     "text": [
      "23/12/29 04:37:33 WARN TaskSetManager: Stage 68 contains a task of very large size (1060 KiB). The maximum recommended task size is 1000 KiB.\n",
      "23/12/29 04:37:35 WARN TaskSetManager: Stage 74 contains a task of very large size (1060 KiB). The maximum recommended task size is 1000 KiB.\n",
      "23/12/29 04:37:37 WARN TaskSetManager: Stage 80 contains a task of very large size (1060 KiB). The maximum recommended task size is 1000 KiB.\n"
     ]
    },
    {
     "name": "stdout",
     "output_type": "stream",
     "text": [
      "Data Quality Checks passed for dimension_airports_table:\n"
     ]
    },
    {
     "name": "stderr",
     "output_type": "stream",
     "text": [
      "                                                                                \r"
     ]
    },
    {
     "name": "stdout",
     "output_type": "stream",
     "text": [
      "+------------+--------------------+-------------+----------+--------------------+-----+--------------------+\n",
      "|airport_code|        airport_name| airport_type|local_code|         coordinates|count|               table|\n",
      "+------------+--------------------+-------------+----------+--------------------+-----+--------------------+\n",
      "|         NaN|       Utai Airstrip|small_airport|      UTAI|    141.5868, -3.386|    2|dimension_airport...|\n",
      "|         NaN|              delete|       closed|       NaN|                0, 0|    4|dimension_airport...|\n",
      "|         NaN|    Fazenda Colorado|small_airport|       NaN|-44.799444, -9.25...|    3|dimension_airport...|\n",
      "|         NaN|    Martin's Landing|small_airport|      CML5| -89.543002, 48.2936|    2|dimension_airport...|\n",
      "|         RMD|Basanth Nagar Air...|small_airport|       NaN|     79.3923, 18.701|    2|dimension_airport...|\n",
      "+------------+--------------------+-------------+----------+--------------------+-----+--------------------+\n",
      "only showing top 5 rows\n",
      "\n"
     ]
    },
    {
     "name": "stderr",
     "output_type": "stream",
     "text": [
      "                                                                                \r"
     ]
    },
    {
     "name": "stdout",
     "output_type": "stream",
     "text": [
      "Data Quality Checks passed for dimension_demographics_table:\n",
      "+----------+-----+---------------+-----------------+----------------+----------+------------------+----------------------+-----------+--------------------+\n",
      "|state_code| city|male_population|female_population|total_population|median_age|number_of_veterans|average_household_size|total_count|               table|\n",
      "+----------+-----+---------------+-----------------+----------------+----------+------------------+----------------------+-----------+--------------------+\n",
      "|     false|false|          false|            false|           false|     false|             false|                 false|      false|dimension_demogra...|\n",
      "|     false|false|          false|            false|           false|     false|             false|                 false|      false|dimension_demogra...|\n",
      "|     false|false|          false|            false|           false|     false|             false|                 false|      false|dimension_demogra...|\n",
      "|     false|false|          false|            false|           false|     false|             false|                 false|      false|dimension_demogra...|\n",
      "|     false|false|          false|            false|           false|     false|             false|                 false|      false|dimension_demogra...|\n",
      "+----------+-----+---------------+-----------------+----------------+----------+------------------+----------------------+-----------+--------------------+\n",
      "only showing top 5 rows\n",
      "\n"
     ]
    },
    {
     "name": "stderr",
     "output_type": "stream",
     "text": [
      "                                                                                \r"
     ]
    },
    {
     "name": "stdout",
     "output_type": "stream",
     "text": [
      "Data Quality Checks passed for dimension_demographics_table:\n",
      "+----------+----------------+---------------+-----------------+----------------+----------+------------------+----------------------+-----------+--------------------+\n",
      "|state_code|            city|male_population|female_population|total_population|median_age|number_of_veterans|average_household_size|total_count|               table|\n",
      "+----------+----------------+---------------+-----------------+----------------+----------+------------------+----------------------+-----------+--------------------+\n",
      "|        MD|   Silver Spring|        40601.0|          41862.0|           82463|      33.8|            1562.0|                   2.6|      25924|dimension_demogra...|\n",
      "|        MA|          Quincy|        44129.0|          49500.0|           93629|      41.0|            4147.0|                  2.39|      58723|dimension_demogra...|\n",
      "|        AL|          Hoover|        38040.0|          46799.0|           84839|      38.5|            4819.0|                  2.58|       4759|dimension_demogra...|\n",
      "|        CA|Rancho Cucamonga|        88127.0|          87105.0|          175232|      34.5|            5821.0|                  3.18|      24437|dimension_demogra...|\n",
      "|        NJ|          Newark|       138040.0|         143873.0|          281913|      34.6|            5829.0|                  2.73|      76402|dimension_demogra...|\n",
      "+----------+----------------+---------------+-----------------+----------------+----------+------------------+----------------------+-----------+--------------------+\n",
      "only showing top 5 rows\n",
      "\n"
     ]
    },
    {
     "name": "stderr",
     "output_type": "stream",
     "text": [
      "                                                                                \r"
     ]
    }
   ],
   "source": [
    "from pyspark.sql import SparkSession\n",
    "from pyspark.sql.functions import col, lit\n",
    "\n",
    "# Initialize Spark session with increased memory settings\n",
    "spark = SparkSession.builder \\\n",
    "    .appName(\"DataQualityChecks\") \\\n",
    "    .config(\"spark.executor.memory\", \"4g\") \\\n",
    "    .config(\"spark.driver.memory\", \"4g\") \\\n",
    "    .getOrCreate()\n",
    "\n",
    "# Load the fact and dimension tables\n",
    "dq_fact_immigration_table = spark.table(\"fact_immigration_table\")\n",
    "dq_dimension_arrival_date_table = spark.table(\"dimension_arrival_date_table\")\n",
    "dq_dimension_airports_table = spark.table(\"dimension_airports_table\")\n",
    "dq_dimension_demographics_table = spark.table(\"dimension_demographics_table\")\n",
    "#dq_dimension_countries_temperature_table = spark.table(\"dimension_countries_temperature_table\")\n",
    "\n",
    "# Data Quality Checks\n",
    "\n",
    "# 1. Check for Missing Values\n",
    "missing_values_check = lambda df, table_name: df.select([col(c).isNull().alias(c) for c in df.columns]) \\\n",
    "    .withColumn('table', lit(table_name)).limit(100)  # Adjust the limit as needed\n",
    "\n",
    "# 2. Check Data Types\n",
    "data_types_check = lambda df, table_name: df.select([col(c).cast(\"string\").alias(c) for c in df.columns]) \\\n",
    "    .withColumn('table', lit(table_name)).limit(100)  # Adjust the limit as needed\n",
    "\n",
    "# 3. Duplicate Records\n",
    "duplicate_records_check = lambda df, table_name: df.groupBy(df.columns).count().filter(col(\"count\") > 1) \\\n",
    "    .withColumn('table', lit(table_name)).limit(100)  # Adjust the limit as needed\n",
    "\n",
    "# 4. Referential Integrity\n",
    "referential_integrity_check = dq_fact_immigration_table.join(dq_dimension_arrival_date_table,\n",
    "                                                             dq_fact_immigration_table[\"arrive_date\"] == dq_dimension_arrival_date_table[\"arrival_date\"], \"left\") \\\n",
    "    .filter(dq_dimension_arrival_date_table[\"arrival_date\"].isNull()) \\\n",
    "    .withColumn('table', lit(\"fact_immigration_table\")).limit(100)  # Adjust the limit as needed\n",
    "\n",
    "# 5. Data Distribution\n",
    "data_distribution_check = lambda df, column: df.groupBy(column).count() \\\n",
    "    .withColumn('table', lit(df.columns[0])).limit(100)  # Adjust the limit as needed\n",
    "\n",
    "# Example: Check distribution of ages in demographics table\n",
    "age_distribution_check = data_distribution_check(dq_dimension_demographics_table, \"median_age\")\n",
    "\n",
    "# Execute Data Quality Checks\n",
    "data_quality_checks_results = []\n",
    "\n",
    "# Perform checks on each table\n",
    "for table_df, table_name in [\n",
    "    (dq_fact_immigration_table, \"fact_immigration_table\"),\n",
    "    (dq_dimension_arrival_date_table, \"dimension_arrival_date_table\"),\n",
    "    (dq_dimension_airports_table, \"dimension_airports_table\"),\n",
    "    (dq_dimension_demographics_table, \"dimension_demographics_table\")\n",
    "    #,(dq_dimension_countries_temperature_table, \"dimension_countries_temperature_table\")\n",
    "]:\n",
    "    # 1. Check for Missing Values\n",
    "    missing_values_result = missing_values_check(table_df, table_name)\n",
    "    data_quality_checks_results.append(missing_values_result)\n",
    "\n",
    "    # 2. Check Data Types\n",
    "    data_types_result = data_types_check(table_df, table_name)\n",
    "    data_quality_checks_results.append(data_types_result)\n",
    "\n",
    "    # 3. Duplicate Records\n",
    "    duplicate_records_result = duplicate_records_check(table_df, table_name)\n",
    "    data_quality_checks_results.append(duplicate_records_result)\n",
    "\n",
    "# Display Results\n",
    "for result_df in data_quality_checks_results:\n",
    "    # Check if there are any issues before displaying\n",
    "    if result_df.count() > 0:\n",
    "        table_name = result_df.select('table').distinct().collect()[0]['table']\n",
    "        print(f\"Data Quality Checks passed for {table_name}:\")\n",
    "        result_df.show(5)\n",
    "\n",
    "# Stop Spark session\n",
    "spark.stop()\n"
   ]
  },
  {
   "cell_type": "code",
   "execution_count": null,
   "metadata": {
    "_cell_guid": "02ebf0e3-bc53-4a3b-b2a0-a435f964b3ff",
    "_uuid": "33b09930-12ae-4e72-b9fc-f6680acadce4",
    "jupyter": {
     "outputs_hidden": false
    }
   },
   "outputs": [],
   "source": []
  },
  {
   "cell_type": "code",
   "execution_count": null,
   "metadata": {
    "_cell_guid": "ce0ecd8f-2585-4f3c-9397-98893fba8bb6",
    "_uuid": "8f9679cd-10ab-435b-81ae-d418fa4be76b",
    "jupyter": {
     "outputs_hidden": false
    }
   },
   "outputs": [],
   "source": []
  },
  {
   "cell_type": "code",
   "execution_count": null,
   "metadata": {
    "_cell_guid": "7ceae11b-0e7a-460b-b0ca-c339d6f2f2a6",
    "_uuid": "2848ea7f-b826-47b9-8338-13dfec9743e6",
    "jupyter": {
     "outputs_hidden": false
    }
   },
   "outputs": [],
   "source": []
  },
  {
   "cell_type": "code",
   "execution_count": null,
   "metadata": {
    "_cell_guid": "d0ea9116-8427-4493-a827-8d9da966c45c",
    "_uuid": "902f1ba6-deb2-4148-b292-b53efb435767",
    "jupyter": {
     "outputs_hidden": false
    }
   },
   "outputs": [],
   "source": []
  },
  {
   "cell_type": "code",
   "execution_count": null,
   "metadata": {
    "_cell_guid": "a62e1d25-eee7-49b9-b8bc-9b675dae4214",
    "_uuid": "98418552-d3de-4b26-a0a0-59876066eb8e",
    "jupyter": {
     "outputs_hidden": false
    }
   },
   "outputs": [],
   "source": []
  },
  {
   "cell_type": "code",
   "execution_count": null,
   "metadata": {
    "_cell_guid": "ce678797-d682-491e-9f84-5a0240f89bfa",
    "_uuid": "b9b2ea80-c95a-43af-aea1-70e84a28c1bc",
    "jupyter": {
     "outputs_hidden": false
    }
   },
   "outputs": [],
   "source": []
  },
  {
   "cell_type": "code",
   "execution_count": null,
   "metadata": {
    "_cell_guid": "f0b508a4-2c51-4750-a422-2c4921d26db6",
    "_uuid": "3f4c7472-ce7c-45e3-9fd1-924b945366a5",
    "jupyter": {
     "outputs_hidden": false
    }
   },
   "outputs": [],
   "source": []
  },
  {
   "cell_type": "code",
   "execution_count": null,
   "metadata": {
    "_cell_guid": "bde71211-7dc2-4aac-bb14-5d2b10f831b1",
    "_uuid": "46832a3c-5bf9-4bb6-a249-0c4f462d2741",
    "jupyter": {
     "outputs_hidden": false
    }
   },
   "outputs": [],
   "source": []
  },
  {
   "cell_type": "code",
   "execution_count": null,
   "metadata": {
    "_cell_guid": "4560a018-670e-4f0b-a5d8-e33fe7d6030c",
    "_uuid": "6715c9ae-4700-4f9e-a08d-77ede91190c9",
    "jupyter": {
     "outputs_hidden": false
    }
   },
   "outputs": [],
   "source": []
  },
  {
   "cell_type": "code",
   "execution_count": null,
   "metadata": {
    "_cell_guid": "fb7f46c4-92e5-46d1-803a-230bfd1c1bbd",
    "_uuid": "c73f7f54-9322-4225-b4d2-c04e81680de8",
    "jupyter": {
     "outputs_hidden": false
    }
   },
   "outputs": [],
   "source": []
  }
 ],
 "metadata": {
  "kaggle": {
   "accelerator": "none",
   "dataSources": [
    {
     "databundleVersionId": 7390611,
     "datasetId": 4189817,
     "sourceId": 7300650,
     "sourceType": "datasetVersion"
    }
   ],
   "dockerImageVersionId": 30626,
   "isGpuEnabled": false,
   "isInternetEnabled": true,
   "language": "python",
   "sourceType": "notebook"
  },
  "kernelspec": {
   "display_name": "Python 3",
   "language": "python",
   "name": "python3"
  },
  "language_info": {
   "codemirror_mode": {
    "name": "ipython",
    "version": 3
   },
   "file_extension": ".py",
   "mimetype": "text/x-python",
   "name": "python",
   "nbconvert_exporter": "python",
   "pygments_lexer": "ipython3",
   "version": "3.6.3"
  }
 },
 "nbformat": 4,
 "nbformat_minor": 4
}
